{
 "cells": [
  {
   "cell_type": "markdown",
   "metadata": {},
   "source": [
    "# Sprawdzanie środowiska"
   ]
  },
  {
   "cell_type": "code",
   "execution_count": 1,
   "metadata": {},
   "outputs": [
    {
     "name": "stdout",
     "output_type": "stream",
     "text": [
      "3.7.0\n"
     ]
    }
   ],
   "source": [
    "from platform import python_version\n",
    "\n",
    "print(python_version())"
   ]
  },
  {
   "cell_type": "markdown",
   "metadata": {},
   "source": [
    "# Załadowanie danych"
   ]
  },
  {
   "cell_type": "code",
   "execution_count": 2,
   "metadata": {},
   "outputs": [
    {
     "name": "stderr",
     "output_type": "stream",
     "text": [
      "Using TensorFlow backend.\n"
     ]
    }
   ],
   "source": [
    "import numpy\n",
    "import pandas as pd\n",
    "import matplotlib.pyplot as plt\n",
    "import seaborn as sns\n",
    "import tensorflow as tf\n",
    "import math\n",
    "from keras.models import Sequential\n",
    "from keras.layers import Dense\n",
    "from keras.layers import LSTM\n",
    "from sklearn.preprocessing import MinMaxScaler\n",
    "from sklearn.metrics import mean_squared_error\n",
    "from keras.layers.embeddings import Embedding\n",
    "from keras.preprocessing import sequence\n",
    "from sklearn.model_selection import StratifiedKFold\n",
    "from keras.utils import to_categorical\n",
    "\n",
    "# fix random bo tak ( ͡° ͜ʖ ͡°)\n",
    "odp = 42\n",
    "numpy.random.seed(odp)"
   ]
  },
  {
   "cell_type": "code",
   "execution_count": 3,
   "metadata": {},
   "outputs": [
    {
     "name": "stdout",
     "output_type": "stream",
     "text": [
      "total 6632\r\n",
      "-rw-r--r-- 1 torak28 torak28 1076355 Oct 18 12:15 easy.csv\r\n",
      "-rw-r--r-- 1 torak28 torak28 2924235 Oct 18 12:15 hard.csv\r\n",
      "-rw-r--r-- 1 torak28 torak28 2787990 Oct 18 12:15 medium.csv\r\n"
     ]
    }
   ],
   "source": [
    "%ls -l data"
   ]
  },
  {
   "cell_type": "code",
   "execution_count": 4,
   "metadata": {},
   "outputs": [],
   "source": [
    "df = pd.read_csv(\"data//easy.csv\")"
   ]
  },
  {
   "cell_type": "code",
   "execution_count": 5,
   "metadata": {},
   "outputs": [
    {
     "data": {
      "text/html": [
       "<div>\n",
       "<style scoped>\n",
       "    .dataframe tbody tr th:only-of-type {\n",
       "        vertical-align: middle;\n",
       "    }\n",
       "\n",
       "    .dataframe tbody tr th {\n",
       "        vertical-align: top;\n",
       "    }\n",
       "\n",
       "    .dataframe thead th {\n",
       "        text-align: right;\n",
       "    }\n",
       "</style>\n",
       "<table border=\"1\" class=\"dataframe\">\n",
       "  <thead>\n",
       "    <tr style=\"text-align: right;\">\n",
       "      <th></th>\n",
       "      <th>time</th>\n",
       "      <th>android.sensor.accelerometer#mean</th>\n",
       "      <th>android.sensor.accelerometer#min</th>\n",
       "      <th>android.sensor.accelerometer#max</th>\n",
       "      <th>android.sensor.accelerometer#std</th>\n",
       "      <th>android.sensor.gyroscope#mean</th>\n",
       "      <th>android.sensor.gyroscope#min</th>\n",
       "      <th>android.sensor.gyroscope#max</th>\n",
       "      <th>android.sensor.gyroscope#std</th>\n",
       "      <th>sound#mean</th>\n",
       "      <th>sound#min</th>\n",
       "      <th>sound#max</th>\n",
       "      <th>sound#std</th>\n",
       "      <th>target</th>\n",
       "    </tr>\n",
       "  </thead>\n",
       "  <tbody>\n",
       "    <tr>\n",
       "      <th>0</th>\n",
       "      <td>78.0</td>\n",
       "      <td>9.811476</td>\n",
       "      <td>9.758895</td>\n",
       "      <td>9.849411</td>\n",
       "      <td>0.014626</td>\n",
       "      <td>0.001651</td>\n",
       "      <td>0.000000</td>\n",
       "      <td>0.003533</td>\n",
       "      <td>0.000737</td>\n",
       "      <td>0.000000</td>\n",
       "      <td>0.000000</td>\n",
       "      <td>0.000000</td>\n",
       "      <td>0.000000</td>\n",
       "      <td>Still</td>\n",
       "    </tr>\n",
       "    <tr>\n",
       "      <th>1</th>\n",
       "      <td>145.0</td>\n",
       "      <td>9.939207</td>\n",
       "      <td>7.707437</td>\n",
       "      <td>17.146631</td>\n",
       "      <td>1.775944</td>\n",
       "      <td>0.036326</td>\n",
       "      <td>0.011669</td>\n",
       "      <td>0.059388</td>\n",
       "      <td>0.020290</td>\n",
       "      <td>89.200210</td>\n",
       "      <td>89.065143</td>\n",
       "      <td>89.335277</td>\n",
       "      <td>0.191013</td>\n",
       "      <td>Car</td>\n",
       "    </tr>\n",
       "    <tr>\n",
       "      <th>2</th>\n",
       "      <td>150.0</td>\n",
       "      <td>9.827178</td>\n",
       "      <td>9.804817</td>\n",
       "      <td>9.849262</td>\n",
       "      <td>0.011199</td>\n",
       "      <td>0.001525</td>\n",
       "      <td>0.000000</td>\n",
       "      <td>0.002609</td>\n",
       "      <td>0.000713</td>\n",
       "      <td>0.000000</td>\n",
       "      <td>0.000000</td>\n",
       "      <td>0.000000</td>\n",
       "      <td>0.000000</td>\n",
       "      <td>Still</td>\n",
       "    </tr>\n",
       "    <tr>\n",
       "      <th>3</th>\n",
       "      <td>105.0</td>\n",
       "      <td>9.673039</td>\n",
       "      <td>7.659674</td>\n",
       "      <td>12.304298</td>\n",
       "      <td>0.862553</td>\n",
       "      <td>0.036440</td>\n",
       "      <td>0.020463</td>\n",
       "      <td>0.052512</td>\n",
       "      <td>0.010553</td>\n",
       "      <td>87.470377</td>\n",
       "      <td>87.470377</td>\n",
       "      <td>87.470377</td>\n",
       "      <td>2.284186</td>\n",
       "      <td>Car</td>\n",
       "    </tr>\n",
       "    <tr>\n",
       "      <th>4</th>\n",
       "      <td>77.0</td>\n",
       "      <td>9.993466</td>\n",
       "      <td>8.965621</td>\n",
       "      <td>10.891645</td>\n",
       "      <td>0.504117</td>\n",
       "      <td>0.183202</td>\n",
       "      <td>0.020667</td>\n",
       "      <td>0.380875</td>\n",
       "      <td>0.098819</td>\n",
       "      <td>89.770732</td>\n",
       "      <td>89.770732</td>\n",
       "      <td>89.770732</td>\n",
       "      <td>0.006389</td>\n",
       "      <td>Car</td>\n",
       "    </tr>\n",
       "  </tbody>\n",
       "</table>\n",
       "</div>"
      ],
      "text/plain": [
       "    time  android.sensor.accelerometer#mean  android.sensor.accelerometer#min  \\\n",
       "0   78.0                           9.811476                          9.758895   \n",
       "1  145.0                           9.939207                          7.707437   \n",
       "2  150.0                           9.827178                          9.804817   \n",
       "3  105.0                           9.673039                          7.659674   \n",
       "4   77.0                           9.993466                          8.965621   \n",
       "\n",
       "   android.sensor.accelerometer#max  android.sensor.accelerometer#std  \\\n",
       "0                          9.849411                          0.014626   \n",
       "1                         17.146631                          1.775944   \n",
       "2                          9.849262                          0.011199   \n",
       "3                         12.304298                          0.862553   \n",
       "4                         10.891645                          0.504117   \n",
       "\n",
       "   android.sensor.gyroscope#mean  android.sensor.gyroscope#min  \\\n",
       "0                       0.001651                      0.000000   \n",
       "1                       0.036326                      0.011669   \n",
       "2                       0.001525                      0.000000   \n",
       "3                       0.036440                      0.020463   \n",
       "4                       0.183202                      0.020667   \n",
       "\n",
       "   android.sensor.gyroscope#max  android.sensor.gyroscope#std  sound#mean  \\\n",
       "0                      0.003533                      0.000737    0.000000   \n",
       "1                      0.059388                      0.020290   89.200210   \n",
       "2                      0.002609                      0.000713    0.000000   \n",
       "3                      0.052512                      0.010553   87.470377   \n",
       "4                      0.380875                      0.098819   89.770732   \n",
       "\n",
       "   sound#min  sound#max  sound#std target  \n",
       "0   0.000000   0.000000   0.000000  Still  \n",
       "1  89.065143  89.335277   0.191013    Car  \n",
       "2   0.000000   0.000000   0.000000  Still  \n",
       "3  87.470377  87.470377   2.284186    Car  \n",
       "4  89.770732  89.770732   0.006389    Car  "
      ]
     },
     "execution_count": 5,
     "metadata": {},
     "output_type": "execute_result"
    }
   ],
   "source": [
    "df.head()"
   ]
  },
  {
   "cell_type": "code",
   "execution_count": 6,
   "metadata": {},
   "outputs": [
    {
     "data": {
      "text/plain": [
       "(5893, 14)"
      ]
     },
     "execution_count": 6,
     "metadata": {},
     "output_type": "execute_result"
    }
   ],
   "source": [
    "'''\n",
    "Wygląd danych:\n",
    "\n",
    "|     Nazwa     | Ilość pól |\n",
    "| :-----------: | :-------: |\n",
    "|     time      |     1     |\n",
    "| accelerometer |     4     |\n",
    "|   gyroscope   |     4     |\n",
    "|     sound     |     4     |\n",
    "|    target     |     1     |\n",
    "\n",
    "Suma: 14\n",
    "\n",
    "'''\n",
    "\n",
    "\n",
    "df.shape"
   ]
  },
  {
   "cell_type": "markdown",
   "metadata": {},
   "source": [
    "# Obróbka danych"
   ]
  },
  {
   "cell_type": "code",
   "execution_count": 7,
   "metadata": {},
   "outputs": [
    {
     "data": {
      "text/plain": [
       "array(['Still', 'Car', 'Train', 'Bus', 'Walking'], dtype=object)"
      ]
     },
     "execution_count": 7,
     "metadata": {},
     "output_type": "execute_result"
    }
   ],
   "source": [
    "'''\n",
    "Zmiana targetu na liczby:\n",
    "\n",
    "0 - Still\n",
    "1 - Car\n",
    "2 - Train\n",
    "3 - Bus\n",
    "4 - Walking\n",
    "'''\n",
    "df.target.unique()"
   ]
  },
  {
   "cell_type": "code",
   "execution_count": 8,
   "metadata": {},
   "outputs": [],
   "source": [
    "df = df.replace({'target':'Still'},{'target':0})\n",
    "df = df.replace({'target':'Car'},{'target':1})\n",
    "df = df.replace({'target':'Train'},{'target':2})\n",
    "df = df.replace({'target':'Bus'},{'target':3})\n",
    "df = df.replace({'target':'Walking'},{'target':4})"
   ]
  },
  {
   "cell_type": "code",
   "execution_count": 9,
   "metadata": {},
   "outputs": [],
   "source": [
    "'''\n",
    "Podział danych z całego df na X i y:\n",
    "\n",
    "X - wszystko oprócz targetu(time, accelerometer,gyroscope, sound) \n",
    "y - target\n",
    "'''\n",
    "\n",
    "X, y = df.iloc[:, 0:-1], df.iloc[:, -1]"
   ]
  },
  {
   "cell_type": "code",
   "execution_count": 10,
   "metadata": {},
   "outputs": [
    {
     "data": {
      "text/html": [
       "<div>\n",
       "<style scoped>\n",
       "    .dataframe tbody tr th:only-of-type {\n",
       "        vertical-align: middle;\n",
       "    }\n",
       "\n",
       "    .dataframe tbody tr th {\n",
       "        vertical-align: top;\n",
       "    }\n",
       "\n",
       "    .dataframe thead th {\n",
       "        text-align: right;\n",
       "    }\n",
       "</style>\n",
       "<table border=\"1\" class=\"dataframe\">\n",
       "  <thead>\n",
       "    <tr style=\"text-align: right;\">\n",
       "      <th></th>\n",
       "      <th>time</th>\n",
       "      <th>android.sensor.accelerometer#mean</th>\n",
       "      <th>android.sensor.accelerometer#min</th>\n",
       "      <th>android.sensor.accelerometer#max</th>\n",
       "      <th>android.sensor.accelerometer#std</th>\n",
       "      <th>android.sensor.gyroscope#mean</th>\n",
       "      <th>android.sensor.gyroscope#min</th>\n",
       "      <th>android.sensor.gyroscope#max</th>\n",
       "      <th>android.sensor.gyroscope#std</th>\n",
       "      <th>sound#mean</th>\n",
       "      <th>sound#min</th>\n",
       "      <th>sound#max</th>\n",
       "      <th>sound#std</th>\n",
       "      <th>target</th>\n",
       "    </tr>\n",
       "  </thead>\n",
       "  <tbody>\n",
       "    <tr>\n",
       "      <th>0</th>\n",
       "      <td>78.0</td>\n",
       "      <td>9.811476</td>\n",
       "      <td>9.758895</td>\n",
       "      <td>9.849411</td>\n",
       "      <td>0.014626</td>\n",
       "      <td>0.001651</td>\n",
       "      <td>0.000000</td>\n",
       "      <td>0.003533</td>\n",
       "      <td>0.000737</td>\n",
       "      <td>0.000000</td>\n",
       "      <td>0.000000</td>\n",
       "      <td>0.000000</td>\n",
       "      <td>0.000000</td>\n",
       "      <td>0</td>\n",
       "    </tr>\n",
       "    <tr>\n",
       "      <th>1</th>\n",
       "      <td>145.0</td>\n",
       "      <td>9.939207</td>\n",
       "      <td>7.707437</td>\n",
       "      <td>17.146631</td>\n",
       "      <td>1.775944</td>\n",
       "      <td>0.036326</td>\n",
       "      <td>0.011669</td>\n",
       "      <td>0.059388</td>\n",
       "      <td>0.020290</td>\n",
       "      <td>89.200210</td>\n",
       "      <td>89.065143</td>\n",
       "      <td>89.335277</td>\n",
       "      <td>0.191013</td>\n",
       "      <td>1</td>\n",
       "    </tr>\n",
       "    <tr>\n",
       "      <th>2</th>\n",
       "      <td>150.0</td>\n",
       "      <td>9.827178</td>\n",
       "      <td>9.804817</td>\n",
       "      <td>9.849262</td>\n",
       "      <td>0.011199</td>\n",
       "      <td>0.001525</td>\n",
       "      <td>0.000000</td>\n",
       "      <td>0.002609</td>\n",
       "      <td>0.000713</td>\n",
       "      <td>0.000000</td>\n",
       "      <td>0.000000</td>\n",
       "      <td>0.000000</td>\n",
       "      <td>0.000000</td>\n",
       "      <td>0</td>\n",
       "    </tr>\n",
       "    <tr>\n",
       "      <th>3</th>\n",
       "      <td>105.0</td>\n",
       "      <td>9.673039</td>\n",
       "      <td>7.659674</td>\n",
       "      <td>12.304298</td>\n",
       "      <td>0.862553</td>\n",
       "      <td>0.036440</td>\n",
       "      <td>0.020463</td>\n",
       "      <td>0.052512</td>\n",
       "      <td>0.010553</td>\n",
       "      <td>87.470377</td>\n",
       "      <td>87.470377</td>\n",
       "      <td>87.470377</td>\n",
       "      <td>2.284186</td>\n",
       "      <td>1</td>\n",
       "    </tr>\n",
       "    <tr>\n",
       "      <th>4</th>\n",
       "      <td>77.0</td>\n",
       "      <td>9.993466</td>\n",
       "      <td>8.965621</td>\n",
       "      <td>10.891645</td>\n",
       "      <td>0.504117</td>\n",
       "      <td>0.183202</td>\n",
       "      <td>0.020667</td>\n",
       "      <td>0.380875</td>\n",
       "      <td>0.098819</td>\n",
       "      <td>89.770732</td>\n",
       "      <td>89.770732</td>\n",
       "      <td>89.770732</td>\n",
       "      <td>0.006389</td>\n",
       "      <td>1</td>\n",
       "    </tr>\n",
       "  </tbody>\n",
       "</table>\n",
       "</div>"
      ],
      "text/plain": [
       "    time  android.sensor.accelerometer#mean  android.sensor.accelerometer#min  \\\n",
       "0   78.0                           9.811476                          9.758895   \n",
       "1  145.0                           9.939207                          7.707437   \n",
       "2  150.0                           9.827178                          9.804817   \n",
       "3  105.0                           9.673039                          7.659674   \n",
       "4   77.0                           9.993466                          8.965621   \n",
       "\n",
       "   android.sensor.accelerometer#max  android.sensor.accelerometer#std  \\\n",
       "0                          9.849411                          0.014626   \n",
       "1                         17.146631                          1.775944   \n",
       "2                          9.849262                          0.011199   \n",
       "3                         12.304298                          0.862553   \n",
       "4                         10.891645                          0.504117   \n",
       "\n",
       "   android.sensor.gyroscope#mean  android.sensor.gyroscope#min  \\\n",
       "0                       0.001651                      0.000000   \n",
       "1                       0.036326                      0.011669   \n",
       "2                       0.001525                      0.000000   \n",
       "3                       0.036440                      0.020463   \n",
       "4                       0.183202                      0.020667   \n",
       "\n",
       "   android.sensor.gyroscope#max  android.sensor.gyroscope#std  sound#mean  \\\n",
       "0                      0.003533                      0.000737    0.000000   \n",
       "1                      0.059388                      0.020290   89.200210   \n",
       "2                      0.002609                      0.000713    0.000000   \n",
       "3                      0.052512                      0.010553   87.470377   \n",
       "4                      0.380875                      0.098819   89.770732   \n",
       "\n",
       "   sound#min  sound#max  sound#std  target  \n",
       "0   0.000000   0.000000   0.000000       0  \n",
       "1  89.065143  89.335277   0.191013       1  \n",
       "2   0.000000   0.000000   0.000000       0  \n",
       "3  87.470377  87.470377   2.284186       1  \n",
       "4  89.770732  89.770732   0.006389       1  "
      ]
     },
     "execution_count": 10,
     "metadata": {},
     "output_type": "execute_result"
    }
   ],
   "source": [
    "df.head()"
   ]
  },
  {
   "cell_type": "markdown",
   "metadata": {},
   "source": [
    "# Podział na dane testowe i treningowe"
   ]
  },
  {
   "cell_type": "code",
   "execution_count": 11,
   "metadata": {},
   "outputs": [],
   "source": [
    "# 20% danych do testów\n",
    "kf = StratifiedKFold(n_splits = 5, shuffle = True, random_state = odp)\n",
    "result = next(kf.split(X, y))\n",
    "\n",
    "'''\n",
    "Podział danych z całego df na podstawie splitu\n",
    "\n",
    "train - 80% danych(4714)\n",
    "test  - 20% danych(1179)\n",
    "'''\n",
    "train = df.iloc[result[0]]\n",
    "test =  df.iloc[result[1]]\n",
    "\n",
    "'''\n",
    "Podział na X_train, y_train, X_test, y_test\n",
    "\n",
    "X_train, X_test - bez 'targetu'\n",
    "y_train, y_test - sam 'target' dla X_train, X_test\n",
    "'''\n",
    "X_train = train.drop('target', axis = 1)\n",
    "y_train = train.target\n",
    "\n",
    "X_test = test.drop('target', axis = 1)\n",
    "y_test = test.target"
   ]
  },
  {
   "cell_type": "code",
   "execution_count": 12,
   "metadata": {},
   "outputs": [
    {
     "name": "stdout",
     "output_type": "stream",
     "text": [
      "Kształt danych:\n",
      "\t df: (5893, 14)\n",
      "\t X_train: (4714, 13)\n",
      "\t y_train: (4714,)\n",
      "\t X_test: (1179, 13)\n",
      "\t y_test: (1179,)\n"
     ]
    }
   ],
   "source": [
    "print(f'Kształt danych:')\n",
    "print(f'\\t df: {df.shape}')\n",
    "\n",
    "print(f'\\t X_train: {X_train.shape}')\n",
    "print(f'\\t y_train: {y_train.shape}')\n",
    "\n",
    "print(f'\\t X_test: {X_test.shape}')\n",
    "print(f'\\t y_test: {y_test.shape}')"
   ]
  },
  {
   "cell_type": "code",
   "execution_count": 13,
   "metadata": {},
   "outputs": [],
   "source": [
    "# Konwersja danych z pandas dataframe do numpy\n",
    "\n",
    "df = df.to_numpy()\n",
    "\n",
    "X_train = X_train.to_numpy()\n",
    "y_train = y_train.to_numpy()\n",
    "\n",
    "X_test = X_test.to_numpy()\n",
    "y_test = y_test.to_numpy()"
   ]
  },
  {
   "cell_type": "code",
   "execution_count": 14,
   "metadata": {},
   "outputs": [],
   "source": [
    "# Upewnienie się że dane w X_train i X_test są floatem - lepsze dla klasyfikatora\n",
    "\n",
    "X_train = X_train.astype('float32')\n",
    "X_test = X_test.astype('float32')"
   ]
  },
  {
   "cell_type": "code",
   "execution_count": 15,
   "metadata": {},
   "outputs": [],
   "source": [
    "num_classes = 5\n",
    "\n",
    "# Potrzebne na przysłość - zapis dla macierzy konfuzji\n",
    "y_test_sav = y_test\n",
    "\n",
    "# Zamiana wpisu z [1] na [0, 1, 0, 0, 0]\n",
    "y_train = to_categorical(y_train, num_classes)\n",
    "y_test = to_categorical(y_test, num_classes)"
   ]
  },
  {
   "cell_type": "code",
   "execution_count": 16,
   "metadata": {},
   "outputs": [],
   "source": [
    "# Upewnienie się że dane w y_train i y_test są floatem - lepsze dla klasyfikatora\n",
    "\n",
    "y_train = y_train.astype('float32')\n",
    "y_test = y_test.astype('float32')"
   ]
  },
  {
   "cell_type": "code",
   "execution_count": 17,
   "metadata": {},
   "outputs": [
    {
     "name": "stdout",
     "output_type": "stream",
     "text": [
      "Kształt danych:\n",
      "\t df: (5893, 14)\n",
      "\t X_train: (4714, 13)\n",
      "\t y_train: (4714, 5)\n",
      "\t X_test: (1179, 13)\n",
      "\t y_test: (1179, 5)\n"
     ]
    }
   ],
   "source": [
    "print(f'Kształt danych:')\n",
    "print(f'\\t df: {df.shape}')\n",
    "\n",
    "print(f'\\t X_train: {X_train.shape}')\n",
    "print(f'\\t y_train: {y_train.shape}')\n",
    "\n",
    "print(f'\\t X_test: {X_test.shape}')\n",
    "print(f'\\t y_test: {y_test.shape}')"
   ]
  },
  {
   "cell_type": "markdown",
   "metadata": {},
   "source": [
    "# Funkcję liczące statystyki"
   ]
  },
  {
   "cell_type": "code",
   "execution_count": 18,
   "metadata": {},
   "outputs": [],
   "source": [
    "from keras.callbacks import Callback, ModelCheckpoint, EarlyStopping, ReduceLROnPlateau\n",
    "from keras.models import load_model\n",
    "from keras.layers import Dense, Dropout\n",
    "from keras.wrappers.scikit_learn import KerasClassifier\n",
    "import keras.backend as K\n",
    "from sklearn.metrics import confusion_matrix, accuracy_score, precision_score\n",
    "from sklearn.metrics import recall_score, f1_score, roc_auc_score"
   ]
  },
  {
   "cell_type": "code",
   "execution_count": 19,
   "metadata": {},
   "outputs": [],
   "source": [
    "def countStats(_y_true, _y_pred):\n",
    "    accuracy = accuracy_score(_y_true, _y_pred, normalize=True)\n",
    "    precision = precision_score(_y_true, _y_pred, average='weighted')\n",
    "    recall = recall_score(_y_true, _y_pred, average='weighted')\n",
    "    fscore = f1_score(_y_true, _y_pred, average='weighted')\n",
    "    \n",
    "    return accuracy, precision, recall, fscore"
   ]
  },
  {
   "cell_type": "code",
   "execution_count": 20,
   "metadata": {},
   "outputs": [],
   "source": [
    "'''\n",
    "Źrodło:\n",
    "https://medium.com/@aakashgoel12/how-to-add-user-defined-function-get-f1-score-in-keras-metrics-3013f979ce0d\n",
    "'''\n",
    "\n",
    "def get_f1(y_true, y_pred):\n",
    "    true_positives = K.sum(K.round(K.clip(y_true * y_pred, 0, 1)))\n",
    "    possible_positives = K.sum(K.round(K.clip(y_true, 0, 1)))\n",
    "    predicted_positives = K.sum(K.round(K.clip(y_pred, 0, 1)))\n",
    "    precision = true_positives / (predicted_positives + K.epsilon())\n",
    "    recall = true_positives / (possible_positives + K.epsilon())\n",
    "    f1_val = 2*(precision*recall)/(precision+recall+K.epsilon())\n",
    "    \n",
    "    return f1_val"
   ]
  },
  {
   "cell_type": "code",
   "execution_count": 21,
   "metadata": {},
   "outputs": [],
   "source": [
    "'''\n",
    "cb_early_stopper - skończenie uczenia kiedy val_loss nie będzie się poprawiać przez 10 epok\n",
    "cb_checkpointer - zapis modelu do pliku 'best.h5' modeli o najlepszym(najmniejszym) val_loss\n",
    "cb_learning_rate_reduction - zmniejszenie LR jeśli val_loss nie będzie się poprawiać przez 5 epok\n",
    "'''\n",
    "\n",
    "EARLY_STOP_PATIENCE = 10\n",
    "LEARNING_RATE_PATIENCE = 5\n",
    "\n",
    "cb_early_stopper = EarlyStopping(monitor = 'val_loss', patience = EARLY_STOP_PATIENCE, verbose=1)\n",
    "cb_checkpointer = ModelCheckpoint(filepath = 'best.h5', monitor = 'val_loss', save_best_only = True, verbose=1)\n",
    "cb_learning_rate_reduction = ReduceLROnPlateau(monitor='val_loss', patience=LEARNING_RATE_PATIENCE, verbose=1)"
   ]
  },
  {
   "cell_type": "markdown",
   "metadata": {},
   "source": [
    "# Model"
   ]
  },
  {
   "cell_type": "code",
   "execution_count": 22,
   "metadata": {},
   "outputs": [],
   "source": [
    "# Stałe do monitorowania pracy modelu\n",
    "\n",
    "epochs = 50\n",
    "batch_size = 10\n",
    "validation_steps = 200, #test.shape[0]//batch_size,\n",
    "steps_per_epoch = 200, #train.shape[0]//batch_size,\n",
    "optimizer = 'adam'\n",
    "loss_type = 'categorical_crossentropy'\n",
    "LSTM_size = 128"
   ]
  },
  {
   "cell_type": "code",
   "execution_count": 23,
   "metadata": {},
   "outputs": [
    {
     "name": "stdout",
     "output_type": "stream",
     "text": [
      "Model: \"sequential_1\"\n",
      "_________________________________________________________________\n",
      "Layer (type)                 Output Shape              Param #   \n",
      "=================================================================\n",
      "embedding_1 (Embedding)      (None, None, 13)          61282     \n",
      "_________________________________________________________________\n",
      "lstm_1 (LSTM)                (None, 128)               72704     \n",
      "_________________________________________________________________\n",
      "dense_1 (Dense)              (None, 5)                 645       \n",
      "=================================================================\n",
      "Total params: 134,631\n",
      "Trainable params: 134,631\n",
      "Non-trainable params: 0\n",
      "_________________________________________________________________\n"
     ]
    }
   ],
   "source": [
    "model = Sequential()\n",
    "model.add(Embedding(X_train.shape[0], X_train.shape[1]))\n",
    "model.add(LSTM(LSTM_size))\n",
    "model.add(Dense(5, activation='softmax'))\n",
    "\n",
    "model.summary()"
   ]
  },
  {
   "cell_type": "code",
   "execution_count": 24,
   "metadata": {},
   "outputs": [
    {
     "name": "stderr",
     "output_type": "stream",
     "text": [
      "/home/torak28/Desktop/Studia/Auto-Tag/datamining/.venv/lib/python3.7/site-packages/tensorflow_core/python/framework/indexed_slices.py:433: UserWarning: Converting sparse IndexedSlices to a dense Tensor of unknown shape. This may consume a large amount of memory.\n",
      "  \"Converting sparse IndexedSlices to a dense Tensor of unknown shape. \"\n"
     ]
    },
    {
     "name": "stdout",
     "output_type": "stream",
     "text": [
      "Train on 4714 samples, validate on 1179 samples\n",
      "Epoch 1/50\n",
      "4714/4714 [==============================] - 5s 1ms/step - loss: 1.2443 - accuracy: 0.4631 - get_f1: 0.2890 - val_loss: 1.0764 - val_accuracy: 0.5522 - val_get_f1: 0.4316\n",
      "\n",
      "Epoch 00001: val_loss improved from inf to 1.07641, saving model to best.h5\n",
      "Epoch 2/50\n",
      "4714/4714 [==============================] - 5s 1ms/step - loss: 1.0659 - accuracy: 0.5613 - get_f1: 0.4587 - val_loss: 1.0134 - val_accuracy: 0.5759 - val_get_f1: 0.5168\n",
      "\n",
      "Epoch 00002: val_loss improved from 1.07641 to 1.01341, saving model to best.h5\n",
      "Epoch 3/50\n",
      "4714/4714 [==============================] - 5s 1ms/step - loss: 0.9917 - accuracy: 0.5840 - get_f1: 0.5013 - val_loss: 0.9890 - val_accuracy: 0.5861 - val_get_f1: 0.4912\n",
      "\n",
      "Epoch 00003: val_loss improved from 1.01341 to 0.98897, saving model to best.h5\n",
      "Epoch 4/50\n",
      "4714/4714 [==============================] - 5s 1ms/step - loss: 0.9318 - accuracy: 0.6154 - get_f1: 0.5462 - val_loss: 1.0170 - val_accuracy: 0.5861 - val_get_f1: 0.5257\n",
      "\n",
      "Epoch 00004: val_loss did not improve from 0.98897\n",
      "Epoch 5/50\n",
      "4714/4714 [==============================] - 5s 1ms/step - loss: 0.8971 - accuracy: 0.6254 - get_f1: 0.5763 - val_loss: 0.9809 - val_accuracy: 0.5810 - val_get_f1: 0.5559\n",
      "\n",
      "Epoch 00005: val_loss improved from 0.98897 to 0.98088, saving model to best.h5\n",
      "Epoch 6/50\n",
      "4714/4714 [==============================] - 5s 1ms/step - loss: 0.8640 - accuracy: 0.6453 - get_f1: 0.5938 - val_loss: 0.9975 - val_accuracy: 0.5920 - val_get_f1: 0.5460\n",
      "\n",
      "Epoch 00006: val_loss did not improve from 0.98088\n",
      "Epoch 7/50\n",
      "4714/4714 [==============================] - 5s 1ms/step - loss: 0.8252 - accuracy: 0.6686 - get_f1: 0.6206 - val_loss: 0.9719 - val_accuracy: 0.6005 - val_get_f1: 0.5762\n",
      "\n",
      "Epoch 00007: val_loss improved from 0.98088 to 0.97187, saving model to best.h5\n",
      "Epoch 8/50\n",
      "4714/4714 [==============================] - 5s 1ms/step - loss: 0.8005 - accuracy: 0.6725 - get_f1: 0.6403 - val_loss: 1.1115 - val_accuracy: 0.5869 - val_get_f1: 0.5491\n",
      "\n",
      "Epoch 00008: val_loss did not improve from 0.97187\n",
      "Epoch 9/50\n",
      "4714/4714 [==============================] - 5s 1ms/step - loss: 0.7813 - accuracy: 0.6761 - get_f1: 0.6451 - val_loss: 0.9602 - val_accuracy: 0.6124 - val_get_f1: 0.5737\n",
      "\n",
      "Epoch 00009: val_loss improved from 0.97187 to 0.96021, saving model to best.h5\n",
      "Epoch 10/50\n",
      "4714/4714 [==============================] - 5s 1ms/step - loss: 0.7602 - accuracy: 0.6937 - get_f1: 0.6617 - val_loss: 1.0395 - val_accuracy: 0.6073 - val_get_f1: 0.5852\n",
      "\n",
      "Epoch 00010: val_loss did not improve from 0.96021\n",
      "Epoch 11/50\n",
      "4714/4714 [==============================] - 5s 1ms/step - loss: 0.7387 - accuracy: 0.6979 - get_f1: 0.6681 - val_loss: 0.9811 - val_accuracy: 0.6047 - val_get_f1: 0.5786\n",
      "\n",
      "Epoch 00011: val_loss did not improve from 0.96021\n",
      "Epoch 12/50\n",
      "4714/4714 [==============================] - 5s 1ms/step - loss: 0.7248 - accuracy: 0.7015 - get_f1: 0.6696 - val_loss: 1.0440 - val_accuracy: 0.6107 - val_get_f1: 0.5837\n",
      "\n",
      "Epoch 00012: val_loss did not improve from 0.96021\n",
      "Epoch 13/50\n",
      "4714/4714 [==============================] - 5s 1ms/step - loss: 0.7089 - accuracy: 0.7094 - get_f1: 0.6840 - val_loss: 1.0519 - val_accuracy: 0.5903 - val_get_f1: 0.5661\n",
      "\n",
      "Epoch 00013: val_loss did not improve from 0.96021\n",
      "Epoch 14/50\n",
      "4714/4714 [==============================] - 5s 1ms/step - loss: 0.6946 - accuracy: 0.7123 - get_f1: 0.6897 - val_loss: 1.0561 - val_accuracy: 0.6141 - val_get_f1: 0.5935\n",
      "\n",
      "Epoch 00014: val_loss did not improve from 0.96021\n",
      "\n",
      "Epoch 00014: ReduceLROnPlateau reducing learning rate to 0.00010000000474974513.\n",
      "Epoch 15/50\n",
      "4714/4714 [==============================] - 5s 1ms/step - loss: 0.6345 - accuracy: 0.7384 - get_f1: 0.7196 - val_loss: 1.0062 - val_accuracy: 0.6277 - val_get_f1: 0.6033\n",
      "\n",
      "Epoch 00015: val_loss did not improve from 0.96021\n",
      "Epoch 16/50\n",
      "4714/4714 [==============================] - 5s 1ms/step - loss: 0.6192 - accuracy: 0.7480 - get_f1: 0.7265 - val_loss: 1.0218 - val_accuracy: 0.6209 - val_get_f1: 0.6017\n",
      "\n",
      "Epoch 00016: val_loss did not improve from 0.96021\n",
      "Epoch 17/50\n",
      "4714/4714 [==============================] - 5s 1ms/step - loss: 0.6111 - accuracy: 0.7493 - get_f1: 0.7277 - val_loss: 1.0400 - val_accuracy: 0.6090 - val_get_f1: 0.6006\n",
      "\n",
      "Epoch 00017: val_loss did not improve from 0.96021\n",
      "Epoch 18/50\n",
      "4714/4714 [==============================] - 5s 1ms/step - loss: 0.6063 - accuracy: 0.7514 - get_f1: 0.7335 - val_loss: 1.0619 - val_accuracy: 0.6115 - val_get_f1: 0.6046\n",
      "\n",
      "Epoch 00018: val_loss did not improve from 0.96021\n",
      "Epoch 19/50\n",
      "4714/4714 [==============================] - 5s 1ms/step - loss: 0.6016 - accuracy: 0.7501 - get_f1: 0.7366 - val_loss: 1.0384 - val_accuracy: 0.6124 - val_get_f1: 0.6022\n",
      "\n",
      "Epoch 00019: val_loss did not improve from 0.96021\n",
      "\n",
      "Epoch 00019: ReduceLROnPlateau reducing learning rate to 1.0000000474974514e-05.\n",
      "Epoch 00019: early stopping\n"
     ]
    }
   ],
   "source": [
    "model.compile(loss=loss_type, optimizer=optimizer, metrics=['accuracy', get_f1])\n",
    "\n",
    "history = model.fit(X_train, y_train,\n",
    "                    validation_data=(X_test, y_test),\n",
    "#                     validation_steps=validation_steps,\n",
    "                    epochs=epochs,\n",
    "#                     steps_per_epoch=steps_per_epoch,\n",
    "                    batch_size=batch_size, \n",
    "                    callbacks=[cb_checkpointer, cb_early_stopper, cb_learning_rate_reduction])\n",
    "\n",
    "# Wczytanie najlepszego\n",
    "model.load_weights('best.h5')\n",
    "\n",
    "# Zapis do nowego pliku\n",
    "model.save('the_best.h5')"
   ]
  },
  {
   "cell_type": "markdown",
   "metadata": {},
   "source": [
    "# Statystyki"
   ]
  },
  {
   "cell_type": "code",
   "execution_count": 25,
   "metadata": {},
   "outputs": [
    {
     "data": {
      "image/png": "[encoded data removed]",
      "text/plain": [
       "<Figure size 864x864 with 3 Axes>"
      ]
     },
     "metadata": {
      "needs_background": "light"
     },
     "output_type": "display_data"
    },
    {
     "name": "stdout",
     "output_type": "stream",
     "text": [
      "Test loss: 0.96\n",
      "Test accuracy: 0.612\n",
      "Test F1: 0.578\n"
     ]
    }
   ],
   "source": [
    "loss, accuracy, get_f1  = model.evaluate(X_test, y_test, verbose=False)\n",
    "\n",
    "fig, (ax1, ax2, ax3) = plt.subplots(3, 1, figsize=(12, 12))\n",
    "\n",
    "# Wykres loss\n",
    "ax1.plot(history.history['loss'], color='b', label=\"Training loss\")\n",
    "ax1.plot(history.history['val_loss'], color='r', label=\"Validation loss\")\n",
    "ax1.set_xticks(numpy.arange(1, len(history.history['val_loss']), 1))\n",
    "ax1.legend(loc='best', shadow=True)\n",
    "ax1.set_ylabel('loss')\n",
    "ax1.set_xlabel('epoch')\n",
    "\n",
    "# Wykres accuracy\n",
    "ax2.plot(history.history['accuracy'], color='b', label=\"Training accuracy\")\n",
    "ax2.plot(history.history['val_accuracy'], color='r',label=\"Validation accuracy\")\n",
    "ax2.set_xticks(numpy.arange(1, len(history.history['val_accuracy']), 1))\n",
    "ax2.legend(loc='best', shadow=True)\n",
    "ax2.set_ylabel('accuracy')\n",
    "ax2.set_xlabel('epoch')\n",
    "\n",
    "# Wykres F1\n",
    "ax3.plot(history.history['get_f1'], color='b', label=\"Training f1\")\n",
    "ax3.plot(history.history['val_get_f1'], color='r',label=\"Validation f1\")\n",
    "ax3.set_xticks(numpy.arange(1, len(history.history['get_f1']), 1))\n",
    "ax3.legend(loc='best', shadow=True)\n",
    "ax3.set_ylabel('f1')\n",
    "ax3.set_xlabel('epoch')\n",
    "\n",
    "\n",
    "plt.tight_layout()\n",
    "plt.show()\n",
    "\n",
    "print(f'Test loss: {loss:.3}')\n",
    "print(f'Test accuracy: {accuracy:.3}')\n",
    "print(f'Test F1: {get_f1:.3}')\n"
   ]
  },
  {
   "cell_type": "code",
   "execution_count": 26,
   "metadata": {},
   "outputs": [],
   "source": [
    "predictions = model.predict(X_test)"
   ]
  },
  {
   "cell_type": "code",
   "execution_count": 27,
   "metadata": {},
   "outputs": [],
   "source": [
    "predictions = numpy.array(list(map(lambda x: numpy.where(x == numpy.amax(x)), predictions)))\n",
    "predictions = numpy.reshape(predictions, (1179,))"
   ]
  },
  {
   "cell_type": "code",
   "execution_count": 28,
   "metadata": {},
   "outputs": [],
   "source": [
    "ConfusionMatrixY = y_test_sav\n",
    "ConfusionMatrixYpred = predictions"
   ]
  },
  {
   "cell_type": "code",
   "execution_count": 29,
   "metadata": {},
   "outputs": [
    {
     "data": {
      "text/plain": [
       "(<Figure size 432x288 with 2 Axes>,\n",
       " <matplotlib.axes._subplots.AxesSubplot at 0x7fea2c025e80>)"
      ]
     },
     "execution_count": 29,
     "metadata": {},
     "output_type": "execute_result"
    },
    {
     "data": {
      "image/png": "[encoded data removed]",
      "text/plain": [
       "<Figure size 432x288 with 2 Axes>"
      ]
     },
     "metadata": {
      "needs_background": "light"
     },
     "output_type": "display_data"
    }
   ],
   "source": [
    "from mlxtend.plotting import plot_confusion_matrix\n",
    "\n",
    "cm = confusion_matrix(ConfusionMatrixY, ConfusionMatrixYpred)\n",
    "\n",
    "plot_confusion_matrix(conf_mat=cm,\n",
    "                      colorbar=True, \n",
    "                      show_absolute=False,\n",
    "                      show_normed=True,\n",
    "                      class_names=['Still', 'Car', 'Train', 'Bus', 'Walking'])"
   ]
  },
  {
   "cell_type": "code",
   "execution_count": 30,
   "metadata": {},
   "outputs": [
    {
     "name": "stdout",
     "output_type": "stream",
     "text": [
      "[[175  15  28  13   5]\n",
      " [ 27 123  44  38   4]\n",
      " [ 25  44 111  51   5]\n",
      " [ 16  49  36 120  15]\n",
      " [ 13   7  15   7 193]]\n"
     ]
    }
   ],
   "source": [
    "print(cm)"
   ]
  },
  {
   "cell_type": "code",
   "execution_count": 31,
   "metadata": {},
   "outputs": [
    {
     "name": "stdout",
     "output_type": "stream",
     "text": [
      "Accuracy: 0.6123833757421544\n",
      "Precision: 0.6134123439999016\n",
      "Recall: 0.6123833757421544\n",
      "F-score: 0.612498843707649\n"
     ]
    }
   ],
   "source": [
    "accuracy, precision, recall, fscore = countStats(ConfusionMatrixY, ConfusionMatrixYpred)\n",
    "print(f'Accuracy: {accuracy}\\nPrecision: {precision}\\nRecall: {recall}\\nF-score: {fscore}')"
   ]
  }
 ],
 "metadata": {
  "kernelspec": {
   "display_name": ".venv",
   "language": "python",
   "name": ".venv"
  },
  "language_info": {
   "codemirror_mode": {
    "name": "ipython",
    "version": 3
   },
   "file_extension": ".py",
   "mimetype": "text/x-python",
   "name": "python",
   "nbconvert_exporter": "python",
   "pygments_lexer": "ipython3",
   "version": "3.7.0"
  }
 },
 "nbformat": 4,
 "nbformat_minor": 4
}
