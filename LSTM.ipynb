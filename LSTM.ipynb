{
 "cells": [
  {
   "cell_type": "markdown",
   "metadata": {},
   "source": [
    "# Notatki"
   ]
  },
  {
   "cell_type": "markdown",
   "metadata": {},
   "source": [
    " * Jakbyśmy mieli do czynienia z ciagłym przypływem próbek bez żadnych przerw to moglibyśmy pozwolić sobie na dropnięcie czasu\n",
    " * Lepiej celować w wielkość typu 200-400 time steps w LSTM(patrz: [źródło](https://machinelearningmastery.com/prepare-univariate-time-series-data-long-short-term-memory-networks/))"
   ]
  },
  {
   "cell_type": "markdown",
   "metadata": {},
   "source": [
    "# Sprawdzanie środowiska"
   ]
  },
  {
   "cell_type": "code",
   "execution_count": 1,
   "metadata": {},
   "outputs": [
    {
     "name": "stdout",
     "output_type": "stream",
     "text": [
      "3.7.4\n"
     ]
    }
   ],
   "source": [
    "from platform import python_version\n",
    "\n",
    "print(python_version())"
   ]
  },
  {
   "cell_type": "markdown",
   "metadata": {},
   "source": [
    "# Załadowanie danych"
   ]
  },
  {
   "cell_type": "code",
   "execution_count": 2,
   "metadata": {},
   "outputs": [
    {
     "name": "stderr",
     "output_type": "stream",
     "text": [
      "Using TensorFlow backend.\n"
     ]
    }
   ],
   "source": [
    "import numpy\n",
    "import pandas as pd\n",
    "import matplotlib.pyplot as plt\n",
    "import seaborn as sns\n",
    "import tensorflow as tf\n",
    "import math\n",
    "from keras.models import Sequential\n",
    "from keras.layers import Dense\n",
    "from keras.layers import LSTM\n",
    "from sklearn.preprocessing import MinMaxScaler\n",
    "from sklearn.metrics import mean_squared_error\n",
    "from keras.layers.embeddings import Embedding\n",
    "from keras.preprocessing import sequence\n",
    "from sklearn.model_selection import StratifiedKFold\n",
    "from keras.utils import to_categorical\n",
    "\n",
    "# fix random bo tak ( ͡° ͜ʖ ͡°)\n",
    "odp = 42\n",
    "numpy.random.seed(odp)"
   ]
  },
  {
   "cell_type": "code",
   "execution_count": 3,
   "metadata": {},
   "outputs": [
    {
     "name": "stdout",
     "output_type": "stream",
     "text": [
      " Volume in drive D is Data\n",
      " Volume Serial Number is 82E7-60C3\n",
      "\n",
      " Directory of D:\\Studia\\Auto_Tag\n",
      "\n",
      "\n",
      " Directory of D:\\Studia\\Auto_Tag\\data\n",
      "\n",
      "09.04.2020  16:52    <DIR>          .\n",
      "09.04.2020  16:52    <DIR>          ..\n",
      "09.04.2020  16:52         1˙076˙355 easy.csv\n",
      "09.04.2020  16:52         2˙924˙235 hard.csv\n",
      "09.04.2020  16:52         2˙787˙990 medium.csv\n",
      "               3 File(s)      6˙788˙580 bytes\n",
      "               2 Dir(s)  195˙887˙439˙872 bytes free\n"
     ]
    },
    {
     "name": "stderr",
     "output_type": "stream",
     "text": [
      "File Not Found\n"
     ]
    }
   ],
   "source": [
    "%ls -l data"
   ]
  },
  {
   "cell_type": "code",
   "execution_count": 4,
   "metadata": {},
   "outputs": [],
   "source": [
    "df = pd.read_csv(\"data//easy.csv\")"
   ]
  },
  {
   "cell_type": "code",
   "execution_count": 5,
   "metadata": {},
   "outputs": [
    {
     "data": {
      "text/html": [
       "<div>\n",
       "<style scoped>\n",
       "    .dataframe tbody tr th:only-of-type {\n",
       "        vertical-align: middle;\n",
       "    }\n",
       "\n",
       "    .dataframe tbody tr th {\n",
       "        vertical-align: top;\n",
       "    }\n",
       "\n",
       "    .dataframe thead th {\n",
       "        text-align: right;\n",
       "    }\n",
       "</style>\n",
       "<table border=\"1\" class=\"dataframe\">\n",
       "  <thead>\n",
       "    <tr style=\"text-align: right;\">\n",
       "      <th></th>\n",
       "      <th>time</th>\n",
       "      <th>android.sensor.accelerometer#mean</th>\n",
       "      <th>android.sensor.accelerometer#min</th>\n",
       "      <th>android.sensor.accelerometer#max</th>\n",
       "      <th>android.sensor.accelerometer#std</th>\n",
       "      <th>android.sensor.gyroscope#mean</th>\n",
       "      <th>android.sensor.gyroscope#min</th>\n",
       "      <th>android.sensor.gyroscope#max</th>\n",
       "      <th>android.sensor.gyroscope#std</th>\n",
       "      <th>sound#mean</th>\n",
       "      <th>sound#min</th>\n",
       "      <th>sound#max</th>\n",
       "      <th>sound#std</th>\n",
       "      <th>target</th>\n",
       "    </tr>\n",
       "  </thead>\n",
       "  <tbody>\n",
       "    <tr>\n",
       "      <th>0</th>\n",
       "      <td>78.0</td>\n",
       "      <td>9.811476</td>\n",
       "      <td>9.758895</td>\n",
       "      <td>9.849411</td>\n",
       "      <td>0.014626</td>\n",
       "      <td>0.001651</td>\n",
       "      <td>0.000000</td>\n",
       "      <td>0.003533</td>\n",
       "      <td>0.000737</td>\n",
       "      <td>0.000000</td>\n",
       "      <td>0.000000</td>\n",
       "      <td>0.000000</td>\n",
       "      <td>0.000000</td>\n",
       "      <td>Still</td>\n",
       "    </tr>\n",
       "    <tr>\n",
       "      <th>1</th>\n",
       "      <td>145.0</td>\n",
       "      <td>9.939207</td>\n",
       "      <td>7.707437</td>\n",
       "      <td>17.146631</td>\n",
       "      <td>1.775944</td>\n",
       "      <td>0.036326</td>\n",
       "      <td>0.011669</td>\n",
       "      <td>0.059388</td>\n",
       "      <td>0.020290</td>\n",
       "      <td>89.200210</td>\n",
       "      <td>89.065143</td>\n",
       "      <td>89.335277</td>\n",
       "      <td>0.191013</td>\n",
       "      <td>Car</td>\n",
       "    </tr>\n",
       "    <tr>\n",
       "      <th>2</th>\n",
       "      <td>150.0</td>\n",
       "      <td>9.827178</td>\n",
       "      <td>9.804817</td>\n",
       "      <td>9.849262</td>\n",
       "      <td>0.011199</td>\n",
       "      <td>0.001525</td>\n",
       "      <td>0.000000</td>\n",
       "      <td>0.002609</td>\n",
       "      <td>0.000713</td>\n",
       "      <td>0.000000</td>\n",
       "      <td>0.000000</td>\n",
       "      <td>0.000000</td>\n",
       "      <td>0.000000</td>\n",
       "      <td>Still</td>\n",
       "    </tr>\n",
       "    <tr>\n",
       "      <th>3</th>\n",
       "      <td>105.0</td>\n",
       "      <td>9.673039</td>\n",
       "      <td>7.659674</td>\n",
       "      <td>12.304298</td>\n",
       "      <td>0.862553</td>\n",
       "      <td>0.036440</td>\n",
       "      <td>0.020463</td>\n",
       "      <td>0.052512</td>\n",
       "      <td>0.010553</td>\n",
       "      <td>87.470377</td>\n",
       "      <td>87.470377</td>\n",
       "      <td>87.470377</td>\n",
       "      <td>2.284186</td>\n",
       "      <td>Car</td>\n",
       "    </tr>\n",
       "    <tr>\n",
       "      <th>4</th>\n",
       "      <td>77.0</td>\n",
       "      <td>9.993466</td>\n",
       "      <td>8.965621</td>\n",
       "      <td>10.891645</td>\n",
       "      <td>0.504117</td>\n",
       "      <td>0.183202</td>\n",
       "      <td>0.020667</td>\n",
       "      <td>0.380875</td>\n",
       "      <td>0.098819</td>\n",
       "      <td>89.770732</td>\n",
       "      <td>89.770732</td>\n",
       "      <td>89.770732</td>\n",
       "      <td>0.006389</td>\n",
       "      <td>Car</td>\n",
       "    </tr>\n",
       "  </tbody>\n",
       "</table>\n",
       "</div>"
      ],
      "text/plain": [
       "    time  android.sensor.accelerometer#mean  android.sensor.accelerometer#min  \\\n",
       "0   78.0                           9.811476                          9.758895   \n",
       "1  145.0                           9.939207                          7.707437   \n",
       "2  150.0                           9.827178                          9.804817   \n",
       "3  105.0                           9.673039                          7.659674   \n",
       "4   77.0                           9.993466                          8.965621   \n",
       "\n",
       "   android.sensor.accelerometer#max  android.sensor.accelerometer#std  \\\n",
       "0                          9.849411                          0.014626   \n",
       "1                         17.146631                          1.775944   \n",
       "2                          9.849262                          0.011199   \n",
       "3                         12.304298                          0.862553   \n",
       "4                         10.891645                          0.504117   \n",
       "\n",
       "   android.sensor.gyroscope#mean  android.sensor.gyroscope#min  \\\n",
       "0                       0.001651                      0.000000   \n",
       "1                       0.036326                      0.011669   \n",
       "2                       0.001525                      0.000000   \n",
       "3                       0.036440                      0.020463   \n",
       "4                       0.183202                      0.020667   \n",
       "\n",
       "   android.sensor.gyroscope#max  android.sensor.gyroscope#std  sound#mean  \\\n",
       "0                      0.003533                      0.000737    0.000000   \n",
       "1                      0.059388                      0.020290   89.200210   \n",
       "2                      0.002609                      0.000713    0.000000   \n",
       "3                      0.052512                      0.010553   87.470377   \n",
       "4                      0.380875                      0.098819   89.770732   \n",
       "\n",
       "   sound#min  sound#max  sound#std target  \n",
       "0   0.000000   0.000000   0.000000  Still  \n",
       "1  89.065143  89.335277   0.191013    Car  \n",
       "2   0.000000   0.000000   0.000000  Still  \n",
       "3  87.470377  87.470377   2.284186    Car  \n",
       "4  89.770732  89.770732   0.006389    Car  "
      ]
     },
     "execution_count": 5,
     "metadata": {},
     "output_type": "execute_result"
    }
   ],
   "source": [
    "df.head()"
   ]
  },
  {
   "cell_type": "code",
   "execution_count": 6,
   "metadata": {},
   "outputs": [
    {
     "data": {
      "text/plain": [
       "(5893, 14)"
      ]
     },
     "execution_count": 6,
     "metadata": {},
     "output_type": "execute_result"
    }
   ],
   "source": [
    "'''\n",
    "Wygląd danych:\n",
    "\n",
    "|     Nazwa     | Ilość pól |\n",
    "| :-----------: | :-------: |\n",
    "|     time      |     1     |\n",
    "| accelerometer |     4     |\n",
    "|   gyroscope   |     4     |\n",
    "|     sound     |     4     |\n",
    "|    target     |     1     |\n",
    "\n",
    "Suma: 14\n",
    "\n",
    "'''\n",
    "\n",
    "\n",
    "df.shape"
   ]
  },
  {
   "cell_type": "markdown",
   "metadata": {},
   "source": [
    "# Obróbka danych"
   ]
  },
  {
   "cell_type": "code",
   "execution_count": 7,
   "metadata": {},
   "outputs": [
    {
     "data": {
      "text/plain": [
       "array(['Still', 'Car', 'Train', 'Bus', 'Walking'], dtype=object)"
      ]
     },
     "execution_count": 7,
     "metadata": {},
     "output_type": "execute_result"
    }
   ],
   "source": [
    "'''\n",
    "Zmiana targetu na liczby:\n",
    "\n",
    "0 - Still\n",
    "1 - Car\n",
    "2 - Train\n",
    "3 - Bus\n",
    "4 - Walking\n",
    "'''\n",
    "df.target.unique()"
   ]
  },
  {
   "cell_type": "code",
   "execution_count": 8,
   "metadata": {},
   "outputs": [],
   "source": [
    "df = df.replace({'target':'Still'},{'target':0})\n",
    "df = df.replace({'target':'Car'},{'target':1})\n",
    "df = df.replace({'target':'Train'},{'target':2})\n",
    "df = df.replace({'target':'Bus'},{'target':3})\n",
    "df = df.replace({'target':'Walking'},{'target':4})"
   ]
  },
  {
   "cell_type": "code",
   "execution_count": 9,
   "metadata": {},
   "outputs": [],
   "source": [
    "'''\n",
    "Podział danych z całego df na X i y:\n",
    "\n",
    "X - wszystko oprócz targetu(time, accelerometer,gyroscope, sound) \n",
    "y - target\n",
    "'''\n",
    "\n",
    "X, y = df.iloc[:, 0:-1], df.iloc[:, -1]"
   ]
  },
  {
   "cell_type": "code",
   "execution_count": 10,
   "metadata": {},
   "outputs": [
    {
     "data": {
      "text/html": [
       "<div>\n",
       "<style scoped>\n",
       "    .dataframe tbody tr th:only-of-type {\n",
       "        vertical-align: middle;\n",
       "    }\n",
       "\n",
       "    .dataframe tbody tr th {\n",
       "        vertical-align: top;\n",
       "    }\n",
       "\n",
       "    .dataframe thead th {\n",
       "        text-align: right;\n",
       "    }\n",
       "</style>\n",
       "<table border=\"1\" class=\"dataframe\">\n",
       "  <thead>\n",
       "    <tr style=\"text-align: right;\">\n",
       "      <th></th>\n",
       "      <th>time</th>\n",
       "      <th>android.sensor.accelerometer#mean</th>\n",
       "      <th>android.sensor.accelerometer#min</th>\n",
       "      <th>android.sensor.accelerometer#max</th>\n",
       "      <th>android.sensor.accelerometer#std</th>\n",
       "      <th>android.sensor.gyroscope#mean</th>\n",
       "      <th>android.sensor.gyroscope#min</th>\n",
       "      <th>android.sensor.gyroscope#max</th>\n",
       "      <th>android.sensor.gyroscope#std</th>\n",
       "      <th>sound#mean</th>\n",
       "      <th>sound#min</th>\n",
       "      <th>sound#max</th>\n",
       "      <th>sound#std</th>\n",
       "      <th>target</th>\n",
       "    </tr>\n",
       "  </thead>\n",
       "  <tbody>\n",
       "    <tr>\n",
       "      <th>0</th>\n",
       "      <td>78.0</td>\n",
       "      <td>9.811476</td>\n",
       "      <td>9.758895</td>\n",
       "      <td>9.849411</td>\n",
       "      <td>0.014626</td>\n",
       "      <td>0.001651</td>\n",
       "      <td>0.000000</td>\n",
       "      <td>0.003533</td>\n",
       "      <td>0.000737</td>\n",
       "      <td>0.000000</td>\n",
       "      <td>0.000000</td>\n",
       "      <td>0.000000</td>\n",
       "      <td>0.000000</td>\n",
       "      <td>0</td>\n",
       "    </tr>\n",
       "    <tr>\n",
       "      <th>1</th>\n",
       "      <td>145.0</td>\n",
       "      <td>9.939207</td>\n",
       "      <td>7.707437</td>\n",
       "      <td>17.146631</td>\n",
       "      <td>1.775944</td>\n",
       "      <td>0.036326</td>\n",
       "      <td>0.011669</td>\n",
       "      <td>0.059388</td>\n",
       "      <td>0.020290</td>\n",
       "      <td>89.200210</td>\n",
       "      <td>89.065143</td>\n",
       "      <td>89.335277</td>\n",
       "      <td>0.191013</td>\n",
       "      <td>1</td>\n",
       "    </tr>\n",
       "    <tr>\n",
       "      <th>2</th>\n",
       "      <td>150.0</td>\n",
       "      <td>9.827178</td>\n",
       "      <td>9.804817</td>\n",
       "      <td>9.849262</td>\n",
       "      <td>0.011199</td>\n",
       "      <td>0.001525</td>\n",
       "      <td>0.000000</td>\n",
       "      <td>0.002609</td>\n",
       "      <td>0.000713</td>\n",
       "      <td>0.000000</td>\n",
       "      <td>0.000000</td>\n",
       "      <td>0.000000</td>\n",
       "      <td>0.000000</td>\n",
       "      <td>0</td>\n",
       "    </tr>\n",
       "    <tr>\n",
       "      <th>3</th>\n",
       "      <td>105.0</td>\n",
       "      <td>9.673039</td>\n",
       "      <td>7.659674</td>\n",
       "      <td>12.304298</td>\n",
       "      <td>0.862553</td>\n",
       "      <td>0.036440</td>\n",
       "      <td>0.020463</td>\n",
       "      <td>0.052512</td>\n",
       "      <td>0.010553</td>\n",
       "      <td>87.470377</td>\n",
       "      <td>87.470377</td>\n",
       "      <td>87.470377</td>\n",
       "      <td>2.284186</td>\n",
       "      <td>1</td>\n",
       "    </tr>\n",
       "    <tr>\n",
       "      <th>4</th>\n",
       "      <td>77.0</td>\n",
       "      <td>9.993466</td>\n",
       "      <td>8.965621</td>\n",
       "      <td>10.891645</td>\n",
       "      <td>0.504117</td>\n",
       "      <td>0.183202</td>\n",
       "      <td>0.020667</td>\n",
       "      <td>0.380875</td>\n",
       "      <td>0.098819</td>\n",
       "      <td>89.770732</td>\n",
       "      <td>89.770732</td>\n",
       "      <td>89.770732</td>\n",
       "      <td>0.006389</td>\n",
       "      <td>1</td>\n",
       "    </tr>\n",
       "  </tbody>\n",
       "</table>\n",
       "</div>"
      ],
      "text/plain": [
       "    time  android.sensor.accelerometer#mean  android.sensor.accelerometer#min  \\\n",
       "0   78.0                           9.811476                          9.758895   \n",
       "1  145.0                           9.939207                          7.707437   \n",
       "2  150.0                           9.827178                          9.804817   \n",
       "3  105.0                           9.673039                          7.659674   \n",
       "4   77.0                           9.993466                          8.965621   \n",
       "\n",
       "   android.sensor.accelerometer#max  android.sensor.accelerometer#std  \\\n",
       "0                          9.849411                          0.014626   \n",
       "1                         17.146631                          1.775944   \n",
       "2                          9.849262                          0.011199   \n",
       "3                         12.304298                          0.862553   \n",
       "4                         10.891645                          0.504117   \n",
       "\n",
       "   android.sensor.gyroscope#mean  android.sensor.gyroscope#min  \\\n",
       "0                       0.001651                      0.000000   \n",
       "1                       0.036326                      0.011669   \n",
       "2                       0.001525                      0.000000   \n",
       "3                       0.036440                      0.020463   \n",
       "4                       0.183202                      0.020667   \n",
       "\n",
       "   android.sensor.gyroscope#max  android.sensor.gyroscope#std  sound#mean  \\\n",
       "0                      0.003533                      0.000737    0.000000   \n",
       "1                      0.059388                      0.020290   89.200210   \n",
       "2                      0.002609                      0.000713    0.000000   \n",
       "3                      0.052512                      0.010553   87.470377   \n",
       "4                      0.380875                      0.098819   89.770732   \n",
       "\n",
       "   sound#min  sound#max  sound#std  target  \n",
       "0   0.000000   0.000000   0.000000       0  \n",
       "1  89.065143  89.335277   0.191013       1  \n",
       "2   0.000000   0.000000   0.000000       0  \n",
       "3  87.470377  87.470377   2.284186       1  \n",
       "4  89.770732  89.770732   0.006389       1  "
      ]
     },
     "execution_count": 10,
     "metadata": {},
     "output_type": "execute_result"
    }
   ],
   "source": [
    "df.head()"
   ]
  },
  {
   "cell_type": "markdown",
   "metadata": {},
   "source": [
    "# Podział na dane testowe i treningowe"
   ]
  },
  {
   "cell_type": "code",
   "execution_count": 11,
   "metadata": {},
   "outputs": [],
   "source": [
    "# 20% danych do testów\n",
    "kf = StratifiedKFold(n_splits = 5, shuffle = True, random_state = odp)\n",
    "result = next(kf.split(X, y))\n",
    "\n",
    "'''\n",
    "Podział danych z całego df na podstawie splitu\n",
    "\n",
    "train - 80% danych(4714)\n",
    "test  - 20% danych(1179)\n",
    "'''\n",
    "train = df.iloc[result[0]]\n",
    "test =  df.iloc[result[1]]\n",
    "\n",
    "'''\n",
    "Podział na X_train, y_train, X_test, y_test\n",
    "\n",
    "X_train, X_test - bez 'targetu'\n",
    "y_train, y_test - sam 'target' dla X_train, X_test\n",
    "'''\n",
    "X_train = train.drop('target', axis = 1)\n",
    "y_train = train.target\n",
    "\n",
    "X_test = test.drop('target', axis = 1)\n",
    "y_test = test.target"
   ]
  },
  {
   "cell_type": "code",
   "execution_count": 12,
   "metadata": {},
   "outputs": [
    {
     "name": "stdout",
     "output_type": "stream",
     "text": [
      "Kształt danych:\n",
      "\t df: (5893, 14)\n",
      "\t X_train: (4713, 13)\n",
      "\t y_train: (4713,)\n",
      "\t X_test: (1180, 13)\n",
      "\t y_test: (1180,)\n"
     ]
    }
   ],
   "source": [
    "print(f'Kształt danych:')\n",
    "print(f'\\t df: {df.shape}')\n",
    "\n",
    "print(f'\\t X_train: {X_train.shape}')\n",
    "print(f'\\t y_train: {y_train.shape}')\n",
    "\n",
    "print(f'\\t X_test: {X_test.shape}')\n",
    "print(f'\\t y_test: {y_test.shape}')"
   ]
  },
  {
   "cell_type": "code",
   "execution_count": 13,
   "metadata": {},
   "outputs": [],
   "source": [
    "# Konwersja danych z pandas dataframe do numpy\n",
    "\n",
    "df = df.to_numpy()\n",
    "\n",
    "X_train = X_train.to_numpy()\n",
    "y_train = y_train.to_numpy()\n",
    "\n",
    "X_test = X_test.to_numpy()\n",
    "y_test = y_test.to_numpy()"
   ]
  },
  {
   "cell_type": "code",
   "execution_count": 14,
   "metadata": {},
   "outputs": [],
   "source": [
    "# Upewnienie się że dane w X_train i X_test są floatem - lepsze dla klasyfikatora\n",
    "\n",
    "X_train = X_train.astype('float32')\n",
    "X_test = X_test.astype('float32')"
   ]
  },
  {
   "cell_type": "code",
   "execution_count": 15,
   "metadata": {},
   "outputs": [],
   "source": [
    "num_classes = 5\n",
    "\n",
    "# Zamiana wpisu z [1] na [0, 1, 0, 0, 0]\n",
    "y_train = to_categorical(y_train, num_classes)\n",
    "y_test = to_categorical(y_test, num_classes)"
   ]
  },
  {
   "cell_type": "code",
   "execution_count": 16,
   "metadata": {},
   "outputs": [],
   "source": [
    "# Upewnienie się że dane w y_train i y_test są floatem - lepsze dla klasyfikatora\n",
    "\n",
    "y_train = y_train.astype('float32')\n",
    "y_test = y_test.astype('float32')"
   ]
  },
  {
   "cell_type": "code",
   "execution_count": 17,
   "metadata": {},
   "outputs": [
    {
     "name": "stdout",
     "output_type": "stream",
     "text": [
      "Kształt danych:\n",
      "\t df: (5893, 14)\n",
      "\t X_train: (4713, 13)\n",
      "\t y_train: (4713, 5)\n",
      "\t X_test: (1180, 13)\n",
      "\t y_test: (1180, 5)\n"
     ]
    }
   ],
   "source": [
    "print(f'Kształt danych:')\n",
    "print(f'\\t df: {df.shape}')\n",
    "\n",
    "print(f'\\t X_train: {X_train.shape}')\n",
    "print(f'\\t y_train: {y_train.shape}')\n",
    "\n",
    "print(f'\\t X_test: {X_test.shape}')\n",
    "print(f'\\t y_test: {y_test.shape}')"
   ]
  },
  {
   "cell_type": "markdown",
   "metadata": {},
   "source": [
    "# Zmiana wymiarowości"
   ]
  },
  {
   "cell_type": "code",
   "execution_count": 18,
   "metadata": {},
   "outputs": [
    {
     "name": "stdout",
     "output_type": "stream",
     "text": [
      "Kształt danych:\n",
      "\t df: (5893, 14)\n",
      "\t X_train: (4713, 13)\n",
      "\t y_train: (4713, 5)\n",
      "\t X_test: (1180, 13)\n",
      "\t y_test: (1180, 5)\n"
     ]
    }
   ],
   "source": [
    "'''\n",
    "LSTM potrzebuje wymiarów w 3D\n",
    "\n",
    "Input shape:\n",
    " - Samples - jedna sekwwncja to sampel\n",
    " - Time steps - punkt obserwacji w próbce\n",
    " - Features - jedna obserwacja w punkcie\n",
    " \n",
    "X_train to ~4713 próbek, po 1 timestampie w każdej i 13 zmiennych w środku\n",
    "'''\n",
    "print(f'Kształt danych:')\n",
    "print(f'\\t df: {df.shape}')\n",
    "\n",
    "print(f'\\t X_train: {X_train.shape}')\n",
    "print(f'\\t y_train: {y_train.shape}')\n",
    "\n",
    "print(f'\\t X_test: {X_test.shape}')\n",
    "print(f'\\t y_test: {y_test.shape}')"
   ]
  },
  {
   "cell_type": "code",
   "execution_count": 19,
   "metadata": {},
   "outputs": [],
   "source": [
    "X_train = numpy.expand_dims(X_train, axis=1)\n",
    "y_train = numpy.expand_dims(y_train, axis=1)\n",
    "\n",
    "X_test = numpy.expand_dims(X_test, axis=1)\n",
    "y_test = numpy.expand_dims(y_test, axis=1)"
   ]
  },
  {
   "cell_type": "code",
   "execution_count": 20,
   "metadata": {},
   "outputs": [
    {
     "name": "stdout",
     "output_type": "stream",
     "text": [
      "Kształt danych:\n",
      "\t df: (5893, 14)\n",
      "\t X_train: (4713, 1, 13)\n",
      "\t y_train: (4713, 1, 5)\n",
      "\t X_test: (1180, 1, 13)\n",
      "\t y_test: (1180, 1, 5)\n"
     ]
    }
   ],
   "source": [
    "print(f'Kształt danych:')\n",
    "print(f'\\t df: {df.shape}')\n",
    "\n",
    "print(f'\\t X_train: {X_train.shape}')\n",
    "print(f'\\t y_train: {y_train.shape}')\n",
    "\n",
    "print(f'\\t X_test: {X_test.shape}')\n",
    "print(f'\\t y_test: {y_test.shape}')"
   ]
  },
  {
   "cell_type": "code",
   "execution_count": 21,
   "metadata": {},
   "outputs": [
    {
     "data": {
      "text/plain": [
       "(4713, 1, 13)"
      ]
     },
     "execution_count": 21,
     "metadata": {},
     "output_type": "execute_result"
    }
   ],
   "source": [
    "X_train.shape"
   ]
  },
  {
   "cell_type": "markdown",
   "metadata": {},
   "source": [
    "# Funkcję liczące statystyki"
   ]
  },
  {
   "cell_type": "code",
   "execution_count": 22,
   "metadata": {},
   "outputs": [],
   "source": [
    "from keras.callbacks import Callback, ModelCheckpoint, EarlyStopping, ReduceLROnPlateau\n",
    "from keras.models import load_model\n",
    "from keras.layers import Dense, Dropout\n",
    "from keras.wrappers.scikit_learn import KerasClassifier\n",
    "import keras.backend as K\n",
    "from sklearn.metrics import confusion_matrix, accuracy_score, precision_score\n",
    "from sklearn.metrics import recall_score, f1_score, roc_auc_score"
   ]
  },
  {
   "cell_type": "code",
   "execution_count": 23,
   "metadata": {},
   "outputs": [],
   "source": [
    "def countStats(_y_true, _y_pred):\n",
    "    accuracy = accuracy_score(_y_true, _y_pred, normalize=True)\n",
    "    precision = precision_score(_y_true, _y_pred, average='weighted')\n",
    "    recall = recall_score(_y_true, _y_pred, average='weighted')\n",
    "    fscore = f1_score(_y_true, _y_pred, average='weighted')\n",
    "    \n",
    "    return accuracy, precision, recall, fscore"
   ]
  },
  {
   "cell_type": "code",
   "execution_count": 24,
   "metadata": {},
   "outputs": [],
   "source": [
    "'''\n",
    "Źrodło:\n",
    "https://medium.com/@aakashgoel12/how-to-add-user-defined-function-get-f1-score-in-keras-metrics-3013f979ce0d\n",
    "'''\n",
    "\n",
    "def get_f1(y_true, y_pred):\n",
    "    true_positives = K.sum(K.round(K.clip(y_true * y_pred, 0, 1)))\n",
    "    possible_positives = K.sum(K.round(K.clip(y_true, 0, 1)))\n",
    "    predicted_positives = K.sum(K.round(K.clip(y_pred, 0, 1)))\n",
    "    precision = true_positives / (predicted_positives + K.epsilon())\n",
    "    recall = true_positives / (possible_positives + K.epsilon())\n",
    "    f1_val = 2*(precision*recall)/(precision+recall+K.epsilon())\n",
    "    \n",
    "    return f1_val"
   ]
  },
  {
   "cell_type": "code",
   "execution_count": 25,
   "metadata": {},
   "outputs": [],
   "source": [
    "from mlxtend.plotting import plot_confusion_matrix\n",
    "\n",
    "def plot_cm(cm, classes):\n",
    "    plot_confusion_matrix(conf_mat=cm,\n",
    "                          colorbar=True, \n",
    "                          show_absolute=False,\n",
    "                          show_normed=True,\n",
    "                          class_names=classes)"
   ]
  },
  {
   "cell_type": "code",
   "execution_count": 26,
   "metadata": {},
   "outputs": [],
   "source": [
    "'''\n",
    "cb_early_stopper - skończenie uczenia kiedy val_loss nie będzie się poprawiać przez 10 epok\n",
    "cb_checkpointer - zapis modelu do pliku 'best.h5' modeli o najlepszym(najmniejszym) val_loss\n",
    "cb_learning_rate_reduction - zmniejszenie LR jeśli val_loss nie będzie się poprawiać przez 5 epok\n",
    "'''\n",
    "\n",
    "EARLY_STOP_PATIENCE = 10\n",
    "LEARNING_RATE_PATIENCE = 5\n",
    "\n",
    "cb_early_stopper = EarlyStopping(monitor = 'val_loss', patience = EARLY_STOP_PATIENCE, verbose=1)\n",
    "cb_checkpointer = ModelCheckpoint(filepath = 'best.h5', monitor = 'val_loss', save_best_only = True, verbose=1)\n",
    "cb_learning_rate_reduction = ReduceLROnPlateau(monitor='val_loss', patience=LEARNING_RATE_PATIENCE, verbose=1)"
   ]
  },
  {
   "cell_type": "markdown",
   "metadata": {},
   "source": [
    "# Model"
   ]
  },
  {
   "cell_type": "code",
   "execution_count": 27,
   "metadata": {},
   "outputs": [],
   "source": [
    "# Stałe do monitorowania pracy modelu\n",
    "\n",
    "epochs = 50\n",
    "batch_size = None\n",
    "validation_steps = 200, #test.shape[0]//batch_size,\n",
    "steps_per_epoch = 200, #train.shape[0]//batch_size,\n",
    "optimizer = 'adam'\n",
    "loss_type = 'categorical_crossentropy'\n",
    "LSTM_size = 128"
   ]
  },
  {
   "cell_type": "code",
   "execution_count": 28,
   "metadata": {},
   "outputs": [
    {
     "name": "stdout",
     "output_type": "stream",
     "text": [
      "Model: \"sequential_1\"\n",
      "_________________________________________________________________\n",
      "Layer (type)                 Output Shape              Param #   \n",
      "=================================================================\n",
      "lstm_1 (LSTM)                (None, 1, 128)            72704     \n",
      "_________________________________________________________________\n",
      "dense_1 (Dense)              (None, 1, 5)              645       \n",
      "=================================================================\n",
      "Total params: 73,349\n",
      "Trainable params: 73,349\n",
      "Non-trainable params: 0\n",
      "_________________________________________________________________\n"
     ]
    }
   ],
   "source": [
    "model = Sequential()\n",
    "model.add(LSTM(LSTM_size, input_shape=(X_train.shape[1], X_train.shape[2]) , return_sequences=True))\n",
    "model.add(Dense(5, activation='softmax'))\n",
    "\n",
    "model.summary()"
   ]
  },
  {
   "cell_type": "code",
   "execution_count": 29,
   "metadata": {},
   "outputs": [
    {
     "name": "stdout",
     "output_type": "stream",
     "text": [
      "Train on 4713 samples, validate on 1180 samples\n",
      "Epoch 1/50\n",
      "4713/4713 [==============================] - 1s 139us/step - loss: 1.3847 - accuracy: 0.4144 - get_f1: 0.0922 - val_loss: 1.2004 - val_accuracy: 0.4992 - val_get_f1: 0.3303\n",
      "\n",
      "Epoch 00001: val_loss improved from inf to 1.20044, saving model to best.h5\n",
      "Epoch 2/50\n",
      "4713/4713 [==============================] - 0s 68us/step - loss: 1.1274 - accuracy: 0.5315 - get_f1: 0.3607 - val_loss: 1.0640 - val_accuracy: 0.5415 - val_get_f1: 0.4065\n",
      "\n",
      "Epoch 00002: val_loss improved from 1.20044 to 1.06403, saving model to best.h5\n",
      "Epoch 3/50\n",
      "4713/4713 [==============================] - 0s 70us/step - loss: 1.0413 - accuracy: 0.5695 - get_f1: 0.4308 - val_loss: 1.0086 - val_accuracy: 0.5864 - val_get_f1: 0.4685\n",
      "\n",
      "Epoch 00003: val_loss improved from 1.06403 to 1.00862, saving model to best.h5\n",
      "Epoch 4/50\n",
      "4713/4713 [==============================] - 0s 68us/step - loss: 1.0140 - accuracy: 0.5769 - get_f1: 0.4596 - val_loss: 1.0275 - val_accuracy: 0.5610 - val_get_f1: 0.4486\n",
      "\n",
      "Epoch 00004: val_loss did not improve from 1.00862\n",
      "Epoch 5/50\n",
      "4713/4713 [==============================] - 0s 73us/step - loss: 0.9884 - accuracy: 0.5911 - get_f1: 0.4836 - val_loss: 1.0141 - val_accuracy: 0.5585 - val_get_f1: 0.5168\n",
      "\n",
      "Epoch 00005: val_loss did not improve from 1.00862\n",
      "Epoch 6/50\n",
      "4713/4713 [==============================] - 0s 68us/step - loss: 0.9780 - accuracy: 0.5986 - get_f1: 0.5117 - val_loss: 0.9733 - val_accuracy: 0.5975 - val_get_f1: 0.5014\n",
      "\n",
      "Epoch 00006: val_loss improved from 1.00862 to 0.97328, saving model to best.h5\n",
      "Epoch 7/50\n",
      "4713/4713 [==============================] - 0s 74us/step - loss: 0.9595 - accuracy: 0.6081 - get_f1: 0.5237 - val_loss: 0.9631 - val_accuracy: 0.6288 - val_get_f1: 0.4945\n",
      "\n",
      "Epoch 00007: val_loss improved from 0.97328 to 0.96311, saving model to best.h5\n",
      "Epoch 8/50\n",
      "4713/4713 [==============================] - 0s 76us/step - loss: 0.9498 - accuracy: 0.6034 - get_f1: 0.5322 - val_loss: 0.9391 - val_accuracy: 0.6297 - val_get_f1: 0.5452\n",
      "\n",
      "Epoch 00008: val_loss improved from 0.96311 to 0.93909, saving model to best.h5\n",
      "Epoch 9/50\n",
      "4713/4713 [==============================] - 0s 78us/step - loss: 0.9341 - accuracy: 0.6126 - get_f1: 0.5435 - val_loss: 0.9581 - val_accuracy: 0.5932 - val_get_f1: 0.5445\n",
      "\n",
      "Epoch 00009: val_loss did not improve from 0.93909\n",
      "Epoch 10/50\n",
      "4713/4713 [==============================] - 0s 79us/step - loss: 0.9339 - accuracy: 0.6177 - get_f1: 0.5448 - val_loss: 0.9188 - val_accuracy: 0.6441 - val_get_f1: 0.5477\n",
      "\n",
      "Epoch 00010: val_loss improved from 0.93909 to 0.91884, saving model to best.h5\n",
      "Epoch 11/50\n",
      "4713/4713 [==============================] - 0s 76us/step - loss: 0.9090 - accuracy: 0.6287 - get_f1: 0.5631 - val_loss: 0.9194 - val_accuracy: 0.6314 - val_get_f1: 0.5719\n",
      "\n",
      "Epoch 00011: val_loss did not improve from 0.91884\n",
      "Epoch 12/50\n",
      "4713/4713 [==============================] - 0s 69us/step - loss: 0.9005 - accuracy: 0.6302 - get_f1: 0.5668 - val_loss: 0.9079 - val_accuracy: 0.6347 - val_get_f1: 0.5700\n",
      "\n",
      "Epoch 00012: val_loss improved from 0.91884 to 0.90790, saving model to best.h5\n",
      "Epoch 13/50\n",
      "4713/4713 [==============================] - 0s 75us/step - loss: 0.8900 - accuracy: 0.6340 - get_f1: 0.5807 - val_loss: 0.9302 - val_accuracy: 0.6195 - val_get_f1: 0.5617\n",
      "\n",
      "Epoch 00013: val_loss did not improve from 0.90790\n",
      "Epoch 14/50\n",
      "4713/4713 [==============================] - 0s 71us/step - loss: 0.8797 - accuracy: 0.6397 - get_f1: 0.5819 - val_loss: 0.9241 - val_accuracy: 0.6102 - val_get_f1: 0.5846\n",
      "\n",
      "Epoch 00014: val_loss did not improve from 0.90790\n",
      "Epoch 15/50\n",
      "4713/4713 [==============================] - 0s 74us/step - loss: 0.8721 - accuracy: 0.6435 - get_f1: 0.5911 - val_loss: 0.8715 - val_accuracy: 0.6466 - val_get_f1: 0.6174\n",
      "\n",
      "Epoch 00015: val_loss improved from 0.90790 to 0.87154, saving model to best.h5\n",
      "Epoch 16/50\n",
      "4713/4713 [==============================] - 0s 75us/step - loss: 0.8604 - accuracy: 0.6484 - get_f1: 0.5972 - val_loss: 0.9148 - val_accuracy: 0.6237 - val_get_f1: 0.5893\n",
      "\n",
      "Epoch 00016: val_loss did not improve from 0.87154\n",
      "Epoch 17/50\n",
      "4713/4713 [==============================] - 0s 68us/step - loss: 0.8567 - accuracy: 0.6457 - get_f1: 0.6036 - val_loss: 0.8873 - val_accuracy: 0.6483 - val_get_f1: 0.5882\n",
      "\n",
      "Epoch 00017: val_loss did not improve from 0.87154\n",
      "Epoch 18/50\n",
      "4713/4713 [==============================] - 0s 64us/step - loss: 0.8420 - accuracy: 0.6571 - get_f1: 0.6165 - val_loss: 0.8527 - val_accuracy: 0.6602 - val_get_f1: 0.6285\n",
      "\n",
      "Epoch 00018: val_loss improved from 0.87154 to 0.85266, saving model to best.h5\n",
      "Epoch 19/50\n",
      "4713/4713 [==============================] - 0s 66us/step - loss: 0.8456 - accuracy: 0.6512 - get_f1: 0.6100 - val_loss: 0.8479 - val_accuracy: 0.6653 - val_get_f1: 0.6101\n",
      "\n",
      "Epoch 00019: val_loss improved from 0.85266 to 0.84793, saving model to best.h5\n",
      "Epoch 20/50\n",
      "4713/4713 [==============================] - 0s 63us/step - loss: 0.8300 - accuracy: 0.6597 - get_f1: 0.6237 - val_loss: 0.8493 - val_accuracy: 0.6432 - val_get_f1: 0.6207\n",
      "\n",
      "Epoch 00020: val_loss did not improve from 0.84793\n",
      "Epoch 21/50\n",
      "4713/4713 [==============================] - 0s 63us/step - loss: 0.8219 - accuracy: 0.6662 - get_f1: 0.6239 - val_loss: 0.8368 - val_accuracy: 0.6458 - val_get_f1: 0.6219\n",
      "\n",
      "Epoch 00021: val_loss improved from 0.84793 to 0.83681, saving model to best.h5\n",
      "Epoch 22/50\n",
      "4713/4713 [==============================] - 0s 67us/step - loss: 0.8284 - accuracy: 0.6567 - get_f1: 0.6147 - val_loss: 0.8268 - val_accuracy: 0.6644 - val_get_f1: 0.6393\n",
      "\n",
      "Epoch 00022: val_loss improved from 0.83681 to 0.82679, saving model to best.h5\n",
      "Epoch 23/50\n",
      "4713/4713 [==============================] - 0s 63us/step - loss: 0.8094 - accuracy: 0.6677 - get_f1: 0.6312 - val_loss: 0.8284 - val_accuracy: 0.6669 - val_get_f1: 0.6263\n",
      "\n",
      "Epoch 00023: val_loss did not improve from 0.82679\n",
      "Epoch 24/50\n",
      "4713/4713 [==============================] - 0s 63us/step - loss: 0.8097 - accuracy: 0.6688 - get_f1: 0.6287 - val_loss: 0.8335 - val_accuracy: 0.6585 - val_get_f1: 0.6370\n",
      "\n",
      "Epoch 00024: val_loss did not improve from 0.82679\n",
      "Epoch 25/50\n",
      "4713/4713 [==============================] - 0s 63us/step - loss: 0.8046 - accuracy: 0.6715 - get_f1: 0.6358 - val_loss: 0.8157 - val_accuracy: 0.6737 - val_get_f1: 0.6464\n",
      "\n",
      "Epoch 00025: val_loss improved from 0.82679 to 0.81572, saving model to best.h5\n",
      "Epoch 26/50\n",
      "4713/4713 [==============================] - 0s 68us/step - loss: 0.8000 - accuracy: 0.6745 - get_f1: 0.6414 - val_loss: 0.8236 - val_accuracy: 0.6814 - val_get_f1: 0.6557\n",
      "\n",
      "Epoch 00026: val_loss did not improve from 0.81572\n",
      "Epoch 27/50\n",
      "4713/4713 [==============================] - 0s 63us/step - loss: 0.7898 - accuracy: 0.6777 - get_f1: 0.6498 - val_loss: 0.8282 - val_accuracy: 0.6466 - val_get_f1: 0.6271\n",
      "\n",
      "Epoch 00027: val_loss did not improve from 0.81572\n",
      "Epoch 28/50\n",
      "4713/4713 [==============================] - 0s 63us/step - loss: 0.7884 - accuracy: 0.6798 - get_f1: 0.6423 - val_loss: 0.8665 - val_accuracy: 0.6508 - val_get_f1: 0.6261\n",
      "\n",
      "Epoch 00028: val_loss did not improve from 0.81572\n",
      "Epoch 29/50\n",
      "4713/4713 [==============================] - 0s 63us/step - loss: 0.7804 - accuracy: 0.6811 - get_f1: 0.6481 - val_loss: 0.8054 - val_accuracy: 0.6907 - val_get_f1: 0.6421\n",
      "\n",
      "Epoch 00029: val_loss improved from 0.81572 to 0.80535, saving model to best.h5\n",
      "Epoch 30/50\n",
      "4713/4713 [==============================] - 0s 63us/step - loss: 0.7790 - accuracy: 0.6828 - get_f1: 0.6500 - val_loss: 0.8117 - val_accuracy: 0.6729 - val_get_f1: 0.6465\n",
      "\n",
      "Epoch 00030: val_loss did not improve from 0.80535\n",
      "Epoch 31/50\n",
      "4713/4713 [==============================] - 0s 63us/step - loss: 0.7746 - accuracy: 0.6919 - get_f1: 0.6553 - val_loss: 0.8027 - val_accuracy: 0.6814 - val_get_f1: 0.6533\n",
      "\n",
      "Epoch 00031: val_loss improved from 0.80535 to 0.80275, saving model to best.h5\n",
      "Epoch 32/50\n",
      "4713/4713 [==============================] - 0s 63us/step - loss: 0.7697 - accuracy: 0.6938 - get_f1: 0.6592 - val_loss: 0.7959 - val_accuracy: 0.6898 - val_get_f1: 0.6496\n",
      "\n",
      "Epoch 00032: val_loss improved from 0.80275 to 0.79593, saving model to best.h5\n",
      "Epoch 33/50\n"
     ]
    },
    {
     "name": "stdout",
     "output_type": "stream",
     "text": [
      "4713/4713 [==============================] - 0s 63us/step - loss: 0.7686 - accuracy: 0.6817 - get_f1: 0.6535 - val_loss: 0.7914 - val_accuracy: 0.6924 - val_get_f1: 0.6533\n",
      "\n",
      "Epoch 00033: val_loss improved from 0.79593 to 0.79141, saving model to best.h5\n",
      "Epoch 34/50\n",
      "4713/4713 [==============================] - 0s 64us/step - loss: 0.7604 - accuracy: 0.6898 - get_f1: 0.6658 - val_loss: 0.7937 - val_accuracy: 0.6864 - val_get_f1: 0.6547\n",
      "\n",
      "Epoch 00034: val_loss did not improve from 0.79141\n",
      "Epoch 35/50\n",
      "4713/4713 [==============================] - 0s 63us/step - loss: 0.7620 - accuracy: 0.6834 - get_f1: 0.6548 - val_loss: 0.7965 - val_accuracy: 0.6754 - val_get_f1: 0.6594\n",
      "\n",
      "Epoch 00035: val_loss did not improve from 0.79141\n",
      "Epoch 36/50\n",
      "4713/4713 [==============================] - 0s 63us/step - loss: 0.7498 - accuracy: 0.6917 - get_f1: 0.6708 - val_loss: 0.7910 - val_accuracy: 0.6797 - val_get_f1: 0.6664\n",
      "\n",
      "Epoch 00036: val_loss improved from 0.79141 to 0.79102, saving model to best.h5\n",
      "Epoch 37/50\n",
      "4713/4713 [==============================] - 0s 63us/step - loss: 0.7616 - accuracy: 0.6953 - get_f1: 0.6627 - val_loss: 0.7792 - val_accuracy: 0.6975 - val_get_f1: 0.6635\n",
      "\n",
      "Epoch 00037: val_loss improved from 0.79102 to 0.77924, saving model to best.h5\n",
      "Epoch 38/50\n",
      "4713/4713 [==============================] - 0s 65us/step - loss: 0.7526 - accuracy: 0.6892 - get_f1: 0.6659 - val_loss: 0.8104 - val_accuracy: 0.6610 - val_get_f1: 0.6368\n",
      "\n",
      "Epoch 00038: val_loss did not improve from 0.77924\n",
      "Epoch 39/50\n",
      "4713/4713 [==============================] - 0s 67us/step - loss: 0.7458 - accuracy: 0.6991 - get_f1: 0.6672 - val_loss: 0.7870 - val_accuracy: 0.6788 - val_get_f1: 0.6500\n",
      "\n",
      "Epoch 00039: val_loss did not improve from 0.77924\n",
      "Epoch 40/50\n",
      "4713/4713 [==============================] - 0s 73us/step - loss: 0.7418 - accuracy: 0.6998 - get_f1: 0.6714 - val_loss: 0.7965 - val_accuracy: 0.6695 - val_get_f1: 0.6474\n",
      "\n",
      "Epoch 00040: val_loss did not improve from 0.77924\n",
      "Epoch 41/50\n",
      "4713/4713 [==============================] - 0s 75us/step - loss: 0.7527 - accuracy: 0.6915 - get_f1: 0.6695 - val_loss: 0.7818 - val_accuracy: 0.6941 - val_get_f1: 0.6728\n",
      "\n",
      "Epoch 00041: val_loss did not improve from 0.77924\n",
      "Epoch 42/50\n",
      "4713/4713 [==============================] - 0s 79us/step - loss: 0.7321 - accuracy: 0.7025 - get_f1: 0.6836 - val_loss: 0.7663 - val_accuracy: 0.7042 - val_get_f1: 0.6782\n",
      "\n",
      "Epoch 00042: val_loss improved from 0.77924 to 0.76627, saving model to best.h5\n",
      "Epoch 43/50\n",
      "4713/4713 [==============================] - 0s 78us/step - loss: 0.7303 - accuracy: 0.7108 - get_f1: 0.6818 - val_loss: 0.7602 - val_accuracy: 0.6958 - val_get_f1: 0.6804\n",
      "\n",
      "Epoch 00043: val_loss improved from 0.76627 to 0.76020, saving model to best.h5\n",
      "Epoch 44/50\n",
      "4713/4713 [==============================] - 0s 73us/step - loss: 0.7301 - accuracy: 0.7091 - get_f1: 0.6843 - val_loss: 0.7735 - val_accuracy: 0.6983 - val_get_f1: 0.6729\n",
      "\n",
      "Epoch 00044: val_loss did not improve from 0.76020\n",
      "Epoch 45/50\n",
      "4713/4713 [==============================] - 0s 65us/step - loss: 0.7388 - accuracy: 0.7010 - get_f1: 0.6784 - val_loss: 0.7581 - val_accuracy: 0.6949 - val_get_f1: 0.6778\n",
      "\n",
      "Epoch 00045: val_loss improved from 0.76020 to 0.75812, saving model to best.h5\n",
      "Epoch 46/50\n",
      "4713/4713 [==============================] - 0s 64us/step - loss: 0.7285 - accuracy: 0.7010 - get_f1: 0.6837 - val_loss: 0.7780 - val_accuracy: 0.6932 - val_get_f1: 0.6733\n",
      "\n",
      "Epoch 00046: val_loss did not improve from 0.75812\n",
      "Epoch 47/50\n",
      "4713/4713 [==============================] - 0s 63us/step - loss: 0.7234 - accuracy: 0.7089 - get_f1: 0.6850 - val_loss: 0.7687 - val_accuracy: 0.6890 - val_get_f1: 0.6717\n",
      "\n",
      "Epoch 00047: val_loss did not improve from 0.75812\n",
      "Epoch 48/50\n",
      "4713/4713 [==============================] - 0s 63us/step - loss: 0.7195 - accuracy: 0.7063 - get_f1: 0.6875 - val_loss: 0.7571 - val_accuracy: 0.6822 - val_get_f1: 0.6669\n",
      "\n",
      "Epoch 00048: val_loss improved from 0.75812 to 0.75714, saving model to best.h5\n",
      "Epoch 49/50\n",
      "4713/4713 [==============================] - 0s 63us/step - loss: 0.7173 - accuracy: 0.7133 - get_f1: 0.6886 - val_loss: 0.7511 - val_accuracy: 0.7008 - val_get_f1: 0.6762\n",
      "\n",
      "Epoch 00049: val_loss improved from 0.75714 to 0.75110, saving model to best.h5\n",
      "Epoch 50/50\n",
      "4713/4713 [==============================] - 0s 63us/step - loss: 0.7206 - accuracy: 0.7049 - get_f1: 0.6874 - val_loss: 0.7741 - val_accuracy: 0.6839 - val_get_f1: 0.6676\n",
      "\n",
      "Epoch 00050: val_loss did not improve from 0.75110\n"
     ]
    }
   ],
   "source": [
    "model.compile(loss=loss_type, optimizer=optimizer, metrics=['accuracy', get_f1])\n",
    "\n",
    "history = model.fit(x=X_train,\n",
    "                    y=y_train,\n",
    "                    validation_data=(X_test, y_test),\n",
    "                    epochs=epochs,\n",
    "                    batch_size=batch_size, \n",
    "                    callbacks=[cb_checkpointer, cb_early_stopper, cb_learning_rate_reduction])\n",
    "\n",
    "# Wczytanie najlepszego\n",
    "model.load_weights('best.h5')\n",
    "\n",
    "# Zapis do nowego pliku\n",
    "model.save('the_best.h5')"
   ]
  },
  {
   "cell_type": "markdown",
   "metadata": {},
   "source": [
    "# Statystyki"
   ]
  },
  {
   "cell_type": "code",
   "execution_count": 40,
   "metadata": {},
   "outputs": [
    {
     "data": {
      "image/png": "[encoded data removed]",
      "text/plain": [
       "<Figure size 864x864 with 3 Axes>"
      ]
     },
     "metadata": {
      "needs_background": "light"
     },
     "output_type": "display_data"
    },
    {
     "name": "stdout",
     "output_type": "stream",
     "text": [
      "Test loss: 0.751\n",
      "Test accuracy: 0.701\n",
      "Test F1: 0.676\n"
     ]
    }
   ],
   "source": [
    "loss, accuracy, get_f1  = model.evaluate(X_test, y_test, verbose=False)\n",
    "\n",
    "fig, (ax1, ax2, ax3) = plt.subplots(3, 1, figsize=(12, 12))\n",
    "\n",
    "# Wykres loss\n",
    "ax1.plot(history.history['loss'], color='b', label=\"Training loss\")\n",
    "ax1.plot(history.history['val_loss'], color='r', label=\"Validation loss\")\n",
    "ax1.set_xticks(numpy.arange(0, len(history.history['val_loss']), 1))\n",
    "ax1.legend(loc='best', shadow=True)\n",
    "ax1.set_ylabel('loss')\n",
    "ax1.set_xlabel('epoch')\n",
    "\n",
    "# Wykres accuracy\n",
    "ax2.plot(history.history['accuracy'], color='b', label=\"Training accuracy\")\n",
    "ax2.plot(history.history['val_accuracy'], color='r',label=\"Validation accuracy\")\n",
    "ax2.set_xticks(numpy.arange(0, len(history.history['val_accuracy']), 1))\n",
    "ax2.legend(loc='best', shadow=True)\n",
    "ax2.set_ylabel('accuracy')\n",
    "ax2.set_xlabel('epoch')\n",
    "\n",
    "# Wykres F1\n",
    "ax3.plot(history.history['get_f1'], color='b', label=\"Training f1\")\n",
    "ax3.plot(history.history['val_get_f1'], color='r',label=\"Validation f1\")\n",
    "ax3.set_xticks(numpy.arange(0, len(history.history['get_f1']), 1))\n",
    "ax3.legend(loc='best', shadow=True)\n",
    "ax3.set_ylabel('f1')\n",
    "ax3.set_xlabel('epoch')\n",
    "\n",
    "\n",
    "plt.tight_layout()\n",
    "plt.show()\n",
    "\n",
    "print(f'Test loss: {loss:.3}')\n",
    "print(f'Test accuracy: {accuracy:.3}')\n",
    "print(f'Test F1: {get_f1:.3}')\n"
   ]
  },
  {
   "cell_type": "code",
   "execution_count": 31,
   "metadata": {},
   "outputs": [],
   "source": [
    "predictions = model.predict(X_test)"
   ]
  },
  {
   "cell_type": "code",
   "execution_count": 32,
   "metadata": {},
   "outputs": [],
   "source": [
    "# Predykcje są zakodowane w one-hot encoderze, to zamienia wyjście na maxa i zmienia kształt na tabele\n",
    "\n",
    "predictions = numpy.array(list(map(lambda x: numpy.where(x == numpy.amax(x))[1], predictions)))\n",
    "predictions = numpy.reshape(predictions, (y_test.shape[0],))\n",
    "\n",
    "y_pred = predictions"
   ]
  },
  {
   "cell_type": "code",
   "execution_count": 34,
   "metadata": {},
   "outputs": [],
   "source": [
    "# Etykieta target jest zakodowana w one-hot encoderze, to zamienia wyjście na maxa i zmienia kształt na tabele\n",
    "tmp = numpy.array(list(map(lambda x: numpy.where(x == numpy.amax(x))[1], y_test)))\n",
    "tmp = numpy.reshape(tmp, (y_test.shape[0],))\n",
    "\n",
    "y_true = tmp"
   ]
  },
  {
   "cell_type": "code",
   "execution_count": 35,
   "metadata": {},
   "outputs": [],
   "source": [
    "cm = confusion_matrix(y_true, y_pred)"
   ]
  },
  {
   "cell_type": "code",
   "execution_count": 36,
   "metadata": {},
   "outputs": [
    {
     "data": {
      "image/png": "[encoded data removed]",
      "text/plain": [
       "<Figure size 432x288 with 2 Axes>"
      ]
     },
     "metadata": {
      "needs_background": "light"
     },
     "output_type": "display_data"
    }
   ],
   "source": [
    "plot_cm(cm, ['Still', 'Car', 'Train', 'Bus', 'Walking'])"
   ]
  },
  {
   "cell_type": "code",
   "execution_count": 37,
   "metadata": {},
   "outputs": [
    {
     "name": "stdout",
     "output_type": "stream",
     "text": [
      "[[177   4  43   6   6]\n",
      " [  4 164  29  34   5]\n",
      " [ 11  55 128  31  11]\n",
      " [  3  26  44 148  15]\n",
      " [  5   4  10   7 210]]\n"
     ]
    }
   ],
   "source": [
    "print(cm)"
   ]
  },
  {
   "cell_type": "code",
   "execution_count": 39,
   "metadata": {},
   "outputs": [
    {
     "name": "stdout",
     "output_type": "stream",
     "text": [
      "Accuracy: 0.7008474576271186\n",
      "Precision: 0.7084456075068999\n",
      "Recall: 0.7008474576271186\n",
      "F-score: 0.7030780178794276\n"
     ]
    }
   ],
   "source": [
    "accuracy, precision, recall, fscore = countStats(y_true, y_pred)\n",
    "print(f'Accuracy: {accuracy}\\nPrecision: {precision}\\nRecall: {recall}\\nF-score: {fscore}')"
   ]
  },
  {
   "cell_type": "code",
   "execution_count": null,
   "metadata": {},
   "outputs": [],
   "source": []
  }
 ],
 "metadata": {
  "kernelspec": {
   "display_name": "Python 3",
   "language": "python",
   "name": "python3"
  },
  "language_info": {
   "codemirror_mode": {
    "name": "ipython",
    "version": 3
   },
   "file_extension": ".py",
   "mimetype": "text/x-python",
   "name": "python",
   "nbconvert_exporter": "python",
   "pygments_lexer": "ipython3",
   "version": "3.7.4"
  }
 },
 "nbformat": 4,
 "nbformat_minor": 4
}
