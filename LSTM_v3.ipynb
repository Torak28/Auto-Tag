{
 "cells": [
  {
   "cell_type": "markdown",
   "metadata": {},
   "source": [
    "# Notatki"
   ]
  },
  {
   "cell_type": "markdown",
   "metadata": {},
   "source": [
    " * Jakbyśmy mieli do czynienia z ciagłym przypływem próbek bez żadnych przerw to moglibyśmy pozwolić sobie na dropnięcie czasu\n",
    " * Lepiej celować w wielkość typu 200-400 time steps w LSTM(patrz: [źródło](https://machinelearningmastery.com/prepare-univariate-time-series-data-long-short-term-memory-networks/))"
   ]
  },
  {
   "cell_type": "markdown",
   "metadata": {},
   "source": [
    "# Sprawdzanie środowiska"
   ]
  },
  {
   "cell_type": "code",
   "execution_count": 1,
   "metadata": {},
   "outputs": [
    {
     "name": "stdout",
     "output_type": "stream",
     "text": [
      "3.7.4\n"
     ]
    }
   ],
   "source": [
    "from platform import python_version\n",
    "\n",
    "print(python_version())\n",
    "\n",
    "import os\n",
    "\n",
    "os.environ[\"CUDA_VISIBLE_DEVICES\"] = \"-1\""
   ]
  },
  {
   "cell_type": "markdown",
   "metadata": {},
   "source": [
    "# Załadowanie danych"
   ]
  },
  {
   "cell_type": "code",
   "execution_count": 2,
   "metadata": {},
   "outputs": [
    {
     "name": "stderr",
     "output_type": "stream",
     "text": [
      "Using TensorFlow backend.\n"
     ]
    }
   ],
   "source": [
    "import numpy\n",
    "import pandas as pd\n",
    "import matplotlib.pyplot as plt\n",
    "import seaborn as sns\n",
    "import tensorflow as tf\n",
    "import math\n",
    "from keras.models import Sequential\n",
    "from keras.layers import Dense\n",
    "from keras.layers import LSTM\n",
    "from sklearn.preprocessing import MinMaxScaler\n",
    "from sklearn.metrics import mean_squared_error\n",
    "from keras.layers.embeddings import Embedding\n",
    "from keras.preprocessing import sequence\n",
    "from sklearn.model_selection import StratifiedKFold\n",
    "from keras.utils import to_categorical\n",
    "\n",
    "# fix random bo tak ( ͡° ͜ʖ ͡°)\n",
    "odp = 42\n",
    "numpy.random.seed(odp)"
   ]
  },
  {
   "cell_type": "code",
   "execution_count": 3,
   "metadata": {
    "scrolled": true
   },
   "outputs": [
    {
     "name": "stdout",
     "output_type": "stream",
     "text": [
      " Volume in drive D is Data\n",
      " Volume Serial Number is 82E7-60C3\n",
      "\n",
      " Directory of D:\\Studia\\Auto_Tag\n",
      "\n",
      "\n",
      " Directory of D:\\Studia\\Auto_Tag\\data\n",
      "\n",
      "26.05.2020  07:13    <DIR>          .\n",
      "26.05.2020  07:13    <DIR>          ..\n",
      "04.05.2020  12:59           286˙105 data_real_5s.csv\n",
      "26.05.2020  07:13        16˙127˙004 data_real_5s_without_step_25_05.csv\n",
      "09.04.2020  16:52         1˙076˙355 easy.csv\n",
      "09.04.2020  16:52         2˙924˙235 hard.csv\n",
      "09.04.2020  16:52         2˙787˙990 medium.csv\n",
      "04.05.2020  14:29         3˙955˙274 rawData.csv\n",
      "               6 File(s)     27˙156˙963 bytes\n",
      "               2 Dir(s)  255˙654˙334˙464 bytes free\n"
     ]
    },
    {
     "name": "stderr",
     "output_type": "stream",
     "text": [
      "File Not Found\n"
     ]
    }
   ],
   "source": [
    "%ls -l data"
   ]
  },
  {
   "cell_type": "code",
   "execution_count": 4,
   "metadata": {},
   "outputs": [],
   "source": [
    "data_type = '5s_new' # '5s' or '5s_new' or 'raw'\n",
    "\n",
    "if data_type == 'raw':\n",
    "    df = pd.read_csv(\"data//rawData.csv\")\n",
    "    tmp = df.pop('target')\n",
    "    df['activity'] = tmp\n",
    "else:\n",
    "    df = pd.read_csv(\"data//data_real_5s_without_step_25_05.csv\", index_col = 0)\n",
    "    tmp = df.pop('activity')\n",
    "    df['activity'] = tmp\n",
    "    \n",
    "df.dropna(inplace=True)\n",
    "\n"
   ]
  },
  {
   "cell_type": "code",
   "execution_count": 5,
   "metadata": {},
   "outputs": [
    {
     "data": {
      "text/html": [
       "<div>\n",
       "<style scoped>\n",
       "    .dataframe tbody tr th:only-of-type {\n",
       "        vertical-align: middle;\n",
       "    }\n",
       "\n",
       "    .dataframe tbody tr th {\n",
       "        vertical-align: top;\n",
       "    }\n",
       "\n",
       "    .dataframe thead th {\n",
       "        text-align: right;\n",
       "    }\n",
       "</style>\n",
       "<table border=\"1\" class=\"dataframe\">\n",
       "  <thead>\n",
       "    <tr style=\"text-align: right;\">\n",
       "      <th></th>\n",
       "      <th>gyroscope#mean</th>\n",
       "      <th>gyroscope#std</th>\n",
       "      <th>gyroscope#min</th>\n",
       "      <th>gyroscope#max</th>\n",
       "      <th>acceleration#mean</th>\n",
       "      <th>acceleration#std</th>\n",
       "      <th>acceleration#min</th>\n",
       "      <th>acceleration#max</th>\n",
       "      <th>magnetometer#mean</th>\n",
       "      <th>magnetometer#std</th>\n",
       "      <th>magnetometer#min</th>\n",
       "      <th>magnetometer#max</th>\n",
       "      <th>activity</th>\n",
       "    </tr>\n",
       "  </thead>\n",
       "  <tbody>\n",
       "    <tr>\n",
       "      <th>0</th>\n",
       "      <td>95.417080</td>\n",
       "      <td>70.900671</td>\n",
       "      <td>16.448503</td>\n",
       "      <td>279.407482</td>\n",
       "      <td>1.041196</td>\n",
       "      <td>0.209946</td>\n",
       "      <td>0.42369</td>\n",
       "      <td>1.322665</td>\n",
       "      <td>0.002898</td>\n",
       "      <td>5.181961e-07</td>\n",
       "      <td>0.002897</td>\n",
       "      <td>0.002899</td>\n",
       "      <td>cooking</td>\n",
       "    </tr>\n",
       "    <tr>\n",
       "      <th>1</th>\n",
       "      <td>129.129026</td>\n",
       "      <td>127.943945</td>\n",
       "      <td>33.911102</td>\n",
       "      <td>522.127682</td>\n",
       "      <td>1.026757</td>\n",
       "      <td>0.203443</td>\n",
       "      <td>0.42369</td>\n",
       "      <td>1.322665</td>\n",
       "      <td>0.002898</td>\n",
       "      <td>4.788960e-07</td>\n",
       "      <td>0.002897</td>\n",
       "      <td>0.002899</td>\n",
       "      <td>cooking</td>\n",
       "    </tr>\n",
       "    <tr>\n",
       "      <th>2</th>\n",
       "      <td>137.516921</td>\n",
       "      <td>128.572005</td>\n",
       "      <td>33.911102</td>\n",
       "      <td>522.127682</td>\n",
       "      <td>1.041192</td>\n",
       "      <td>0.210389</td>\n",
       "      <td>0.42369</td>\n",
       "      <td>1.322665</td>\n",
       "      <td>0.002898</td>\n",
       "      <td>4.792691e-07</td>\n",
       "      <td>0.002896</td>\n",
       "      <td>0.002899</td>\n",
       "      <td>cooking</td>\n",
       "    </tr>\n",
       "    <tr>\n",
       "      <th>3</th>\n",
       "      <td>135.190287</td>\n",
       "      <td>129.233705</td>\n",
       "      <td>33.911102</td>\n",
       "      <td>522.127682</td>\n",
       "      <td>1.026217</td>\n",
       "      <td>0.200724</td>\n",
       "      <td>0.42369</td>\n",
       "      <td>1.322665</td>\n",
       "      <td>0.002897</td>\n",
       "      <td>4.856072e-07</td>\n",
       "      <td>0.002896</td>\n",
       "      <td>0.002898</td>\n",
       "      <td>cooking</td>\n",
       "    </tr>\n",
       "    <tr>\n",
       "      <th>4</th>\n",
       "      <td>129.129346</td>\n",
       "      <td>129.830817</td>\n",
       "      <td>33.911102</td>\n",
       "      <td>522.127682</td>\n",
       "      <td>1.022755</td>\n",
       "      <td>0.201100</td>\n",
       "      <td>0.42369</td>\n",
       "      <td>1.322665</td>\n",
       "      <td>0.002897</td>\n",
       "      <td>5.233670e-07</td>\n",
       "      <td>0.002896</td>\n",
       "      <td>0.002898</td>\n",
       "      <td>cooking</td>\n",
       "    </tr>\n",
       "  </tbody>\n",
       "</table>\n",
       "</div>"
      ],
      "text/plain": [
       "   gyroscope#mean  gyroscope#std  gyroscope#min  gyroscope#max  \\\n",
       "0       95.417080      70.900671      16.448503     279.407482   \n",
       "1      129.129026     127.943945      33.911102     522.127682   \n",
       "2      137.516921     128.572005      33.911102     522.127682   \n",
       "3      135.190287     129.233705      33.911102     522.127682   \n",
       "4      129.129346     129.830817      33.911102     522.127682   \n",
       "\n",
       "   acceleration#mean  acceleration#std  acceleration#min  acceleration#max  \\\n",
       "0           1.041196          0.209946           0.42369          1.322665   \n",
       "1           1.026757          0.203443           0.42369          1.322665   \n",
       "2           1.041192          0.210389           0.42369          1.322665   \n",
       "3           1.026217          0.200724           0.42369          1.322665   \n",
       "4           1.022755          0.201100           0.42369          1.322665   \n",
       "\n",
       "   magnetometer#mean  magnetometer#std  magnetometer#min  magnetometer#max  \\\n",
       "0           0.002898      5.181961e-07          0.002897          0.002899   \n",
       "1           0.002898      4.788960e-07          0.002897          0.002899   \n",
       "2           0.002898      4.792691e-07          0.002896          0.002899   \n",
       "3           0.002897      4.856072e-07          0.002896          0.002898   \n",
       "4           0.002897      5.233670e-07          0.002896          0.002898   \n",
       "\n",
       "  activity  \n",
       "0  cooking  \n",
       "1  cooking  \n",
       "2  cooking  \n",
       "3  cooking  \n",
       "4  cooking  "
      ]
     },
     "execution_count": 5,
     "metadata": {},
     "output_type": "execute_result"
    }
   ],
   "source": [
    "df.head()"
   ]
  },
  {
   "cell_type": "code",
   "execution_count": 6,
   "metadata": {},
   "outputs": [],
   "source": [
    "'''\n",
    "from datetime import datetime\n",
    "\n",
    "# zmiana timestampów na UNIXowe\n",
    "timestamps = []\n",
    "\n",
    "for i in df['timestamp']:\n",
    "    now = i\n",
    "    now = datetime.strptime(now, '%Y-%m-%d %H:%M:%S')\n",
    "    timestamp = datetime.timestamp(now)\n",
    "    timestamps.append(timestamp)\n",
    "\n",
    "df['timestamp'] = timestamps\n",
    "'''\n",
    "\n",
    "# ciągły czas\n",
    "if data_type == '5s':\n",
    "    df.drop(columns = ['timestamp'], inplace = True)"
   ]
  },
  {
   "cell_type": "code",
   "execution_count": 7,
   "metadata": {},
   "outputs": [
    {
     "data": {
      "text/html": [
       "<div>\n",
       "<style scoped>\n",
       "    .dataframe tbody tr th:only-of-type {\n",
       "        vertical-align: middle;\n",
       "    }\n",
       "\n",
       "    .dataframe tbody tr th {\n",
       "        vertical-align: top;\n",
       "    }\n",
       "\n",
       "    .dataframe thead th {\n",
       "        text-align: right;\n",
       "    }\n",
       "</style>\n",
       "<table border=\"1\" class=\"dataframe\">\n",
       "  <thead>\n",
       "    <tr style=\"text-align: right;\">\n",
       "      <th></th>\n",
       "      <th>gyroscope#mean</th>\n",
       "      <th>gyroscope#std</th>\n",
       "      <th>gyroscope#min</th>\n",
       "      <th>gyroscope#max</th>\n",
       "      <th>acceleration#mean</th>\n",
       "      <th>acceleration#std</th>\n",
       "      <th>acceleration#min</th>\n",
       "      <th>acceleration#max</th>\n",
       "      <th>magnetometer#mean</th>\n",
       "      <th>magnetometer#std</th>\n",
       "      <th>magnetometer#min</th>\n",
       "      <th>magnetometer#max</th>\n",
       "      <th>activity</th>\n",
       "    </tr>\n",
       "  </thead>\n",
       "  <tbody>\n",
       "    <tr>\n",
       "      <th>0</th>\n",
       "      <td>95.417080</td>\n",
       "      <td>70.900671</td>\n",
       "      <td>16.448503</td>\n",
       "      <td>279.407482</td>\n",
       "      <td>1.041196</td>\n",
       "      <td>0.209946</td>\n",
       "      <td>0.42369</td>\n",
       "      <td>1.322665</td>\n",
       "      <td>0.002898</td>\n",
       "      <td>5.181961e-07</td>\n",
       "      <td>0.002897</td>\n",
       "      <td>0.002899</td>\n",
       "      <td>cooking</td>\n",
       "    </tr>\n",
       "    <tr>\n",
       "      <th>1</th>\n",
       "      <td>129.129026</td>\n",
       "      <td>127.943945</td>\n",
       "      <td>33.911102</td>\n",
       "      <td>522.127682</td>\n",
       "      <td>1.026757</td>\n",
       "      <td>0.203443</td>\n",
       "      <td>0.42369</td>\n",
       "      <td>1.322665</td>\n",
       "      <td>0.002898</td>\n",
       "      <td>4.788960e-07</td>\n",
       "      <td>0.002897</td>\n",
       "      <td>0.002899</td>\n",
       "      <td>cooking</td>\n",
       "    </tr>\n",
       "    <tr>\n",
       "      <th>2</th>\n",
       "      <td>137.516921</td>\n",
       "      <td>128.572005</td>\n",
       "      <td>33.911102</td>\n",
       "      <td>522.127682</td>\n",
       "      <td>1.041192</td>\n",
       "      <td>0.210389</td>\n",
       "      <td>0.42369</td>\n",
       "      <td>1.322665</td>\n",
       "      <td>0.002898</td>\n",
       "      <td>4.792691e-07</td>\n",
       "      <td>0.002896</td>\n",
       "      <td>0.002899</td>\n",
       "      <td>cooking</td>\n",
       "    </tr>\n",
       "    <tr>\n",
       "      <th>3</th>\n",
       "      <td>135.190287</td>\n",
       "      <td>129.233705</td>\n",
       "      <td>33.911102</td>\n",
       "      <td>522.127682</td>\n",
       "      <td>1.026217</td>\n",
       "      <td>0.200724</td>\n",
       "      <td>0.42369</td>\n",
       "      <td>1.322665</td>\n",
       "      <td>0.002897</td>\n",
       "      <td>4.856072e-07</td>\n",
       "      <td>0.002896</td>\n",
       "      <td>0.002898</td>\n",
       "      <td>cooking</td>\n",
       "    </tr>\n",
       "    <tr>\n",
       "      <th>4</th>\n",
       "      <td>129.129346</td>\n",
       "      <td>129.830817</td>\n",
       "      <td>33.911102</td>\n",
       "      <td>522.127682</td>\n",
       "      <td>1.022755</td>\n",
       "      <td>0.201100</td>\n",
       "      <td>0.42369</td>\n",
       "      <td>1.322665</td>\n",
       "      <td>0.002897</td>\n",
       "      <td>5.233670e-07</td>\n",
       "      <td>0.002896</td>\n",
       "      <td>0.002898</td>\n",
       "      <td>cooking</td>\n",
       "    </tr>\n",
       "  </tbody>\n",
       "</table>\n",
       "</div>"
      ],
      "text/plain": [
       "   gyroscope#mean  gyroscope#std  gyroscope#min  gyroscope#max  \\\n",
       "0       95.417080      70.900671      16.448503     279.407482   \n",
       "1      129.129026     127.943945      33.911102     522.127682   \n",
       "2      137.516921     128.572005      33.911102     522.127682   \n",
       "3      135.190287     129.233705      33.911102     522.127682   \n",
       "4      129.129346     129.830817      33.911102     522.127682   \n",
       "\n",
       "   acceleration#mean  acceleration#std  acceleration#min  acceleration#max  \\\n",
       "0           1.041196          0.209946           0.42369          1.322665   \n",
       "1           1.026757          0.203443           0.42369          1.322665   \n",
       "2           1.041192          0.210389           0.42369          1.322665   \n",
       "3           1.026217          0.200724           0.42369          1.322665   \n",
       "4           1.022755          0.201100           0.42369          1.322665   \n",
       "\n",
       "   magnetometer#mean  magnetometer#std  magnetometer#min  magnetometer#max  \\\n",
       "0           0.002898      5.181961e-07          0.002897          0.002899   \n",
       "1           0.002898      4.788960e-07          0.002897          0.002899   \n",
       "2           0.002898      4.792691e-07          0.002896          0.002899   \n",
       "3           0.002897      4.856072e-07          0.002896          0.002898   \n",
       "4           0.002897      5.233670e-07          0.002896          0.002898   \n",
       "\n",
       "  activity  \n",
       "0  cooking  \n",
       "1  cooking  \n",
       "2  cooking  \n",
       "3  cooking  \n",
       "4  cooking  "
      ]
     },
     "execution_count": 7,
     "metadata": {},
     "output_type": "execute_result"
    }
   ],
   "source": [
    "df.head()"
   ]
  },
  {
   "cell_type": "code",
   "execution_count": 8,
   "metadata": {},
   "outputs": [
    {
     "data": {
      "text/plain": [
       "(63812, 13)"
      ]
     },
     "execution_count": 8,
     "metadata": {},
     "output_type": "execute_result"
    }
   ],
   "source": [
    "'''\n",
    "Wygląd danych:\n",
    "\n",
    "|     Nazwa     | Ilość pól |\n",
    "| :-----------: | :-------: |\n",
    "|   timestamp   |     1     |\n",
    "| accelerometer |     4     |\n",
    "|   gyroscope   |     4     |\n",
    "|  magnetometer |     4     |\n",
    "|    activity   |     1     |\n",
    "\n",
    "\n",
    "Suma: 14\n",
    "\n",
    "'''\n",
    "\n",
    "\n",
    "df.shape"
   ]
  },
  {
   "cell_type": "markdown",
   "metadata": {},
   "source": [
    "# Obróbka danych"
   ]
  },
  {
   "cell_type": "code",
   "execution_count": 9,
   "metadata": {},
   "outputs": [
    {
     "data": {
      "text/plain": [
       "array(['cooking', 'driving', 'sitting', 'walking', 'sport'], dtype=object)"
      ]
     },
     "execution_count": 9,
     "metadata": {},
     "output_type": "execute_result"
    }
   ],
   "source": [
    "'''\n",
    "Zmiana activity na liczby:\n",
    "\n",
    "0 - cooking\n",
    "1 - driving\n",
    "2 - sitting\n",
    "3 - sport\n",
    "4 - walking\n",
    "'''\n",
    "df.activity.unique()"
   ]
  },
  {
   "cell_type": "code",
   "execution_count": 10,
   "metadata": {},
   "outputs": [],
   "source": [
    "df = df.replace({'activity':'cooking'},{'activity':0})\n",
    "df = df.replace({'activity':'driving'},{'activity':1})\n",
    "df = df.replace({'activity':'sitting'},{'activity':2})\n",
    "df = df.replace({'activity':'sport'},{'activity':3})\n",
    "df = df.replace({'activity':'walking'},{'activity':4})"
   ]
  },
  {
   "cell_type": "code",
   "execution_count": 11,
   "metadata": {},
   "outputs": [],
   "source": [
    "'''\n",
    "Podział danych z całego df na X i y:\n",
    "\n",
    "X - wszystko oprócz activity(time, accelerometer,gyroscope, sound) \n",
    "y - activity\n",
    "'''\n",
    "\n",
    "X, y = df.iloc[:, 0:-1], df.iloc[:, -1]"
   ]
  },
  {
   "cell_type": "code",
   "execution_count": 12,
   "metadata": {},
   "outputs": [
    {
     "data": {
      "text/html": [
       "<div>\n",
       "<style scoped>\n",
       "    .dataframe tbody tr th:only-of-type {\n",
       "        vertical-align: middle;\n",
       "    }\n",
       "\n",
       "    .dataframe tbody tr th {\n",
       "        vertical-align: top;\n",
       "    }\n",
       "\n",
       "    .dataframe thead th {\n",
       "        text-align: right;\n",
       "    }\n",
       "</style>\n",
       "<table border=\"1\" class=\"dataframe\">\n",
       "  <thead>\n",
       "    <tr style=\"text-align: right;\">\n",
       "      <th></th>\n",
       "      <th>gyroscope#mean</th>\n",
       "      <th>gyroscope#std</th>\n",
       "      <th>gyroscope#min</th>\n",
       "      <th>gyroscope#max</th>\n",
       "      <th>acceleration#mean</th>\n",
       "      <th>acceleration#std</th>\n",
       "      <th>acceleration#min</th>\n",
       "      <th>acceleration#max</th>\n",
       "      <th>magnetometer#mean</th>\n",
       "      <th>magnetometer#std</th>\n",
       "      <th>magnetometer#min</th>\n",
       "      <th>magnetometer#max</th>\n",
       "      <th>activity</th>\n",
       "    </tr>\n",
       "  </thead>\n",
       "  <tbody>\n",
       "    <tr>\n",
       "      <th>0</th>\n",
       "      <td>95.417080</td>\n",
       "      <td>70.900671</td>\n",
       "      <td>16.448503</td>\n",
       "      <td>279.407482</td>\n",
       "      <td>1.041196</td>\n",
       "      <td>0.209946</td>\n",
       "      <td>0.42369</td>\n",
       "      <td>1.322665</td>\n",
       "      <td>0.002898</td>\n",
       "      <td>5.181961e-07</td>\n",
       "      <td>0.002897</td>\n",
       "      <td>0.002899</td>\n",
       "      <td>0</td>\n",
       "    </tr>\n",
       "    <tr>\n",
       "      <th>1</th>\n",
       "      <td>129.129026</td>\n",
       "      <td>127.943945</td>\n",
       "      <td>33.911102</td>\n",
       "      <td>522.127682</td>\n",
       "      <td>1.026757</td>\n",
       "      <td>0.203443</td>\n",
       "      <td>0.42369</td>\n",
       "      <td>1.322665</td>\n",
       "      <td>0.002898</td>\n",
       "      <td>4.788960e-07</td>\n",
       "      <td>0.002897</td>\n",
       "      <td>0.002899</td>\n",
       "      <td>0</td>\n",
       "    </tr>\n",
       "    <tr>\n",
       "      <th>2</th>\n",
       "      <td>137.516921</td>\n",
       "      <td>128.572005</td>\n",
       "      <td>33.911102</td>\n",
       "      <td>522.127682</td>\n",
       "      <td>1.041192</td>\n",
       "      <td>0.210389</td>\n",
       "      <td>0.42369</td>\n",
       "      <td>1.322665</td>\n",
       "      <td>0.002898</td>\n",
       "      <td>4.792691e-07</td>\n",
       "      <td>0.002896</td>\n",
       "      <td>0.002899</td>\n",
       "      <td>0</td>\n",
       "    </tr>\n",
       "    <tr>\n",
       "      <th>3</th>\n",
       "      <td>135.190287</td>\n",
       "      <td>129.233705</td>\n",
       "      <td>33.911102</td>\n",
       "      <td>522.127682</td>\n",
       "      <td>1.026217</td>\n",
       "      <td>0.200724</td>\n",
       "      <td>0.42369</td>\n",
       "      <td>1.322665</td>\n",
       "      <td>0.002897</td>\n",
       "      <td>4.856072e-07</td>\n",
       "      <td>0.002896</td>\n",
       "      <td>0.002898</td>\n",
       "      <td>0</td>\n",
       "    </tr>\n",
       "    <tr>\n",
       "      <th>4</th>\n",
       "      <td>129.129346</td>\n",
       "      <td>129.830817</td>\n",
       "      <td>33.911102</td>\n",
       "      <td>522.127682</td>\n",
       "      <td>1.022755</td>\n",
       "      <td>0.201100</td>\n",
       "      <td>0.42369</td>\n",
       "      <td>1.322665</td>\n",
       "      <td>0.002897</td>\n",
       "      <td>5.233670e-07</td>\n",
       "      <td>0.002896</td>\n",
       "      <td>0.002898</td>\n",
       "      <td>0</td>\n",
       "    </tr>\n",
       "  </tbody>\n",
       "</table>\n",
       "</div>"
      ],
      "text/plain": [
       "   gyroscope#mean  gyroscope#std  gyroscope#min  gyroscope#max  \\\n",
       "0       95.417080      70.900671      16.448503     279.407482   \n",
       "1      129.129026     127.943945      33.911102     522.127682   \n",
       "2      137.516921     128.572005      33.911102     522.127682   \n",
       "3      135.190287     129.233705      33.911102     522.127682   \n",
       "4      129.129346     129.830817      33.911102     522.127682   \n",
       "\n",
       "   acceleration#mean  acceleration#std  acceleration#min  acceleration#max  \\\n",
       "0           1.041196          0.209946           0.42369          1.322665   \n",
       "1           1.026757          0.203443           0.42369          1.322665   \n",
       "2           1.041192          0.210389           0.42369          1.322665   \n",
       "3           1.026217          0.200724           0.42369          1.322665   \n",
       "4           1.022755          0.201100           0.42369          1.322665   \n",
       "\n",
       "   magnetometer#mean  magnetometer#std  magnetometer#min  magnetometer#max  \\\n",
       "0           0.002898      5.181961e-07          0.002897          0.002899   \n",
       "1           0.002898      4.788960e-07          0.002897          0.002899   \n",
       "2           0.002898      4.792691e-07          0.002896          0.002899   \n",
       "3           0.002897      4.856072e-07          0.002896          0.002898   \n",
       "4           0.002897      5.233670e-07          0.002896          0.002898   \n",
       "\n",
       "   activity  \n",
       "0         0  \n",
       "1         0  \n",
       "2         0  \n",
       "3         0  \n",
       "4         0  "
      ]
     },
     "execution_count": 12,
     "metadata": {},
     "output_type": "execute_result"
    }
   ],
   "source": [
    "df.head()"
   ]
  },
  {
   "cell_type": "code",
   "execution_count": 13,
   "metadata": {},
   "outputs": [
    {
     "data": {
      "text/html": [
       "<div>\n",
       "<style scoped>\n",
       "    .dataframe tbody tr th:only-of-type {\n",
       "        vertical-align: middle;\n",
       "    }\n",
       "\n",
       "    .dataframe tbody tr th {\n",
       "        vertical-align: top;\n",
       "    }\n",
       "\n",
       "    .dataframe thead th {\n",
       "        text-align: right;\n",
       "    }\n",
       "</style>\n",
       "<table border=\"1\" class=\"dataframe\">\n",
       "  <thead>\n",
       "    <tr style=\"text-align: right;\">\n",
       "      <th></th>\n",
       "      <th>gyroscope#mean</th>\n",
       "      <th>gyroscope#std</th>\n",
       "      <th>gyroscope#min</th>\n",
       "      <th>gyroscope#max</th>\n",
       "      <th>acceleration#mean</th>\n",
       "      <th>acceleration#std</th>\n",
       "      <th>acceleration#min</th>\n",
       "      <th>acceleration#max</th>\n",
       "      <th>magnetometer#mean</th>\n",
       "      <th>magnetometer#std</th>\n",
       "      <th>magnetometer#min</th>\n",
       "      <th>magnetometer#max</th>\n",
       "    </tr>\n",
       "  </thead>\n",
       "  <tbody>\n",
       "    <tr>\n",
       "      <th>0</th>\n",
       "      <td>95.417080</td>\n",
       "      <td>70.900671</td>\n",
       "      <td>16.448503</td>\n",
       "      <td>279.407482</td>\n",
       "      <td>1.041196</td>\n",
       "      <td>0.209946</td>\n",
       "      <td>0.42369</td>\n",
       "      <td>1.322665</td>\n",
       "      <td>0.002898</td>\n",
       "      <td>5.181961e-07</td>\n",
       "      <td>0.002897</td>\n",
       "      <td>0.002899</td>\n",
       "    </tr>\n",
       "    <tr>\n",
       "      <th>1</th>\n",
       "      <td>129.129026</td>\n",
       "      <td>127.943945</td>\n",
       "      <td>33.911102</td>\n",
       "      <td>522.127682</td>\n",
       "      <td>1.026757</td>\n",
       "      <td>0.203443</td>\n",
       "      <td>0.42369</td>\n",
       "      <td>1.322665</td>\n",
       "      <td>0.002898</td>\n",
       "      <td>4.788960e-07</td>\n",
       "      <td>0.002897</td>\n",
       "      <td>0.002899</td>\n",
       "    </tr>\n",
       "    <tr>\n",
       "      <th>2</th>\n",
       "      <td>137.516921</td>\n",
       "      <td>128.572005</td>\n",
       "      <td>33.911102</td>\n",
       "      <td>522.127682</td>\n",
       "      <td>1.041192</td>\n",
       "      <td>0.210389</td>\n",
       "      <td>0.42369</td>\n",
       "      <td>1.322665</td>\n",
       "      <td>0.002898</td>\n",
       "      <td>4.792691e-07</td>\n",
       "      <td>0.002896</td>\n",
       "      <td>0.002899</td>\n",
       "    </tr>\n",
       "    <tr>\n",
       "      <th>3</th>\n",
       "      <td>135.190287</td>\n",
       "      <td>129.233705</td>\n",
       "      <td>33.911102</td>\n",
       "      <td>522.127682</td>\n",
       "      <td>1.026217</td>\n",
       "      <td>0.200724</td>\n",
       "      <td>0.42369</td>\n",
       "      <td>1.322665</td>\n",
       "      <td>0.002897</td>\n",
       "      <td>4.856072e-07</td>\n",
       "      <td>0.002896</td>\n",
       "      <td>0.002898</td>\n",
       "    </tr>\n",
       "    <tr>\n",
       "      <th>4</th>\n",
       "      <td>129.129346</td>\n",
       "      <td>129.830817</td>\n",
       "      <td>33.911102</td>\n",
       "      <td>522.127682</td>\n",
       "      <td>1.022755</td>\n",
       "      <td>0.201100</td>\n",
       "      <td>0.42369</td>\n",
       "      <td>1.322665</td>\n",
       "      <td>0.002897</td>\n",
       "      <td>5.233670e-07</td>\n",
       "      <td>0.002896</td>\n",
       "      <td>0.002898</td>\n",
       "    </tr>\n",
       "  </tbody>\n",
       "</table>\n",
       "</div>"
      ],
      "text/plain": [
       "   gyroscope#mean  gyroscope#std  gyroscope#min  gyroscope#max  \\\n",
       "0       95.417080      70.900671      16.448503     279.407482   \n",
       "1      129.129026     127.943945      33.911102     522.127682   \n",
       "2      137.516921     128.572005      33.911102     522.127682   \n",
       "3      135.190287     129.233705      33.911102     522.127682   \n",
       "4      129.129346     129.830817      33.911102     522.127682   \n",
       "\n",
       "   acceleration#mean  acceleration#std  acceleration#min  acceleration#max  \\\n",
       "0           1.041196          0.209946           0.42369          1.322665   \n",
       "1           1.026757          0.203443           0.42369          1.322665   \n",
       "2           1.041192          0.210389           0.42369          1.322665   \n",
       "3           1.026217          0.200724           0.42369          1.322665   \n",
       "4           1.022755          0.201100           0.42369          1.322665   \n",
       "\n",
       "   magnetometer#mean  magnetometer#std  magnetometer#min  magnetometer#max  \n",
       "0           0.002898      5.181961e-07          0.002897          0.002899  \n",
       "1           0.002898      4.788960e-07          0.002897          0.002899  \n",
       "2           0.002898      4.792691e-07          0.002896          0.002899  \n",
       "3           0.002897      4.856072e-07          0.002896          0.002898  \n",
       "4           0.002897      5.233670e-07          0.002896          0.002898  "
      ]
     },
     "execution_count": 13,
     "metadata": {},
     "output_type": "execute_result"
    }
   ],
   "source": [
    "X.head()"
   ]
  },
  {
   "cell_type": "code",
   "execution_count": 14,
   "metadata": {},
   "outputs": [
    {
     "data": {
      "text/plain": [
       "0    0\n",
       "1    0\n",
       "2    0\n",
       "3    0\n",
       "4    0\n",
       "Name: activity, dtype: int64"
      ]
     },
     "execution_count": 14,
     "metadata": {},
     "output_type": "execute_result"
    }
   ],
   "source": [
    "y.head()"
   ]
  },
  {
   "cell_type": "markdown",
   "metadata": {},
   "source": [
    "# Podział na dane testowe i treningowe"
   ]
  },
  {
   "cell_type": "code",
   "execution_count": 15,
   "metadata": {},
   "outputs": [],
   "source": [
    "# 20% danych do testów\n",
    "kf = StratifiedKFold(n_splits = 5, shuffle = True, random_state = odp)\n",
    "result = next(kf.split(X, y))\n",
    "\n",
    "'''\n",
    "Podział danych z całego df na podstawie splitu\n",
    "\n",
    "train - 80% danych(4714)\n",
    "test  - 20% danych(1179)\n",
    "'''\n",
    "train = df.iloc[result[0]]\n",
    "test =  df.iloc[result[1]]\n",
    "\n",
    "'''\n",
    "Podział na X_train, y_train, X_test, y_test\n",
    "\n",
    "X_train, X_test - bez 'activity'\n",
    "y_train, y_test - sam 'activity' dla X_train, X_test\n",
    "'''\n",
    "X_train = train.drop('activity', axis = 1)\n",
    "y_train = train.activity\n",
    "\n",
    "X_test = test.drop('activity', axis = 1)\n",
    "y_test = test.activity"
   ]
  },
  {
   "cell_type": "code",
   "execution_count": 16,
   "metadata": {},
   "outputs": [
    {
     "name": "stdout",
     "output_type": "stream",
     "text": [
      "Kształt danych:\n",
      "\t df: (63812, 13)\n",
      "\t X_train: (51049, 12)\n",
      "\t y_train: (51049,)\n",
      "\t X_test: (12763, 12)\n",
      "\t y_test: (12763,)\n"
     ]
    }
   ],
   "source": [
    "print(f'Kształt danych:')\n",
    "print(f'\\t df: {df.shape}')\n",
    "\n",
    "print(f'\\t X_train: {X_train.shape}')\n",
    "print(f'\\t y_train: {y_train.shape}')\n",
    "\n",
    "print(f'\\t X_test: {X_test.shape}')\n",
    "print(f'\\t y_test: {y_test.shape}')"
   ]
  },
  {
   "cell_type": "code",
   "execution_count": 17,
   "metadata": {},
   "outputs": [],
   "source": [
    "# Konwersja danych z pandas dataframe do numpy\n",
    "\n",
    "df = df.to_numpy()\n",
    "\n",
    "X_train = X_train.to_numpy()\n",
    "y_train = y_train.to_numpy()\n",
    "\n",
    "X_test = X_test.to_numpy()\n",
    "y_test = y_test.to_numpy()"
   ]
  },
  {
   "cell_type": "code",
   "execution_count": 18,
   "metadata": {},
   "outputs": [],
   "source": [
    "# Upewnienie się że dane w X_train i X_test są floatem - lepsze dla klasyfikatora\n",
    "\n",
    "X_train = X_train.astype('float32')\n",
    "X_test = X_test.astype('float32')"
   ]
  },
  {
   "cell_type": "code",
   "execution_count": 19,
   "metadata": {},
   "outputs": [],
   "source": [
    "num_classes = 5\n",
    "\n",
    "# Zamiana wpisu z [1] na [0, 1, 0, 0, 0]\n",
    "y_train = to_categorical(y_train, num_classes)\n",
    "y_test = to_categorical(y_test, num_classes)"
   ]
  },
  {
   "cell_type": "code",
   "execution_count": 20,
   "metadata": {},
   "outputs": [],
   "source": [
    "# Upewnienie się że dane w y_train i y_test są floatem - lepsze dla klasyfikatora\n",
    "\n",
    "y_train = y_train.astype('float32')\n",
    "y_test = y_test.astype('float32')"
   ]
  },
  {
   "cell_type": "code",
   "execution_count": 21,
   "metadata": {},
   "outputs": [
    {
     "name": "stdout",
     "output_type": "stream",
     "text": [
      "Kształt danych:\n",
      "\t df: (63812, 13)\n",
      "\t X_train: (51049, 12)\n",
      "\t y_train: (51049, 5)\n",
      "\t X_test: (12763, 12)\n",
      "\t y_test: (12763, 5)\n"
     ]
    }
   ],
   "source": [
    "print(f'Kształt danych:')\n",
    "print(f'\\t df: {df.shape}')\n",
    "\n",
    "print(f'\\t X_train: {X_train.shape}')\n",
    "print(f'\\t y_train: {y_train.shape}')\n",
    "\n",
    "print(f'\\t X_test: {X_test.shape}')\n",
    "print(f'\\t y_test: {y_test.shape}')"
   ]
  },
  {
   "cell_type": "markdown",
   "metadata": {},
   "source": [
    "# Zmiana wymiarowości"
   ]
  },
  {
   "cell_type": "code",
   "execution_count": 22,
   "metadata": {},
   "outputs": [
    {
     "name": "stdout",
     "output_type": "stream",
     "text": [
      "Kształt danych:\n",
      "\t df: (63812, 13)\n",
      "\t X_train: (51049, 12)\n",
      "\t y_train: (51049, 5)\n",
      "\t X_test: (12763, 12)\n",
      "\t y_test: (12763, 5)\n"
     ]
    }
   ],
   "source": [
    "'''\n",
    "LSTM potrzebuje wymiarów w 3D\n",
    "\n",
    "Input shape:\n",
    " - Samples - jedna sekwwncja to sampel\n",
    " - Time steps - punkt obserwacji w próbce\n",
    " - Features - jedna obserwacja w punkcie\n",
    " \n",
    "X_train to ~843 próbek, po 1 timestampie w każdej i 13 zmiennych w środku\n",
    "'''\n",
    "print(f'Kształt danych:')\n",
    "print(f'\\t df: {df.shape}')\n",
    "\n",
    "print(f'\\t X_train: {X_train.shape}')\n",
    "print(f'\\t y_train: {y_train.shape}')\n",
    "\n",
    "print(f'\\t X_test: {X_test.shape}')\n",
    "print(f'\\t y_test: {y_test.shape}')"
   ]
  },
  {
   "cell_type": "code",
   "execution_count": 23,
   "metadata": {},
   "outputs": [],
   "source": [
    "X_train = numpy.expand_dims(X_train, axis=1)\n",
    "y_train = numpy.expand_dims(y_train, axis=1)\n",
    "\n",
    "X_test = numpy.expand_dims(X_test, axis=1)\n",
    "y_test = numpy.expand_dims(y_test, axis=1)"
   ]
  },
  {
   "cell_type": "code",
   "execution_count": 24,
   "metadata": {},
   "outputs": [
    {
     "name": "stdout",
     "output_type": "stream",
     "text": [
      "Kształt danych:\n",
      "\t df: (63812, 13)\n",
      "\t X_train: (51049, 1, 12)\n",
      "\t y_train: (51049, 1, 5)\n",
      "\t X_test: (12763, 1, 12)\n",
      "\t y_test: (12763, 1, 5)\n"
     ]
    }
   ],
   "source": [
    "print(f'Kształt danych:')\n",
    "print(f'\\t df: {df.shape}')\n",
    "\n",
    "print(f'\\t X_train: {X_train.shape}')\n",
    "print(f'\\t y_train: {y_train.shape}')\n",
    "\n",
    "print(f'\\t X_test: {X_test.shape}')\n",
    "print(f'\\t y_test: {y_test.shape}')"
   ]
  },
  {
   "cell_type": "code",
   "execution_count": 25,
   "metadata": {},
   "outputs": [
    {
     "data": {
      "text/plain": [
       "(51049, 1, 12)"
      ]
     },
     "execution_count": 25,
     "metadata": {},
     "output_type": "execute_result"
    }
   ],
   "source": [
    "X_train.shape"
   ]
  },
  {
   "cell_type": "markdown",
   "metadata": {},
   "source": [
    "# Funkcję liczące statystyki"
   ]
  },
  {
   "cell_type": "code",
   "execution_count": 26,
   "metadata": {},
   "outputs": [],
   "source": [
    "from keras.callbacks import Callback, ModelCheckpoint, EarlyStopping, ReduceLROnPlateau\n",
    "from keras.models import load_model\n",
    "from keras.layers import Dense, Dropout\n",
    "from keras.wrappers.scikit_learn import KerasClassifier\n",
    "import keras.backend as K\n",
    "from sklearn.metrics import confusion_matrix, accuracy_score, precision_score\n",
    "from sklearn.metrics import recall_score, f1_score, roc_auc_score"
   ]
  },
  {
   "cell_type": "code",
   "execution_count": 27,
   "metadata": {},
   "outputs": [],
   "source": [
    "def countStats(_y_true, _y_pred):\n",
    "    accuracy = accuracy_score(_y_true, _y_pred, normalize=True)\n",
    "    precision = precision_score(_y_true, _y_pred, average='weighted')\n",
    "    recall = recall_score(_y_true, _y_pred, average='weighted')\n",
    "    fscore = f1_score(_y_true, _y_pred, average='weighted')\n",
    "    \n",
    "    return accuracy, precision, recall, fscore"
   ]
  },
  {
   "cell_type": "code",
   "execution_count": 28,
   "metadata": {},
   "outputs": [],
   "source": [
    "'''\n",
    "Źrodło:\n",
    "https://medium.com/@aakashgoel12/how-to-add-user-defined-function-get-f1-score-in-keras-metrics-3013f979ce0d\n",
    "'''\n",
    "\n",
    "def get_f1(y_true, y_pred):\n",
    "    true_positives = K.sum(K.round(K.clip(y_true * y_pred, 0, 1)))\n",
    "    possible_positives = K.sum(K.round(K.clip(y_true, 0, 1)))\n",
    "    predicted_positives = K.sum(K.round(K.clip(y_pred, 0, 1)))\n",
    "    precision = true_positives / (predicted_positives + K.epsilon())\n",
    "    recall = true_positives / (possible_positives + K.epsilon())\n",
    "    f1_val = 2*(precision*recall)/(precision+recall+K.epsilon())\n",
    "    \n",
    "    return f1_val"
   ]
  },
  {
   "cell_type": "code",
   "execution_count": 29,
   "metadata": {},
   "outputs": [],
   "source": [
    "from mlxtend.plotting import plot_confusion_matrix\n",
    "\n",
    "def plot_cm(cm, classes):\n",
    "    plot_confusion_matrix(conf_mat=cm,\n",
    "                          colorbar=True, \n",
    "                          show_absolute=False,\n",
    "                          show_normed=True,\n",
    "                          class_names=classes)"
   ]
  },
  {
   "cell_type": "code",
   "execution_count": 30,
   "metadata": {},
   "outputs": [],
   "source": [
    "'''\n",
    "cb_early_stopper - skończenie uczenia kiedy val_loss nie będzie się poprawiać przez 10 epok\n",
    "cb_checkpointer - zapis modelu do pliku 'best.h5' modeli o najlepszym(najmniejszym) val_loss\n",
    "cb_learning_rate_reduction - zmniejszenie LR jeśli val_loss nie będzie się poprawiać przez 5 epok\n",
    "'''\n",
    "\n",
    "EARLY_STOP_PATIENCE = 10\n",
    "LEARNING_RATE_PATIENCE = 5\n",
    "\n",
    "cb_early_stopper = EarlyStopping(monitor = 'val_loss', patience = EARLY_STOP_PATIENCE, verbose=1)\n",
    "cb_checkpointer = ModelCheckpoint(filepath = 'best.h5', monitor = 'val_loss', save_best_only = True, verbose=1)\n",
    "cb_learning_rate_reduction = ReduceLROnPlateau(monitor='val_loss', patience=LEARNING_RATE_PATIENCE, verbose=1)"
   ]
  },
  {
   "cell_type": "markdown",
   "metadata": {},
   "source": [
    "# Dobór parametrów"
   ]
  },
  {
   "cell_type": "code",
   "execution_count": 31,
   "metadata": {
    "scrolled": true
   },
   "outputs": [
    {
     "name": "stdout",
     "output_type": "stream",
     "text": [
      "Fitting 2 folds for each of 24 candidates, totalling 48 fits\n"
     ]
    },
    {
     "name": "stderr",
     "output_type": "stream",
     "text": [
      "[Parallel(n_jobs=-1)]: Using backend LokyBackend with 12 concurrent workers.\n",
      "[Parallel(n_jobs=-1)]: Done  48 out of  48 | elapsed: 74.2min finished\n"
     ]
    },
    {
     "name": "stdout",
     "output_type": "stream",
     "text": [
      "Epoch 1/50\n",
      "51049/51049 [==============================] - 3s 59us/step - loss: 0.7023 - accuracy: 0.7832\n",
      "Epoch 2/50\n",
      "51049/51049 [==============================] - 3s 54us/step - loss: 0.6142 - accuracy: 0.7970\n",
      "Epoch 3/50\n",
      "51049/51049 [==============================] - 3s 54us/step - loss: 0.6030 - accuracy: 0.7988\n",
      "Epoch 4/50\n",
      "51049/51049 [==============================] - 3s 54us/step - loss: 0.5940 - accuracy: 0.8031\n",
      "Epoch 5/50\n",
      "51049/51049 [==============================] - 3s 56us/step - loss: 0.5892 - accuracy: 0.8028\n",
      "Epoch 6/50\n",
      "51049/51049 [==============================] - 3s 54us/step - loss: 0.5851 - accuracy: 0.8058\n",
      "Epoch 7/50\n",
      "51049/51049 [==============================] - 3s 54us/step - loss: 0.5798 - accuracy: 0.8079\n",
      "Epoch 8/50\n",
      "51049/51049 [==============================] - 3s 55us/step - loss: 0.5753 - accuracy: 0.8070\n",
      "Epoch 9/50\n",
      "51049/51049 [==============================] - 3s 54us/step - loss: 0.5724 - accuracy: 0.8068\n",
      "Epoch 10/50\n",
      "51049/51049 [==============================] - 3s 54us/step - loss: 0.5692 - accuracy: 0.8094\n",
      "Epoch 11/50\n",
      "51049/51049 [==============================] - 3s 53us/step - loss: 0.5670 - accuracy: 0.8096\n",
      "Epoch 12/50\n",
      "51049/51049 [==============================] - 3s 54us/step - loss: 0.5628 - accuracy: 0.8110\n",
      "Epoch 13/50\n",
      "51049/51049 [==============================] - 3s 53us/step - loss: 0.5607 - accuracy: 0.8111\n",
      "Epoch 14/50\n",
      "51049/51049 [==============================] - 3s 54us/step - loss: 0.5626 - accuracy: 0.8105\n",
      "Epoch 15/50\n",
      "51049/51049 [==============================] - 3s 54us/step - loss: 0.5610 - accuracy: 0.8109\n",
      "Epoch 16/50\n",
      "51049/51049 [==============================] - 3s 54us/step - loss: 0.5598 - accuracy: 0.8112\n",
      "Epoch 17/50\n",
      "51049/51049 [==============================] - 3s 54us/step - loss: 0.5583 - accuracy: 0.8119\n",
      "Epoch 18/50\n",
      "51049/51049 [==============================] - 3s 54us/step - loss: 0.5575 - accuracy: 0.8118\n",
      "Epoch 19/50\n",
      "51049/51049 [==============================] - 3s 54us/step - loss: 0.5565 - accuracy: 0.8132\n",
      "Epoch 20/50\n",
      "51049/51049 [==============================] - 3s 53us/step - loss: 0.5564 - accuracy: 0.8129\n",
      "Epoch 21/50\n",
      "51049/51049 [==============================] - 3s 54us/step - loss: 0.5535 - accuracy: 0.8127\n",
      "Epoch 22/50\n",
      "51049/51049 [==============================] - 3s 54us/step - loss: 0.5506 - accuracy: 0.8143\n",
      "Epoch 23/50\n",
      "51049/51049 [==============================] - 3s 54us/step - loss: 0.5535 - accuracy: 0.8131\n",
      "Epoch 24/50\n",
      "51049/51049 [==============================] - 3s 54us/step - loss: 0.5523 - accuracy: 0.8147\n",
      "Epoch 25/50\n",
      "51049/51049 [==============================] - 3s 55us/step - loss: 0.5568 - accuracy: 0.8126\n",
      "Epoch 26/50\n",
      "51049/51049 [==============================] - 3s 54us/step - loss: 0.5512 - accuracy: 0.8147\n",
      "Epoch 27/50\n",
      "51049/51049 [==============================] - 3s 54us/step - loss: 0.5514 - accuracy: 0.8142\n",
      "Epoch 28/50\n",
      "51049/51049 [==============================] - 3s 54us/step - loss: 0.5512 - accuracy: 0.8145\n",
      "Epoch 29/50\n",
      "51049/51049 [==============================] - 3s 56us/step - loss: 0.5484 - accuracy: 0.8146\n",
      "Epoch 30/50\n",
      "51049/51049 [==============================] - 3s 54us/step - loss: 0.5507 - accuracy: 0.8148\n",
      "Epoch 31/50\n",
      "51049/51049 [==============================] - 3s 54us/step - loss: 0.5499 - accuracy: 0.8143\n",
      "Epoch 32/50\n",
      "51049/51049 [==============================] - 3s 54us/step - loss: 0.5503 - accuracy: 0.8150\n",
      "Epoch 33/50\n",
      "51049/51049 [==============================] - 3s 54us/step - loss: 0.5484 - accuracy: 0.8171\n",
      "Epoch 34/50\n",
      "51049/51049 [==============================] - 3s 56us/step - loss: 0.5490 - accuracy: 0.8138\n",
      "Epoch 35/50\n",
      "51049/51049 [==============================] - 3s 56us/step - loss: 0.5482 - accuracy: 0.8151\n",
      "Epoch 36/50\n",
      "51049/51049 [==============================] - 3s 54us/step - loss: 0.5466 - accuracy: 0.8156\n",
      "Epoch 37/50\n",
      "51049/51049 [==============================] - 3s 54us/step - loss: 0.5459 - accuracy: 0.8164\n",
      "Epoch 38/50\n",
      "51049/51049 [==============================] - 3s 54us/step - loss: 0.5482 - accuracy: 0.8161\n",
      "Epoch 39/50\n",
      "51049/51049 [==============================] - 3s 54us/step - loss: 0.5458 - accuracy: 0.8168\n",
      "Epoch 40/50\n",
      "51049/51049 [==============================] - 3s 54us/step - loss: 0.5437 - accuracy: 0.8168\n",
      "Epoch 41/50\n",
      "51049/51049 [==============================] - 3s 56us/step - loss: 0.5458 - accuracy: 0.8161\n",
      "Epoch 42/50\n",
      "51049/51049 [==============================] - 3s 54us/step - loss: 0.5476 - accuracy: 0.8157\n",
      "Epoch 43/50\n",
      "51049/51049 [==============================] - 3s 54us/step - loss: 0.5465 - accuracy: 0.8175\n",
      "Epoch 44/50\n",
      "51049/51049 [==============================] - 3s 53us/step - loss: 0.5472 - accuracy: 0.8152\n",
      "Epoch 45/50\n",
      "51049/51049 [==============================] - 3s 54us/step - loss: 0.5426 - accuracy: 0.8175\n",
      "Epoch 46/50\n",
      "51049/51049 [==============================] - 3s 54us/step - loss: 0.5465 - accuracy: 0.8173\n",
      "Epoch 47/50\n",
      "51049/51049 [==============================] - 3s 54us/step - loss: 0.5455 - accuracy: 0.8158\n",
      "Epoch 48/50\n",
      "51049/51049 [==============================] - 3s 54us/step - loss: 0.5426 - accuracy: 0.8163\n",
      "Epoch 49/50\n",
      "51049/51049 [==============================] - 3s 54us/step - loss: 0.5434 - accuracy: 0.8173\n",
      "Epoch 50/50\n",
      "51049/51049 [==============================] - 3s 54us/step - loss: 0.5466 - accuracy: 0.8160\n",
      "Najlepsze acc: 0.621068 używając {'activation': 'relu', 'batch_size': None, 'dropout_rate': 0.1, 'epochs': 50, 'optimizer': 'Adadelta'}\n"
     ]
    }
   ],
   "source": [
    "from sklearn.model_selection import GridSearchCV\n",
    "from keras.wrappers.scikit_learn import KerasClassifier\n",
    "from keras.layers import Dense, Dropout, Reshape\n",
    "\n",
    "'''\n",
    "W tym wypadku do modelu dodaje linię:\n",
    "    model.add(Reshape((5, )))\n",
    "    \n",
    "By zmienić wynik z one-hot encodera na pojedynczy wynik - GridSearch nie umożliwia, by y było w 3D,\n",
    "stąd konwersja do 2D\n",
    "'''\n",
    "def create_model(optimizer='adam', dropout_rate=0.0, activation='tanh'):\n",
    "    model = Sequential()\n",
    "    model.add(LSTM(128, activation=activation, dropout=dropout_rate, return_sequences=True))\n",
    "    model.add(Dense(5, activation='softmax'))\n",
    "    model.add(Reshape((5, )))\n",
    "    model.compile(loss='categorical_crossentropy', optimizer=optimizer, metrics=['accuracy'])\n",
    "    return model\n",
    "\n",
    "# Scikit wrapper na Kerasowy klasyfikator\n",
    "model_wrapper = KerasClassifier(build_fn=create_model, verbose=1)\n",
    "\n",
    "# Przeszukiwane zmienne\n",
    "batch_size = [None, 10] #, 20, 40]\n",
    "epochs = [10, 50, 100] #, 200]\n",
    "optimizer = ['Adadelta', 'Adam']#,'SGD', 'RMSprop']\n",
    "activation = ['relu']#, 'tanh', 'sigmoid']\n",
    "dropout_rate = [0.0, 0.1]#, 0.2, 0.3]\n",
    "\n",
    "\n",
    "param_grid = dict(batch_size=batch_size, \n",
    "                  epochs=epochs, \n",
    "                  optimizer=optimizer, \n",
    "                  activation=activation, \n",
    "                  dropout_rate=dropout_rate)\n",
    "grid = GridSearchCV(estimator=model_wrapper, param_grid=param_grid, n_jobs=-1, cv=2, verbose=1)\n",
    "grid_result = grid.fit(X_train, numpy.squeeze(y_train, axis=1))\n",
    "\n",
    "print(\"Najlepsze acc: %f używając %s\" % (grid_result.best_score_, grid_result.best_params_))"
   ]
  },
  {
   "cell_type": "code",
   "execution_count": 32,
   "metadata": {
    "scrolled": true
   },
   "outputs": [
    {
     "data": {
      "text/plain": [
       "{'activation': 'relu',\n",
       " 'batch_size': None,\n",
       " 'dropout_rate': 0.1,\n",
       " 'epochs': 50,\n",
       " 'optimizer': 'Adadelta'}"
      ]
     },
     "execution_count": 32,
     "metadata": {},
     "output_type": "execute_result"
    }
   ],
   "source": [
    "# Wyniki!\n",
    "grid_result.best_params_"
   ]
  },
  {
   "cell_type": "markdown",
   "metadata": {},
   "source": [
    "# Model"
   ]
  },
  {
   "cell_type": "code",
   "execution_count": 33,
   "metadata": {},
   "outputs": [],
   "source": [
    "# Stałe do monitorowania pracy modelu zgodne z Grid Searchem\n",
    "\n",
    "epochs = grid_result.best_params_['epochs']\n",
    "batch_size = grid_result.best_params_['batch_size']\n",
    "optimizer = grid_result.best_params_['optimizer']\n",
    "activation = grid_result.best_params_['activation']\n",
    "dropout = grid_result.best_params_['dropout_rate']\n",
    "loss_type = 'categorical_crossentropy'\n",
    "LSTM_size = 128"
   ]
  },
  {
   "cell_type": "code",
   "execution_count": 34,
   "metadata": {},
   "outputs": [
    {
     "name": "stdout",
     "output_type": "stream",
     "text": [
      "Model: \"sequential_2\"\n",
      "_________________________________________________________________\n",
      "Layer (type)                 Output Shape              Param #   \n",
      "=================================================================\n",
      "lstm_2 (LSTM)                (None, 1, 128)            72192     \n",
      "_________________________________________________________________\n",
      "dense_2 (Dense)              (None, 1, 5)              645       \n",
      "=================================================================\n",
      "Total params: 72,837\n",
      "Trainable params: 72,837\n",
      "Non-trainable params: 0\n",
      "_________________________________________________________________\n"
     ]
    }
   ],
   "source": [
    "model = Sequential()\n",
    "model.add(LSTM(LSTM_size, input_shape=(X_train.shape[1], X_train.shape[2]) , return_sequences=True))\n",
    "model.add(Dense(5, activation='softmax'))\n",
    "\n",
    "model.summary()"
   ]
  },
  {
   "cell_type": "code",
   "execution_count": 35,
   "metadata": {},
   "outputs": [
    {
     "name": "stdout",
     "output_type": "stream",
     "text": [
      "Train on 51049 samples, validate on 12763 samples\n",
      "Epoch 1/50\n",
      "51049/51049 [==============================] - 3s 66us/step - loss: 0.6131 - accuracy: 0.7994 - get_f1: 0.7927 - val_loss: 0.6041 - val_accuracy: 0.7906 - val_get_f1: 0.7528\n",
      "\n",
      "Epoch 00001: val_loss improved from inf to 0.60408, saving model to best.h5\n",
      "Epoch 2/50\n",
      "51049/51049 [==============================] - 3s 59us/step - loss: 0.5696 - accuracy: 0.8071 - get_f1: 0.8050 - val_loss: 0.5675 - val_accuracy: 0.8094 - val_get_f1: 0.7922\n",
      "\n",
      "Epoch 00002: val_loss improved from 0.60408 to 0.56748, saving model to best.h5\n",
      "Epoch 3/50\n",
      "51049/51049 [==============================] - 3s 59us/step - loss: 0.5599 - accuracy: 0.8089 - get_f1: 0.8074 - val_loss: 0.5595 - val_accuracy: 0.8092 - val_get_f1: 0.7859\n",
      "\n",
      "Epoch 00003: val_loss improved from 0.56748 to 0.55947, saving model to best.h5\n",
      "Epoch 4/50\n",
      "51049/51049 [==============================] - 3s 59us/step - loss: 0.5522 - accuracy: 0.8110 - get_f1: 0.8092 - val_loss: 0.5647 - val_accuracy: 0.8064 - val_get_f1: 0.7853\n",
      "\n",
      "Epoch 00004: val_loss did not improve from 0.55947\n",
      "Epoch 5/50\n",
      "51049/51049 [==============================] - 3s 59us/step - loss: 0.5464 - accuracy: 0.8135 - get_f1: 0.8105 - val_loss: 0.5863 - val_accuracy: 0.8060 - val_get_f1: 0.7847\n",
      "\n",
      "Epoch 00005: val_loss did not improve from 0.55947\n",
      "Epoch 6/50\n",
      "51049/51049 [==============================] - 3s 59us/step - loss: 0.5389 - accuracy: 0.8141 - get_f1: 0.8124 - val_loss: 0.5625 - val_accuracy: 0.8068 - val_get_f1: 0.7833\n",
      "\n",
      "Epoch 00006: val_loss did not improve from 0.55947\n",
      "Epoch 7/50\n",
      "51049/51049 [==============================] - 3s 59us/step - loss: 0.5343 - accuracy: 0.8154 - get_f1: 0.8135 - val_loss: 0.5668 - val_accuracy: 0.8024 - val_get_f1: 0.7860\n",
      "\n",
      "Epoch 00007: val_loss did not improve from 0.55947\n",
      "Epoch 8/50\n",
      "51049/51049 [==============================] - 3s 59us/step - loss: 0.5296 - accuracy: 0.8176 - get_f1: 0.8150 - val_loss: 0.5255 - val_accuracy: 0.8189 - val_get_f1: 0.7987\n",
      "\n",
      "Epoch 00008: val_loss improved from 0.55947 to 0.52549, saving model to best.h5\n",
      "Epoch 9/50\n",
      "51049/51049 [==============================] - 3s 59us/step - loss: 0.5256 - accuracy: 0.8167 - get_f1: 0.8163 - val_loss: 0.5743 - val_accuracy: 0.8031 - val_get_f1: 0.7889\n",
      "\n",
      "Epoch 00009: val_loss did not improve from 0.52549\n",
      "Epoch 10/50\n",
      "51049/51049 [==============================] - 3s 59us/step - loss: 0.5229 - accuracy: 0.8189 - get_f1: 0.8171 - val_loss: 0.5211 - val_accuracy: 0.8173 - val_get_f1: 0.8025\n",
      "\n",
      "Epoch 00010: val_loss improved from 0.52549 to 0.52107, saving model to best.h5\n",
      "Epoch 11/50\n",
      "51049/51049 [==============================] - 3s 59us/step - loss: 0.5204 - accuracy: 0.8206 - get_f1: 0.8177 - val_loss: 0.5232 - val_accuracy: 0.8133 - val_get_f1: 0.7974\n",
      "\n",
      "Epoch 00011: val_loss did not improve from 0.52107\n",
      "Epoch 12/50\n",
      "51049/51049 [==============================] - 3s 59us/step - loss: 0.5173 - accuracy: 0.8201 - get_f1: 0.8181 - val_loss: 0.5787 - val_accuracy: 0.7950 - val_get_f1: 0.7835\n",
      "\n",
      "Epoch 00012: val_loss did not improve from 0.52107\n",
      "Epoch 13/50\n",
      "51049/51049 [==============================] - 3s 59us/step - loss: 0.5157 - accuracy: 0.8213 - get_f1: 0.8189 - val_loss: 0.5161 - val_accuracy: 0.8225 - val_get_f1: 0.8009\n",
      "\n",
      "Epoch 00013: val_loss improved from 0.52107 to 0.51606, saving model to best.h5\n",
      "Epoch 14/50\n",
      "51049/51049 [==============================] - 3s 59us/step - loss: 0.5127 - accuracy: 0.8220 - get_f1: 0.8200 - val_loss: 0.5138 - val_accuracy: 0.8218 - val_get_f1: 0.8112\n",
      "\n",
      "Epoch 00014: val_loss improved from 0.51606 to 0.51376, saving model to best.h5\n",
      "Epoch 15/50\n",
      "51049/51049 [==============================] - 3s 59us/step - loss: 0.5106 - accuracy: 0.8229 - get_f1: 0.8200 - val_loss: 0.5247 - val_accuracy: 0.8142 - val_get_f1: 0.7952\n",
      "\n",
      "Epoch 00015: val_loss did not improve from 0.51376\n",
      "Epoch 16/50\n",
      "51049/51049 [==============================] - 3s 59us/step - loss: 0.5100 - accuracy: 0.8233 - get_f1: 0.8209 - val_loss: 0.5168 - val_accuracy: 0.8183 - val_get_f1: 0.8052\n",
      "\n",
      "Epoch 00016: val_loss did not improve from 0.51376\n",
      "Epoch 17/50\n",
      "51049/51049 [==============================] - 3s 59us/step - loss: 0.5087 - accuracy: 0.8231 - get_f1: 0.8208 - val_loss: 0.5259 - val_accuracy: 0.8173 - val_get_f1: 0.7961\n",
      "\n",
      "Epoch 00017: val_loss did not improve from 0.51376\n",
      "Epoch 18/50\n",
      "51049/51049 [==============================] - 3s 59us/step - loss: 0.5071 - accuracy: 0.8222 - get_f1: 0.8209 - val_loss: 0.5121 - val_accuracy: 0.8192 - val_get_f1: 0.8048\n",
      "\n",
      "Epoch 00018: val_loss improved from 0.51376 to 0.51209, saving model to best.h5\n",
      "Epoch 19/50\n",
      "51049/51049 [==============================] - 3s 59us/step - loss: 0.5047 - accuracy: 0.8241 - get_f1: 0.8216 - val_loss: 0.5006 - val_accuracy: 0.8230 - val_get_f1: 0.8107\n",
      "\n",
      "Epoch 00019: val_loss improved from 0.51209 to 0.50059, saving model to best.h5\n",
      "Epoch 20/50\n",
      "51049/51049 [==============================] - 3s 59us/step - loss: 0.5044 - accuracy: 0.8237 - get_f1: 0.8212 - val_loss: 0.5105 - val_accuracy: 0.8203 - val_get_f1: 0.8064\n",
      "\n",
      "Epoch 00020: val_loss did not improve from 0.50059\n",
      "Epoch 21/50\n",
      "51049/51049 [==============================] - 3s 60us/step - loss: 0.5018 - accuracy: 0.8242 - get_f1: 0.8238 - val_loss: 0.5120 - val_accuracy: 0.8215 - val_get_f1: 0.8031\n",
      "\n",
      "Epoch 00021: val_loss did not improve from 0.50059\n",
      "Epoch 22/50\n",
      "51049/51049 [==============================] - 3s 59us/step - loss: 0.5008 - accuracy: 0.8257 - get_f1: 0.8235 - val_loss: 0.5027 - val_accuracy: 0.8244 - val_get_f1: 0.8057\n",
      "\n",
      "Epoch 00022: val_loss did not improve from 0.50059\n",
      "Epoch 23/50\n",
      "51049/51049 [==============================] - 3s 59us/step - loss: 0.5005 - accuracy: 0.8254 - get_f1: 0.8233 - val_loss: 0.5059 - val_accuracy: 0.8207 - val_get_f1: 0.8083\n",
      "\n",
      "Epoch 00023: val_loss did not improve from 0.50059\n",
      "Epoch 24/50\n",
      "51049/51049 [==============================] - 3s 59us/step - loss: 0.4983 - accuracy: 0.8251 - get_f1: 0.8237 - val_loss: 0.5065 - val_accuracy: 0.8232 - val_get_f1: 0.8043\n",
      "\n",
      "Epoch 00024: val_loss did not improve from 0.50059\n",
      "\n",
      "Epoch 00024: ReduceLROnPlateau reducing learning rate to 0.1.\n",
      "Epoch 25/50\n",
      "51049/51049 [==============================] - 3s 59us/step - loss: 0.4834 - accuracy: 0.8313 - get_f1: 0.8286 - val_loss: 0.4852 - val_accuracy: 0.8300 - val_get_f1: 0.8132\n",
      "\n",
      "Epoch 00025: val_loss improved from 0.50059 to 0.48521, saving model to best.h5\n",
      "Epoch 26/50\n",
      "51049/51049 [==============================] - 3s 59us/step - loss: 0.4814 - accuracy: 0.8316 - get_f1: 0.8298 - val_loss: 0.4843 - val_accuracy: 0.8307 - val_get_f1: 0.8150\n",
      "\n",
      "Epoch 00026: val_loss improved from 0.48521 to 0.48428, saving model to best.h5\n",
      "Epoch 27/50\n",
      "51049/51049 [==============================] - 3s 59us/step - loss: 0.4811 - accuracy: 0.8322 - get_f1: 0.8304 - val_loss: 0.4848 - val_accuracy: 0.8308 - val_get_f1: 0.8139\n",
      "\n",
      "Epoch 00027: val_loss did not improve from 0.48428\n",
      "Epoch 28/50\n",
      "51049/51049 [==============================] - 3s 59us/step - loss: 0.4807 - accuracy: 0.8319 - get_f1: 0.8297 - val_loss: 0.4840 - val_accuracy: 0.8301 - val_get_f1: 0.8170\n",
      "\n",
      "Epoch 00028: val_loss improved from 0.48428 to 0.48404, saving model to best.h5\n",
      "Epoch 29/50\n",
      "51049/51049 [==============================] - 3s 59us/step - loss: 0.4803 - accuracy: 0.8322 - get_f1: 0.8299 - val_loss: 0.4865 - val_accuracy: 0.8290 - val_get_f1: 0.8128\n",
      "\n",
      "Epoch 00029: val_loss did not improve from 0.48404\n",
      "Epoch 30/50\n",
      "51049/51049 [==============================] - 3s 59us/step - loss: 0.4799 - accuracy: 0.8326 - get_f1: 0.8313 - val_loss: 0.4833 - val_accuracy: 0.8289 - val_get_f1: 0.8150\n",
      "\n",
      "Epoch 00030: val_loss improved from 0.48404 to 0.48332, saving model to best.h5\n",
      "Epoch 31/50\n",
      "51049/51049 [==============================] - 3s 59us/step - loss: 0.4797 - accuracy: 0.8328 - get_f1: 0.8301 - val_loss: 0.4839 - val_accuracy: 0.8302 - val_get_f1: 0.8158\n",
      "\n",
      "Epoch 00031: val_loss did not improve from 0.48332\n",
      "Epoch 32/50\n",
      "51049/51049 [==============================] - 3s 59us/step - loss: 0.4796 - accuracy: 0.8328 - get_f1: 0.8304 - val_loss: 0.4828 - val_accuracy: 0.8306 - val_get_f1: 0.8154\n",
      "\n",
      "Epoch 00032: val_loss improved from 0.48332 to 0.48277, saving model to best.h5\n",
      "Epoch 33/50\n"
     ]
    },
    {
     "name": "stdout",
     "output_type": "stream",
     "text": [
      "51049/51049 [==============================] - 3s 59us/step - loss: 0.4794 - accuracy: 0.8320 - get_f1: 0.8303 - val_loss: 0.4832 - val_accuracy: 0.8311 - val_get_f1: 0.8146\n",
      "\n",
      "Epoch 00033: val_loss did not improve from 0.48277\n",
      "Epoch 34/50\n",
      "51049/51049 [==============================] - 3s 59us/step - loss: 0.4790 - accuracy: 0.8329 - get_f1: 0.8311 - val_loss: 0.4835 - val_accuracy: 0.8301 - val_get_f1: 0.8139\n",
      "\n",
      "Epoch 00034: val_loss did not improve from 0.48277\n",
      "Epoch 35/50\n",
      "51049/51049 [==============================] - 3s 59us/step - loss: 0.4790 - accuracy: 0.8326 - get_f1: 0.8311 - val_loss: 0.4829 - val_accuracy: 0.8307 - val_get_f1: 0.8161\n",
      "\n",
      "Epoch 00035: val_loss did not improve from 0.48277\n",
      "Epoch 36/50\n",
      "51049/51049 [==============================] - 3s 59us/step - loss: 0.4789 - accuracy: 0.8328 - get_f1: 0.8312 - val_loss: 0.4836 - val_accuracy: 0.8304 - val_get_f1: 0.8146\n",
      "\n",
      "Epoch 00036: val_loss did not improve from 0.48277\n",
      "Epoch 37/50\n",
      "51049/51049 [==============================] - 3s 59us/step - loss: 0.4784 - accuracy: 0.8331 - get_f1: 0.8307 - val_loss: 0.4839 - val_accuracy: 0.8308 - val_get_f1: 0.8140\n",
      "\n",
      "Epoch 00037: val_loss did not improve from 0.48277\n",
      "\n",
      "Epoch 00037: ReduceLROnPlateau reducing learning rate to 0.010000000149011612.\n",
      "Epoch 38/50\n",
      "51049/51049 [==============================] - 3s 59us/step - loss: 0.4769 - accuracy: 0.8335 - get_f1: 0.8316 - val_loss: 0.4814 - val_accuracy: 0.8308 - val_get_f1: 0.8156\n",
      "\n",
      "Epoch 00038: val_loss improved from 0.48277 to 0.48140, saving model to best.h5\n",
      "Epoch 39/50\n",
      "51049/51049 [==============================] - 3s 59us/step - loss: 0.4765 - accuracy: 0.8335 - get_f1: 0.8318 - val_loss: 0.4814 - val_accuracy: 0.8308 - val_get_f1: 0.8153\n",
      "\n",
      "Epoch 00039: val_loss improved from 0.48140 to 0.48137, saving model to best.h5\n",
      "Epoch 40/50\n",
      "51049/51049 [==============================] - 3s 59us/step - loss: 0.4765 - accuracy: 0.8337 - get_f1: 0.8319 - val_loss: 0.4813 - val_accuracy: 0.8312 - val_get_f1: 0.8160\n",
      "\n",
      "Epoch 00040: val_loss improved from 0.48137 to 0.48127, saving model to best.h5\n",
      "Epoch 41/50\n",
      "51049/51049 [==============================] - 3s 59us/step - loss: 0.4764 - accuracy: 0.8338 - get_f1: 0.8321 - val_loss: 0.4814 - val_accuracy: 0.8297 - val_get_f1: 0.8151\n",
      "\n",
      "Epoch 00041: val_loss did not improve from 0.48127\n",
      "Epoch 42/50\n",
      "51049/51049 [==============================] - 3s 59us/step - loss: 0.4764 - accuracy: 0.8338 - get_f1: 0.8320 - val_loss: 0.4812 - val_accuracy: 0.8306 - val_get_f1: 0.8152\n",
      "\n",
      "Epoch 00042: val_loss improved from 0.48127 to 0.48125, saving model to best.h5\n",
      "Epoch 43/50\n",
      "51049/51049 [==============================] - 3s 60us/step - loss: 0.4764 - accuracy: 0.8337 - get_f1: 0.8317 - val_loss: 0.4811 - val_accuracy: 0.8311 - val_get_f1: 0.8154\n",
      "\n",
      "Epoch 00043: val_loss improved from 0.48125 to 0.48113, saving model to best.h5\n",
      "Epoch 44/50\n",
      "51049/51049 [==============================] - 3s 59us/step - loss: 0.4764 - accuracy: 0.8334 - get_f1: 0.8319 - val_loss: 0.4811 - val_accuracy: 0.8308 - val_get_f1: 0.8153\n",
      "\n",
      "Epoch 00044: val_loss improved from 0.48113 to 0.48112, saving model to best.h5\n",
      "Epoch 45/50\n",
      "51049/51049 [==============================] - 3s 59us/step - loss: 0.4763 - accuracy: 0.8336 - get_f1: 0.8321 - val_loss: 0.4811 - val_accuracy: 0.8308 - val_get_f1: 0.8158\n",
      "\n",
      "Epoch 00045: val_loss did not improve from 0.48112\n",
      "Epoch 46/50\n",
      "51049/51049 [==============================] - 3s 59us/step - loss: 0.4763 - accuracy: 0.8337 - get_f1: 0.8320 - val_loss: 0.4812 - val_accuracy: 0.8309 - val_get_f1: 0.8155\n",
      "\n",
      "Epoch 00046: val_loss did not improve from 0.48112\n",
      "Epoch 47/50\n",
      "51049/51049 [==============================] - 3s 59us/step - loss: 0.4763 - accuracy: 0.8336 - get_f1: 0.8316 - val_loss: 0.4811 - val_accuracy: 0.8312 - val_get_f1: 0.8153\n",
      "\n",
      "Epoch 00047: val_loss improved from 0.48112 to 0.48111, saving model to best.h5\n",
      "Epoch 48/50\n",
      "51049/51049 [==============================] - 3s 59us/step - loss: 0.4763 - accuracy: 0.8336 - get_f1: 0.8319 - val_loss: 0.4810 - val_accuracy: 0.8311 - val_get_f1: 0.8154\n",
      "\n",
      "Epoch 00048: val_loss improved from 0.48111 to 0.48103, saving model to best.h5\n",
      "\n",
      "Epoch 00048: ReduceLROnPlateau reducing learning rate to 0.0009999999776482583.\n",
      "Epoch 49/50\n",
      "51049/51049 [==============================] - 3s 59us/step - loss: 0.4761 - accuracy: 0.8338 - get_f1: 0.8318 - val_loss: 0.4810 - val_accuracy: 0.8311 - val_get_f1: 0.8153\n",
      "\n",
      "Epoch 00049: val_loss improved from 0.48103 to 0.48102, saving model to best.h5\n",
      "Epoch 50/50\n",
      "51049/51049 [==============================] - 3s 59us/step - loss: 0.4760 - accuracy: 0.8337 - get_f1: 0.8318 - val_loss: 0.4810 - val_accuracy: 0.8312 - val_get_f1: 0.8152\n",
      "\n",
      "Epoch 00050: val_loss improved from 0.48102 to 0.48101, saving model to best.h5\n"
     ]
    }
   ],
   "source": [
    "model.compile(loss=loss_type, optimizer=optimizer, metrics=['accuracy', get_f1])\n",
    "\n",
    "history = model.fit(x=X_train,\n",
    "                    y=y_train,\n",
    "                    validation_data=(X_test, y_test),\n",
    "                    epochs=epochs,\n",
    "                    batch_size=batch_size, \n",
    "                    callbacks=[cb_checkpointer, cb_early_stopper, cb_learning_rate_reduction])\n",
    "\n",
    "# Wczytanie najlepszego\n",
    "model.load_weights('best.h5')\n",
    "\n",
    "# Zapis do nowego pliku\n",
    "model.save('the_best.h5')"
   ]
  },
  {
   "cell_type": "markdown",
   "metadata": {},
   "source": [
    "# Statystyki"
   ]
  },
  {
   "cell_type": "code",
   "execution_count": 36,
   "metadata": {},
   "outputs": [
    {
     "data": {
      "image/png": "[encoded data removed]",
      "text/plain": [
       "<Figure size 864x864 with 3 Axes>"
      ]
     },
     "metadata": {
      "needs_background": "light"
     },
     "output_type": "display_data"
    },
    {
     "name": "stdout",
     "output_type": "stream",
     "text": [
      "Test loss: 0.481\n",
      "Test accuracy: 0.831\n",
      "Test F1: 0.815\n"
     ]
    }
   ],
   "source": [
    "loss, accuracy, get_f1  = model.evaluate(X_test, y_test, verbose=False)\n",
    "\n",
    "fig, (ax1, ax2, ax3) = plt.subplots(3, 1, figsize=(12, 12))\n",
    "\n",
    "# Wykres loss\n",
    "ax1.plot(history.history['loss'], color='b', label=\"Training loss\")\n",
    "ax1.plot(history.history['val_loss'], color='r', label=\"Validation loss\")\n",
    "ax1.set_xticks(numpy.arange(0, len(history.history['val_loss']), 1))\n",
    "ax1.legend(loc='best', shadow=True)\n",
    "ax1.set_ylabel('loss')\n",
    "ax1.set_xlabel('epoch')\n",
    "\n",
    "# Wykres accuracy\n",
    "ax2.plot(history.history['accuracy'], color='b', label=\"Training accuracy\")\n",
    "ax2.plot(history.history['val_accuracy'], color='r',label=\"Validation accuracy\")\n",
    "ax2.set_xticks(numpy.arange(0, len(history.history['val_accuracy']), 1))\n",
    "ax2.legend(loc='best', shadow=True)\n",
    "ax2.set_ylabel('accuracy')\n",
    "ax2.set_xlabel('epoch')\n",
    "\n",
    "# Wykres F1\n",
    "ax3.plot(history.history['get_f1'], color='b', label=\"Training f1\")\n",
    "ax3.plot(history.history['val_get_f1'], color='r',label=\"Validation f1\")\n",
    "ax3.set_xticks(numpy.arange(0, len(history.history['get_f1']), 1))\n",
    "ax3.legend(loc='best', shadow=True)\n",
    "ax3.set_ylabel('f1')\n",
    "ax3.set_xlabel('epoch')\n",
    "\n",
    "\n",
    "plt.tight_layout()\n",
    "plt.show()\n",
    "\n",
    "print(f'Test loss: {loss:.3}')\n",
    "print(f'Test accuracy: {accuracy:.3}')\n",
    "print(f'Test F1: {get_f1:.3}')\n"
   ]
  },
  {
   "cell_type": "code",
   "execution_count": 37,
   "metadata": {},
   "outputs": [],
   "source": [
    "predictions = model.predict(X_test)"
   ]
  },
  {
   "cell_type": "code",
   "execution_count": 38,
   "metadata": {},
   "outputs": [],
   "source": [
    "# Predykcje są zakodowane w one-hot encoderze, to zamienia wyjście na maxa i zmienia kształt na tabele\n",
    "\n",
    "predictions = numpy.array(list(map(lambda x: numpy.where(x == numpy.amax(x))[1], predictions)))\n",
    "predictions = numpy.reshape(predictions, (y_test.shape[0],))\n",
    "\n",
    "y_pred = predictions"
   ]
  },
  {
   "cell_type": "code",
   "execution_count": 39,
   "metadata": {},
   "outputs": [],
   "source": [
    "# Etykieta activity jest zakodowana w one-hot encoderze, to zamienia wyjście na maxa i zmienia kształt na tabele\n",
    "tmp = numpy.array(list(map(lambda x: numpy.where(x == numpy.amax(x))[1], y_test)))\n",
    "tmp = numpy.reshape(tmp, (y_test.shape[0],))\n",
    "\n",
    "y_true = tmp"
   ]
  },
  {
   "cell_type": "code",
   "execution_count": 40,
   "metadata": {},
   "outputs": [],
   "source": [
    "cm = confusion_matrix(y_true, y_pred)"
   ]
  },
  {
   "cell_type": "code",
   "execution_count": 41,
   "metadata": {},
   "outputs": [
    {
     "data": {
      "image/png": "[encoded data removed]",
      "text/plain": [
       "<Figure size 432x288 with 2 Axes>"
      ]
     },
     "metadata": {
      "needs_background": "light"
     },
     "output_type": "display_data"
    }
   ],
   "source": [
    "plot_cm(cm, ['cooking', 'driving', 'sitting', 'sport', 'walking'])"
   ]
  },
  {
   "cell_type": "code",
   "execution_count": 42,
   "metadata": {},
   "outputs": [
    {
     "name": "stdout",
     "output_type": "stream",
     "text": [
      "[[ 347   24  642   22  199]\n",
      " [  25  101  113    7   11]\n",
      " [ 153   24 7935   13   55]\n",
      " [  28    0   18  119  211]\n",
      " [ 140    5  398   67 2106]]\n"
     ]
    }
   ],
   "source": [
    "print(cm)"
   ]
  },
  {
   "cell_type": "code",
   "execution_count": 43,
   "metadata": {},
   "outputs": [
    {
     "name": "stdout",
     "output_type": "stream",
     "text": [
      "Accuracy: 0.8311525503408289\n",
      "Precision: 0.8090625205503664\n",
      "Recall: 0.8311525503408289\n",
      "F-score: 0.8139217211742709\n"
     ]
    }
   ],
   "source": [
    "accuracy, precision, recall, fscore = countStats(y_true, y_pred)\n",
    "print(f'Accuracy: {accuracy}\\nPrecision: {precision}\\nRecall: {recall}\\nF-score: {fscore}')"
   ]
  },
  {
   "cell_type": "code",
   "execution_count": 44,
   "metadata": {},
   "outputs": [
    {
     "name": "stdout",
     "output_type": "stream",
     "text": [
      "Epoch 1/1\n",
      "1021/1021 [==============================] - 0s 297us/step - loss: 0.8864 - accuracy: 0.9089\n",
      "2553/2553 [==============================] - 0s 34us/step\n",
      "1021/1021 [==============================] - 0s 20us/step\n",
      "Epoch 1/1\n",
      "3318/3318 [==============================] - 0s 127us/step - loss: 0.2948 - accuracy: 0.9678\n",
      "2553/2553 [==============================] - 0s 34us/step\n",
      "3318/3318 [==============================] - 0s 18us/step\n",
      "Epoch 1/1\n",
      "5615/5615 [==============================] - 1s 99us/step - loss: 0.2753 - accuracy: 0.9428\n",
      "2553/2553 [==============================] - 0s 35us/step\n",
      "5615/5615 [==============================] - 0s 18us/step\n",
      "Epoch 1/1\n",
      "7912/7912 [==============================] - 1s 85us/step - loss: 0.2806 - accuracy: 0.9369\n",
      "2553/2553 [==============================] - 0s 35us/step\n",
      "7912/7912 [==============================] - 0s 17us/step\n",
      "Epoch 1/1\n",
      "10210/10210 [==============================] - 1s 83us/step - loss: 0.4353 - accuracy: 0.8818\n",
      "2553/2553 [==============================] - 0s 35us/step\n",
      "10210/10210 [==============================] - 0s 17us/step\n",
      "Epoch 1/1\n",
      "1021/1021 [==============================] - 0s 291us/step - loss: 0.7636 - accuracy: 0.7493\n",
      "2553/2553 [==============================] - 0s 35us/step\n",
      "1021/1021 [==============================] - 0s 19us/step\n",
      "Epoch 1/1\n",
      "3318/3318 [==============================] - 0s 128us/step - loss: 0.8232 - accuracy: 0.6902\n",
      "2553/2553 [==============================] - 0s 35us/step\n",
      "3318/3318 [==============================] - 0s 17us/step\n",
      "Epoch 1/1\n",
      "5615/5615 [==============================] - 1s 98us/step - loss: 0.7998 - accuracy: 0.7165\n",
      "2553/2553 [==============================] - 0s 35us/step\n",
      "5615/5615 [==============================] - 0s 18us/step\n",
      "Epoch 1/1\n",
      "7912/7912 [==============================] - 1s 87us/step - loss: 0.7058 - accuracy: 0.7616\n",
      "2553/2553 [==============================] - 0s 35us/step\n",
      "7912/7912 [==============================] - 0s 17us/step\n",
      "Epoch 1/1\n",
      "10210/10210 [==============================] - 1s 79us/step - loss: 0.7877 - accuracy: 0.7420\n",
      "2553/2553 [==============================] - 0s 35us/step\n",
      "10210/10210 [==============================] - 0s 17us/step\n",
      "Epoch 1/1\n",
      "1021/1021 [==============================] - 0s 296us/step - loss: 0.9093 - accuracy: 0.7336\n",
      "2553/2553 [==============================] - 0s 35us/step\n",
      "1021/1021 [==============================] - 0s 20us/step\n",
      "Epoch 1/1\n",
      "3318/3318 [==============================] - 0s 129us/step - loss: 0.7628 - accuracy: 0.7815\n",
      "2553/2553 [==============================] - 0s 34us/step\n",
      "3318/3318 [==============================] - 0s 18us/step\n",
      "Epoch 1/1\n",
      "5615/5615 [==============================] - 1s 99us/step - loss: 0.7723 - accuracy: 0.7437\n",
      "2553/2553 [==============================] - 0s 35us/step\n",
      "5615/5615 [==============================] - 0s 17us/step\n",
      "Epoch 1/1\n",
      "7912/7912 [==============================] - 1s 88us/step - loss: 0.6934 - accuracy: 0.7719\n",
      "2553/2553 [==============================] - 0s 35us/step\n",
      "7912/7912 [==============================] - 0s 18us/step\n",
      "Epoch 1/1\n",
      "10210/10210 [==============================] - 1s 80us/step - loss: 0.7458 - accuracy: 0.7604\n",
      "2553/2553 [==============================] - 0s 35us/step\n",
      "10210/10210 [==============================] - 0s 18us/step\n",
      "Epoch 1/1\n",
      "1021/1021 [==============================] - 0s 296us/step - loss: 0.8285 - accuracy: 0.7395\n",
      "2552/2552 [==============================] - 0s 35us/step\n",
      "1021/1021 [==============================] - 0s 19us/step\n",
      "Epoch 1/1\n",
      "3318/3318 [==============================] - 0s 130us/step - loss: 0.8171 - accuracy: 0.7447\n",
      "2552/2552 [==============================] - 0s 35us/step\n",
      "3318/3318 [==============================] - 0s 18us/step\n",
      "Epoch 1/1\n",
      "5615/5615 [==============================] - 1s 100us/step - loss: 0.6541 - accuracy: 0.7820\n",
      "2552/2552 [==============================] - 0s 35us/step\n",
      "5615/5615 [==============================] - 0s 18us/step\n",
      "Epoch 1/1\n",
      "7912/7912 [==============================] - 1s 88us/step - loss: 0.5539 - accuracy: 0.8228\n",
      "2552/2552 [==============================] - 0s 35us/step\n",
      "7912/7912 [==============================] - 0s 18us/step\n",
      "Epoch 1/1\n",
      "10210/10210 [==============================] - 1s 82us/step - loss: 0.7531 - accuracy: 0.7592\n",
      "2552/2552 [==============================] - 0s 36us/step\n",
      "10210/10210 [==============================] - 0s 18us/step\n",
      "Epoch 1/1\n",
      "1021/1021 [==============================] - 0s 302us/step - loss: 0.8372 - accuracy: 0.7199\n",
      "2552/2552 [==============================] - 0s 35us/step\n",
      "1021/1021 [==============================] - 0s 20us/step\n",
      "Epoch 1/1\n",
      "3318/3318 [==============================] - 0s 132us/step - loss: 0.7627 - accuracy: 0.7676\n",
      "2552/2552 [==============================] - 0s 36us/step\n",
      "3318/3318 [==============================] - 0s 19us/step\n",
      "Epoch 1/1\n",
      "5615/5615 [==============================] - 1s 102us/step - loss: 0.6644 - accuracy: 0.7765\n",
      "2552/2552 [==============================] - 0s 35us/step\n",
      "5615/5615 [==============================] - 0s 19us/step\n",
      "Epoch 1/1\n",
      "7912/7912 [==============================] - 1s 88us/step - loss: 0.5521 - accuracy: 0.8229\n",
      "2552/2552 [==============================] - 0s 36us/step\n",
      "7912/7912 [==============================] - 0s 18us/step\n",
      "Epoch 1/1\n",
      "10210/10210 [==============================] - 1s 82us/step - loss: 0.6129 - accuracy: 0.8055\n",
      "2552/2552 [==============================] - 0s 36us/step\n",
      "10210/10210 [==============================] - 0s 18us/step\n"
     ]
    },
    {
     "data": {
      "text/plain": [
       "<module 'matplotlib.pyplot' from 'C:\\\\Users\\\\zelec\\\\AppData\\\\Roaming\\\\Python\\\\Python37\\\\site-packages\\\\matplotlib\\\\pyplot.py'>"
      ]
     },
     "execution_count": 44,
     "metadata": {},
     "output_type": "execute_result"
    },
    {
     "data": {
      "image/png": "[encoded data removed]",
      "text/plain": [
       "<Figure size 1440x360 with 3 Axes>"
      ]
     },
     "metadata": {
      "needs_background": "light"
     },
     "output_type": "display_data"
    }
   ],
   "source": [
    "from utils.learning_curve import plot_learning_curve\n",
    "\n",
    "# Zbudowane na wrapperze + y_test ma zmiejszone wymiary by być zgodne z funkcją i samym modelem\n",
    "plot_learning_curve(model_wrapper, \"LSTM Krzywe uczenia\", X_test, numpy.squeeze(y_test, axis=1))"
   ]
  },
  {
   "cell_type": "code",
   "execution_count": null,
   "metadata": {},
   "outputs": [],
   "source": []
  }
 ],
 "metadata": {
  "kernelspec": {
   "display_name": "Python 3",
   "language": "python",
   "name": "python3"
  },
  "language_info": {
   "codemirror_mode": {
    "name": "ipython",
    "version": 3
   },
   "file_extension": ".py",
   "mimetype": "text/x-python",
   "name": "python",
   "nbconvert_exporter": "python",
   "pygments_lexer": "ipython3",
   "version": "3.7.4"
  }
 },
 "nbformat": 4,
 "nbformat_minor": 4
}
