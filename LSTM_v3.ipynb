{
 "cells": [
  {
   "cell_type": "markdown",
   "metadata": {},
   "source": [
    "# Notatki"
   ]
  },
  {
   "cell_type": "markdown",
   "metadata": {},
   "source": [
    " * Jakbyśmy mieli do czynienia z ciagłym przypływem próbek bez żadnych przerw to moglibyśmy pozwolić sobie na dropnięcie czasu\n",
    " * Lepiej celować w wielkość typu 200-400 time steps w LSTM(patrz: [źródło](https://machinelearningmastery.com/prepare-univariate-time-series-data-long-short-term-memory-networks/))"
   ]
  },
  {
   "cell_type": "markdown",
   "metadata": {},
   "source": [
    "# Sprawdzanie środowiska"
   ]
  },
  {
   "cell_type": "code",
   "execution_count": 1,
   "metadata": {},
   "outputs": [
    {
     "name": "stdout",
     "output_type": "stream",
     "text": [
      "3.7.4\n"
     ]
    }
   ],
   "source": [
    "from platform import python_version\n",
    "\n",
    "print(python_version())\n",
    "\n",
    "import os\n",
    "\n",
    "os.environ[\"CUDA_VISIBLE_DEVICES\"] = \"-1\""
   ]
  },
  {
   "cell_type": "markdown",
   "metadata": {},
   "source": [
    "# Załadowanie danych"
   ]
  },
  {
   "cell_type": "code",
   "execution_count": 2,
   "metadata": {},
   "outputs": [
    {
     "name": "stderr",
     "output_type": "stream",
     "text": [
      "Using TensorFlow backend.\n"
     ]
    }
   ],
   "source": [
    "import numpy\n",
    "import pandas as pd\n",
    "import matplotlib.pyplot as plt\n",
    "import seaborn as sns\n",
    "import tensorflow as tf\n",
    "import math\n",
    "from keras.models import Sequential\n",
    "from keras.layers import Dense\n",
    "from keras.layers import LSTM\n",
    "from sklearn.preprocessing import MinMaxScaler\n",
    "from sklearn.metrics import mean_squared_error\n",
    "from keras.layers.embeddings import Embedding\n",
    "from keras.preprocessing import sequence\n",
    "from sklearn.model_selection import StratifiedKFold\n",
    "from keras.utils import to_categorical\n",
    "\n",
    "# fix random bo tak ( ͡° ͜ʖ ͡°)\n",
    "odp = 42\n",
    "numpy.random.seed(odp)"
   ]
  },
  {
   "cell_type": "code",
   "execution_count": 3,
   "metadata": {
    "scrolled": true
   },
   "outputs": [
    {
     "name": "stdout",
     "output_type": "stream",
     "text": [
      " Volume in drive D is Data\n",
      " Volume Serial Number is 82E7-60C3\n",
      "\n",
      " Directory of d:\\Studia\\GitLab\\datamining\n",
      "\n",
      "\n",
      " Directory of d:\\Studia\\GitLab\\datamining\\data\n",
      "\n",
      "04.05.2020  14:29    <DIR>          .\n",
      "04.05.2020  14:29    <DIR>          ..\n",
      "04.05.2020  12:59           286˙105 data_real_5s.csv\n",
      "04.05.2020  14:29         3˙955˙274 rawData.csv\n",
      "               2 File(s)      4˙241˙379 bytes\n",
      "               2 Dir(s)  257˙925˙160˙960 bytes free\n"
     ]
    },
    {
     "name": "stderr",
     "output_type": "stream",
     "text": [
      "File Not Found\n"
     ]
    }
   ],
   "source": [
    "%ls -l data"
   ]
  },
  {
   "cell_type": "code",
   "execution_count": 4,
   "metadata": {},
   "outputs": [],
   "source": [
    "data_type = '5s' # '5s' or 'raw'\n",
    "\n",
    "if data_type == 'raw':\n",
    "    df = pd.read_csv(\"data//rawData.csv\")\n",
    "    tmp = df.pop('target')\n",
    "    df['activity'] = tmp\n",
    "else:\n",
    "    df = pd.read_csv(\"data//data_real_5s.csv\", index_col = 0)\n",
    "    tmp = df.pop('activity')\n",
    "    df['activity'] = tmp\n",
    "    \n",
    "df.dropna(inplace=True)\n",
    "\n"
   ]
  },
  {
   "cell_type": "code",
   "execution_count": 5,
   "metadata": {},
   "outputs": [
    {
     "data": {
      "text/html": [
       "<div>\n",
       "<style scoped>\n",
       "    .dataframe tbody tr th:only-of-type {\n",
       "        vertical-align: middle;\n",
       "    }\n",
       "\n",
       "    .dataframe tbody tr th {\n",
       "        vertical-align: top;\n",
       "    }\n",
       "\n",
       "    .dataframe thead th {\n",
       "        text-align: right;\n",
       "    }\n",
       "</style>\n",
       "<table border=\"1\" class=\"dataframe\">\n",
       "  <thead>\n",
       "    <tr style=\"text-align: right;\">\n",
       "      <th></th>\n",
       "      <th>timestamp</th>\n",
       "      <th>acceleration#mean</th>\n",
       "      <th>acceleration#min</th>\n",
       "      <th>acceleration#max</th>\n",
       "      <th>acceleration#std</th>\n",
       "      <th>gyroscope#mean</th>\n",
       "      <th>gyroscope#min</th>\n",
       "      <th>gyroscope#max</th>\n",
       "      <th>gyroscope#std</th>\n",
       "      <th>magnetometer#mean</th>\n",
       "      <th>magnetometer#min</th>\n",
       "      <th>magnetometer#max</th>\n",
       "      <th>magnetometer#std</th>\n",
       "      <th>activity</th>\n",
       "    </tr>\n",
       "  </thead>\n",
       "  <tbody>\n",
       "    <tr>\n",
       "      <th>0</th>\n",
       "      <td>2020-04-18 15:10:30</td>\n",
       "      <td>1.109436</td>\n",
       "      <td>0.999442</td>\n",
       "      <td>1.269833</td>\n",
       "      <td>0.129128</td>\n",
       "      <td>91.154186</td>\n",
       "      <td>16.448503</td>\n",
       "      <td>165.706371</td>\n",
       "      <td>55.584225</td>\n",
       "      <td>0.002898</td>\n",
       "      <td>0.002898</td>\n",
       "      <td>0.002899</td>\n",
       "      <td>5.710746e-07</td>\n",
       "      <td>cooking</td>\n",
       "    </tr>\n",
       "    <tr>\n",
       "      <th>1</th>\n",
       "      <td>2020-04-18 15:10:35</td>\n",
       "      <td>1.010262</td>\n",
       "      <td>0.423690</td>\n",
       "      <td>1.322665</td>\n",
       "      <td>0.211740</td>\n",
       "      <td>126.618599</td>\n",
       "      <td>33.911102</td>\n",
       "      <td>522.127682</td>\n",
       "      <td>125.834939</td>\n",
       "      <td>0.002897</td>\n",
       "      <td>0.002896</td>\n",
       "      <td>0.002898</td>\n",
       "      <td>5.297384e-07</td>\n",
       "      <td>cooking</td>\n",
       "    </tr>\n",
       "    <tr>\n",
       "      <th>2</th>\n",
       "      <td>2020-04-18 15:10:40</td>\n",
       "      <td>1.043609</td>\n",
       "      <td>0.954861</td>\n",
       "      <td>1.513513</td>\n",
       "      <td>0.128770</td>\n",
       "      <td>54.778493</td>\n",
       "      <td>14.772970</td>\n",
       "      <td>223.296800</td>\n",
       "      <td>50.843010</td>\n",
       "      <td>0.002898</td>\n",
       "      <td>0.002898</td>\n",
       "      <td>0.002899</td>\n",
       "      <td>3.626037e-07</td>\n",
       "      <td>cooking</td>\n",
       "    </tr>\n",
       "    <tr>\n",
       "      <th>3</th>\n",
       "      <td>2020-04-18 15:10:45</td>\n",
       "      <td>1.024598</td>\n",
       "      <td>0.675534</td>\n",
       "      <td>1.379391</td>\n",
       "      <td>0.167400</td>\n",
       "      <td>57.362835</td>\n",
       "      <td>22.040976</td>\n",
       "      <td>156.802970</td>\n",
       "      <td>33.946071</td>\n",
       "      <td>0.002899</td>\n",
       "      <td>0.002898</td>\n",
       "      <td>0.002899</td>\n",
       "      <td>3.705598e-07</td>\n",
       "      <td>cooking</td>\n",
       "    </tr>\n",
       "    <tr>\n",
       "      <th>4</th>\n",
       "      <td>2020-04-18 15:10:50</td>\n",
       "      <td>1.005966</td>\n",
       "      <td>0.674840</td>\n",
       "      <td>1.566321</td>\n",
       "      <td>0.192342</td>\n",
       "      <td>46.481485</td>\n",
       "      <td>1.529261</td>\n",
       "      <td>105.839964</td>\n",
       "      <td>27.824679</td>\n",
       "      <td>0.002898</td>\n",
       "      <td>0.002898</td>\n",
       "      <td>0.002899</td>\n",
       "      <td>4.801102e-07</td>\n",
       "      <td>cooking</td>\n",
       "    </tr>\n",
       "  </tbody>\n",
       "</table>\n",
       "</div>"
      ],
      "text/plain": [
       "             timestamp  acceleration#mean  acceleration#min  acceleration#max  \\\n",
       "0  2020-04-18 15:10:30           1.109436          0.999442          1.269833   \n",
       "1  2020-04-18 15:10:35           1.010262          0.423690          1.322665   \n",
       "2  2020-04-18 15:10:40           1.043609          0.954861          1.513513   \n",
       "3  2020-04-18 15:10:45           1.024598          0.675534          1.379391   \n",
       "4  2020-04-18 15:10:50           1.005966          0.674840          1.566321   \n",
       "\n",
       "   acceleration#std  gyroscope#mean  gyroscope#min  gyroscope#max  \\\n",
       "0          0.129128       91.154186      16.448503     165.706371   \n",
       "1          0.211740      126.618599      33.911102     522.127682   \n",
       "2          0.128770       54.778493      14.772970     223.296800   \n",
       "3          0.167400       57.362835      22.040976     156.802970   \n",
       "4          0.192342       46.481485       1.529261     105.839964   \n",
       "\n",
       "   gyroscope#std  magnetometer#mean  magnetometer#min  magnetometer#max  \\\n",
       "0      55.584225           0.002898          0.002898          0.002899   \n",
       "1     125.834939           0.002897          0.002896          0.002898   \n",
       "2      50.843010           0.002898          0.002898          0.002899   \n",
       "3      33.946071           0.002899          0.002898          0.002899   \n",
       "4      27.824679           0.002898          0.002898          0.002899   \n",
       "\n",
       "   magnetometer#std activity  \n",
       "0      5.710746e-07  cooking  \n",
       "1      5.297384e-07  cooking  \n",
       "2      3.626037e-07  cooking  \n",
       "3      3.705598e-07  cooking  \n",
       "4      4.801102e-07  cooking  "
      ]
     },
     "execution_count": 5,
     "metadata": {},
     "output_type": "execute_result"
    }
   ],
   "source": [
    "df.head()"
   ]
  },
  {
   "cell_type": "code",
   "execution_count": 6,
   "metadata": {},
   "outputs": [],
   "source": [
    "'''\n",
    "from datetime import datetime\n",
    "\n",
    "# zmiana timestampów na UNIXowe\n",
    "timestamps = []\n",
    "\n",
    "for i in df['timestamp']:\n",
    "    now = i\n",
    "    now = datetime.strptime(now, '%Y-%m-%d %H:%M:%S')\n",
    "    timestamp = datetime.timestamp(now)\n",
    "    timestamps.append(timestamp)\n",
    "\n",
    "df['timestamp'] = timestamps\n",
    "'''\n",
    "\n",
    "# ciągły czas\n",
    "if data_type == '5s':\n",
    "    df.drop(columns = ['timestamp'], inplace = True)"
   ]
  },
  {
   "cell_type": "code",
   "execution_count": 7,
   "metadata": {},
   "outputs": [
    {
     "data": {
      "text/html": [
       "<div>\n",
       "<style scoped>\n",
       "    .dataframe tbody tr th:only-of-type {\n",
       "        vertical-align: middle;\n",
       "    }\n",
       "\n",
       "    .dataframe tbody tr th {\n",
       "        vertical-align: top;\n",
       "    }\n",
       "\n",
       "    .dataframe thead th {\n",
       "        text-align: right;\n",
       "    }\n",
       "</style>\n",
       "<table border=\"1\" class=\"dataframe\">\n",
       "  <thead>\n",
       "    <tr style=\"text-align: right;\">\n",
       "      <th></th>\n",
       "      <th>acceleration#mean</th>\n",
       "      <th>acceleration#min</th>\n",
       "      <th>acceleration#max</th>\n",
       "      <th>acceleration#std</th>\n",
       "      <th>gyroscope#mean</th>\n",
       "      <th>gyroscope#min</th>\n",
       "      <th>gyroscope#max</th>\n",
       "      <th>gyroscope#std</th>\n",
       "      <th>magnetometer#mean</th>\n",
       "      <th>magnetometer#min</th>\n",
       "      <th>magnetometer#max</th>\n",
       "      <th>magnetometer#std</th>\n",
       "      <th>activity</th>\n",
       "    </tr>\n",
       "  </thead>\n",
       "  <tbody>\n",
       "    <tr>\n",
       "      <th>0</th>\n",
       "      <td>1.109436</td>\n",
       "      <td>0.999442</td>\n",
       "      <td>1.269833</td>\n",
       "      <td>0.129128</td>\n",
       "      <td>91.154186</td>\n",
       "      <td>16.448503</td>\n",
       "      <td>165.706371</td>\n",
       "      <td>55.584225</td>\n",
       "      <td>0.002898</td>\n",
       "      <td>0.002898</td>\n",
       "      <td>0.002899</td>\n",
       "      <td>5.710746e-07</td>\n",
       "      <td>cooking</td>\n",
       "    </tr>\n",
       "    <tr>\n",
       "      <th>1</th>\n",
       "      <td>1.010262</td>\n",
       "      <td>0.423690</td>\n",
       "      <td>1.322665</td>\n",
       "      <td>0.211740</td>\n",
       "      <td>126.618599</td>\n",
       "      <td>33.911102</td>\n",
       "      <td>522.127682</td>\n",
       "      <td>125.834939</td>\n",
       "      <td>0.002897</td>\n",
       "      <td>0.002896</td>\n",
       "      <td>0.002898</td>\n",
       "      <td>5.297384e-07</td>\n",
       "      <td>cooking</td>\n",
       "    </tr>\n",
       "    <tr>\n",
       "      <th>2</th>\n",
       "      <td>1.043609</td>\n",
       "      <td>0.954861</td>\n",
       "      <td>1.513513</td>\n",
       "      <td>0.128770</td>\n",
       "      <td>54.778493</td>\n",
       "      <td>14.772970</td>\n",
       "      <td>223.296800</td>\n",
       "      <td>50.843010</td>\n",
       "      <td>0.002898</td>\n",
       "      <td>0.002898</td>\n",
       "      <td>0.002899</td>\n",
       "      <td>3.626037e-07</td>\n",
       "      <td>cooking</td>\n",
       "    </tr>\n",
       "    <tr>\n",
       "      <th>3</th>\n",
       "      <td>1.024598</td>\n",
       "      <td>0.675534</td>\n",
       "      <td>1.379391</td>\n",
       "      <td>0.167400</td>\n",
       "      <td>57.362835</td>\n",
       "      <td>22.040976</td>\n",
       "      <td>156.802970</td>\n",
       "      <td>33.946071</td>\n",
       "      <td>0.002899</td>\n",
       "      <td>0.002898</td>\n",
       "      <td>0.002899</td>\n",
       "      <td>3.705598e-07</td>\n",
       "      <td>cooking</td>\n",
       "    </tr>\n",
       "    <tr>\n",
       "      <th>4</th>\n",
       "      <td>1.005966</td>\n",
       "      <td>0.674840</td>\n",
       "      <td>1.566321</td>\n",
       "      <td>0.192342</td>\n",
       "      <td>46.481485</td>\n",
       "      <td>1.529261</td>\n",
       "      <td>105.839964</td>\n",
       "      <td>27.824679</td>\n",
       "      <td>0.002898</td>\n",
       "      <td>0.002898</td>\n",
       "      <td>0.002899</td>\n",
       "      <td>4.801102e-07</td>\n",
       "      <td>cooking</td>\n",
       "    </tr>\n",
       "  </tbody>\n",
       "</table>\n",
       "</div>"
      ],
      "text/plain": [
       "   acceleration#mean  acceleration#min  acceleration#max  acceleration#std  \\\n",
       "0           1.109436          0.999442          1.269833          0.129128   \n",
       "1           1.010262          0.423690          1.322665          0.211740   \n",
       "2           1.043609          0.954861          1.513513          0.128770   \n",
       "3           1.024598          0.675534          1.379391          0.167400   \n",
       "4           1.005966          0.674840          1.566321          0.192342   \n",
       "\n",
       "   gyroscope#mean  gyroscope#min  gyroscope#max  gyroscope#std  \\\n",
       "0       91.154186      16.448503     165.706371      55.584225   \n",
       "1      126.618599      33.911102     522.127682     125.834939   \n",
       "2       54.778493      14.772970     223.296800      50.843010   \n",
       "3       57.362835      22.040976     156.802970      33.946071   \n",
       "4       46.481485       1.529261     105.839964      27.824679   \n",
       "\n",
       "   magnetometer#mean  magnetometer#min  magnetometer#max  magnetometer#std  \\\n",
       "0           0.002898          0.002898          0.002899      5.710746e-07   \n",
       "1           0.002897          0.002896          0.002898      5.297384e-07   \n",
       "2           0.002898          0.002898          0.002899      3.626037e-07   \n",
       "3           0.002899          0.002898          0.002899      3.705598e-07   \n",
       "4           0.002898          0.002898          0.002899      4.801102e-07   \n",
       "\n",
       "  activity  \n",
       "0  cooking  \n",
       "1  cooking  \n",
       "2  cooking  \n",
       "3  cooking  \n",
       "4  cooking  "
      ]
     },
     "execution_count": 7,
     "metadata": {},
     "output_type": "execute_result"
    }
   ],
   "source": [
    "df.head()"
   ]
  },
  {
   "cell_type": "code",
   "execution_count": 8,
   "metadata": {},
   "outputs": [
    {
     "data": {
      "text/plain": [
       "(1055, 13)"
      ]
     },
     "execution_count": 8,
     "metadata": {},
     "output_type": "execute_result"
    }
   ],
   "source": [
    "'''\n",
    "Wygląd danych:\n",
    "\n",
    "|     Nazwa     | Ilość pól |\n",
    "| :-----------: | :-------: |\n",
    "|   timestamp   |     1     |\n",
    "| accelerometer |     4     |\n",
    "|   gyroscope   |     4     |\n",
    "|  magnetometer |     4     |\n",
    "|    activity   |     1     |\n",
    "\n",
    "\n",
    "Suma: 14\n",
    "\n",
    "'''\n",
    "\n",
    "\n",
    "df.shape"
   ]
  },
  {
   "cell_type": "markdown",
   "metadata": {},
   "source": [
    "# Obróbka danych"
   ]
  },
  {
   "cell_type": "code",
   "execution_count": 9,
   "metadata": {},
   "outputs": [
    {
     "data": {
      "text/plain": [
       "array(['cooking', 'driving', 'sitting', 'sport', 'walking'], dtype=object)"
      ]
     },
     "execution_count": 9,
     "metadata": {},
     "output_type": "execute_result"
    }
   ],
   "source": [
    "'''\n",
    "Zmiana activity na liczby:\n",
    "\n",
    "0 - cooking\n",
    "1 - driving\n",
    "2 - sitting\n",
    "3 - sport\n",
    "4 - walking\n",
    "'''\n",
    "df.activity.unique()"
   ]
  },
  {
   "cell_type": "code",
   "execution_count": 10,
   "metadata": {},
   "outputs": [],
   "source": [
    "df = df.replace({'activity':'cooking'},{'activity':0})\n",
    "df = df.replace({'activity':'driving'},{'activity':1})\n",
    "df = df.replace({'activity':'sitting'},{'activity':2})\n",
    "df = df.replace({'activity':'sport'},{'activity':3})\n",
    "df = df.replace({'activity':'walking'},{'activity':4})"
   ]
  },
  {
   "cell_type": "code",
   "execution_count": 11,
   "metadata": {},
   "outputs": [],
   "source": [
    "'''\n",
    "Podział danych z całego df na X i y:\n",
    "\n",
    "X - wszystko oprócz activity(time, accelerometer,gyroscope, sound) \n",
    "y - activity\n",
    "'''\n",
    "\n",
    "X, y = df.iloc[:, 0:-1], df.iloc[:, -1]"
   ]
  },
  {
   "cell_type": "code",
   "execution_count": 12,
   "metadata": {},
   "outputs": [
    {
     "data": {
      "text/html": [
       "<div>\n",
       "<style scoped>\n",
       "    .dataframe tbody tr th:only-of-type {\n",
       "        vertical-align: middle;\n",
       "    }\n",
       "\n",
       "    .dataframe tbody tr th {\n",
       "        vertical-align: top;\n",
       "    }\n",
       "\n",
       "    .dataframe thead th {\n",
       "        text-align: right;\n",
       "    }\n",
       "</style>\n",
       "<table border=\"1\" class=\"dataframe\">\n",
       "  <thead>\n",
       "    <tr style=\"text-align: right;\">\n",
       "      <th></th>\n",
       "      <th>acceleration#mean</th>\n",
       "      <th>acceleration#min</th>\n",
       "      <th>acceleration#max</th>\n",
       "      <th>acceleration#std</th>\n",
       "      <th>gyroscope#mean</th>\n",
       "      <th>gyroscope#min</th>\n",
       "      <th>gyroscope#max</th>\n",
       "      <th>gyroscope#std</th>\n",
       "      <th>magnetometer#mean</th>\n",
       "      <th>magnetometer#min</th>\n",
       "      <th>magnetometer#max</th>\n",
       "      <th>magnetometer#std</th>\n",
       "      <th>activity</th>\n",
       "    </tr>\n",
       "  </thead>\n",
       "  <tbody>\n",
       "    <tr>\n",
       "      <th>0</th>\n",
       "      <td>1.109436</td>\n",
       "      <td>0.999442</td>\n",
       "      <td>1.269833</td>\n",
       "      <td>0.129128</td>\n",
       "      <td>91.154186</td>\n",
       "      <td>16.448503</td>\n",
       "      <td>165.706371</td>\n",
       "      <td>55.584225</td>\n",
       "      <td>0.002898</td>\n",
       "      <td>0.002898</td>\n",
       "      <td>0.002899</td>\n",
       "      <td>5.710746e-07</td>\n",
       "      <td>0</td>\n",
       "    </tr>\n",
       "    <tr>\n",
       "      <th>1</th>\n",
       "      <td>1.010262</td>\n",
       "      <td>0.423690</td>\n",
       "      <td>1.322665</td>\n",
       "      <td>0.211740</td>\n",
       "      <td>126.618599</td>\n",
       "      <td>33.911102</td>\n",
       "      <td>522.127682</td>\n",
       "      <td>125.834939</td>\n",
       "      <td>0.002897</td>\n",
       "      <td>0.002896</td>\n",
       "      <td>0.002898</td>\n",
       "      <td>5.297384e-07</td>\n",
       "      <td>0</td>\n",
       "    </tr>\n",
       "    <tr>\n",
       "      <th>2</th>\n",
       "      <td>1.043609</td>\n",
       "      <td>0.954861</td>\n",
       "      <td>1.513513</td>\n",
       "      <td>0.128770</td>\n",
       "      <td>54.778493</td>\n",
       "      <td>14.772970</td>\n",
       "      <td>223.296800</td>\n",
       "      <td>50.843010</td>\n",
       "      <td>0.002898</td>\n",
       "      <td>0.002898</td>\n",
       "      <td>0.002899</td>\n",
       "      <td>3.626037e-07</td>\n",
       "      <td>0</td>\n",
       "    </tr>\n",
       "    <tr>\n",
       "      <th>3</th>\n",
       "      <td>1.024598</td>\n",
       "      <td>0.675534</td>\n",
       "      <td>1.379391</td>\n",
       "      <td>0.167400</td>\n",
       "      <td>57.362835</td>\n",
       "      <td>22.040976</td>\n",
       "      <td>156.802970</td>\n",
       "      <td>33.946071</td>\n",
       "      <td>0.002899</td>\n",
       "      <td>0.002898</td>\n",
       "      <td>0.002899</td>\n",
       "      <td>3.705598e-07</td>\n",
       "      <td>0</td>\n",
       "    </tr>\n",
       "    <tr>\n",
       "      <th>4</th>\n",
       "      <td>1.005966</td>\n",
       "      <td>0.674840</td>\n",
       "      <td>1.566321</td>\n",
       "      <td>0.192342</td>\n",
       "      <td>46.481485</td>\n",
       "      <td>1.529261</td>\n",
       "      <td>105.839964</td>\n",
       "      <td>27.824679</td>\n",
       "      <td>0.002898</td>\n",
       "      <td>0.002898</td>\n",
       "      <td>0.002899</td>\n",
       "      <td>4.801102e-07</td>\n",
       "      <td>0</td>\n",
       "    </tr>\n",
       "  </tbody>\n",
       "</table>\n",
       "</div>"
      ],
      "text/plain": [
       "   acceleration#mean  acceleration#min  acceleration#max  acceleration#std  \\\n",
       "0           1.109436          0.999442          1.269833          0.129128   \n",
       "1           1.010262          0.423690          1.322665          0.211740   \n",
       "2           1.043609          0.954861          1.513513          0.128770   \n",
       "3           1.024598          0.675534          1.379391          0.167400   \n",
       "4           1.005966          0.674840          1.566321          0.192342   \n",
       "\n",
       "   gyroscope#mean  gyroscope#min  gyroscope#max  gyroscope#std  \\\n",
       "0       91.154186      16.448503     165.706371      55.584225   \n",
       "1      126.618599      33.911102     522.127682     125.834939   \n",
       "2       54.778493      14.772970     223.296800      50.843010   \n",
       "3       57.362835      22.040976     156.802970      33.946071   \n",
       "4       46.481485       1.529261     105.839964      27.824679   \n",
       "\n",
       "   magnetometer#mean  magnetometer#min  magnetometer#max  magnetometer#std  \\\n",
       "0           0.002898          0.002898          0.002899      5.710746e-07   \n",
       "1           0.002897          0.002896          0.002898      5.297384e-07   \n",
       "2           0.002898          0.002898          0.002899      3.626037e-07   \n",
       "3           0.002899          0.002898          0.002899      3.705598e-07   \n",
       "4           0.002898          0.002898          0.002899      4.801102e-07   \n",
       "\n",
       "   activity  \n",
       "0         0  \n",
       "1         0  \n",
       "2         0  \n",
       "3         0  \n",
       "4         0  "
      ]
     },
     "execution_count": 12,
     "metadata": {},
     "output_type": "execute_result"
    }
   ],
   "source": [
    "df.head()"
   ]
  },
  {
   "cell_type": "code",
   "execution_count": 13,
   "metadata": {},
   "outputs": [
    {
     "data": {
      "text/html": [
       "<div>\n",
       "<style scoped>\n",
       "    .dataframe tbody tr th:only-of-type {\n",
       "        vertical-align: middle;\n",
       "    }\n",
       "\n",
       "    .dataframe tbody tr th {\n",
       "        vertical-align: top;\n",
       "    }\n",
       "\n",
       "    .dataframe thead th {\n",
       "        text-align: right;\n",
       "    }\n",
       "</style>\n",
       "<table border=\"1\" class=\"dataframe\">\n",
       "  <thead>\n",
       "    <tr style=\"text-align: right;\">\n",
       "      <th></th>\n",
       "      <th>acceleration#mean</th>\n",
       "      <th>acceleration#min</th>\n",
       "      <th>acceleration#max</th>\n",
       "      <th>acceleration#std</th>\n",
       "      <th>gyroscope#mean</th>\n",
       "      <th>gyroscope#min</th>\n",
       "      <th>gyroscope#max</th>\n",
       "      <th>gyroscope#std</th>\n",
       "      <th>magnetometer#mean</th>\n",
       "      <th>magnetometer#min</th>\n",
       "      <th>magnetometer#max</th>\n",
       "      <th>magnetometer#std</th>\n",
       "    </tr>\n",
       "  </thead>\n",
       "  <tbody>\n",
       "    <tr>\n",
       "      <th>0</th>\n",
       "      <td>1.109436</td>\n",
       "      <td>0.999442</td>\n",
       "      <td>1.269833</td>\n",
       "      <td>0.129128</td>\n",
       "      <td>91.154186</td>\n",
       "      <td>16.448503</td>\n",
       "      <td>165.706371</td>\n",
       "      <td>55.584225</td>\n",
       "      <td>0.002898</td>\n",
       "      <td>0.002898</td>\n",
       "      <td>0.002899</td>\n",
       "      <td>5.710746e-07</td>\n",
       "    </tr>\n",
       "    <tr>\n",
       "      <th>1</th>\n",
       "      <td>1.010262</td>\n",
       "      <td>0.423690</td>\n",
       "      <td>1.322665</td>\n",
       "      <td>0.211740</td>\n",
       "      <td>126.618599</td>\n",
       "      <td>33.911102</td>\n",
       "      <td>522.127682</td>\n",
       "      <td>125.834939</td>\n",
       "      <td>0.002897</td>\n",
       "      <td>0.002896</td>\n",
       "      <td>0.002898</td>\n",
       "      <td>5.297384e-07</td>\n",
       "    </tr>\n",
       "    <tr>\n",
       "      <th>2</th>\n",
       "      <td>1.043609</td>\n",
       "      <td>0.954861</td>\n",
       "      <td>1.513513</td>\n",
       "      <td>0.128770</td>\n",
       "      <td>54.778493</td>\n",
       "      <td>14.772970</td>\n",
       "      <td>223.296800</td>\n",
       "      <td>50.843010</td>\n",
       "      <td>0.002898</td>\n",
       "      <td>0.002898</td>\n",
       "      <td>0.002899</td>\n",
       "      <td>3.626037e-07</td>\n",
       "    </tr>\n",
       "    <tr>\n",
       "      <th>3</th>\n",
       "      <td>1.024598</td>\n",
       "      <td>0.675534</td>\n",
       "      <td>1.379391</td>\n",
       "      <td>0.167400</td>\n",
       "      <td>57.362835</td>\n",
       "      <td>22.040976</td>\n",
       "      <td>156.802970</td>\n",
       "      <td>33.946071</td>\n",
       "      <td>0.002899</td>\n",
       "      <td>0.002898</td>\n",
       "      <td>0.002899</td>\n",
       "      <td>3.705598e-07</td>\n",
       "    </tr>\n",
       "    <tr>\n",
       "      <th>4</th>\n",
       "      <td>1.005966</td>\n",
       "      <td>0.674840</td>\n",
       "      <td>1.566321</td>\n",
       "      <td>0.192342</td>\n",
       "      <td>46.481485</td>\n",
       "      <td>1.529261</td>\n",
       "      <td>105.839964</td>\n",
       "      <td>27.824679</td>\n",
       "      <td>0.002898</td>\n",
       "      <td>0.002898</td>\n",
       "      <td>0.002899</td>\n",
       "      <td>4.801102e-07</td>\n",
       "    </tr>\n",
       "  </tbody>\n",
       "</table>\n",
       "</div>"
      ],
      "text/plain": [
       "   acceleration#mean  acceleration#min  acceleration#max  acceleration#std  \\\n",
       "0           1.109436          0.999442          1.269833          0.129128   \n",
       "1           1.010262          0.423690          1.322665          0.211740   \n",
       "2           1.043609          0.954861          1.513513          0.128770   \n",
       "3           1.024598          0.675534          1.379391          0.167400   \n",
       "4           1.005966          0.674840          1.566321          0.192342   \n",
       "\n",
       "   gyroscope#mean  gyroscope#min  gyroscope#max  gyroscope#std  \\\n",
       "0       91.154186      16.448503     165.706371      55.584225   \n",
       "1      126.618599      33.911102     522.127682     125.834939   \n",
       "2       54.778493      14.772970     223.296800      50.843010   \n",
       "3       57.362835      22.040976     156.802970      33.946071   \n",
       "4       46.481485       1.529261     105.839964      27.824679   \n",
       "\n",
       "   magnetometer#mean  magnetometer#min  magnetometer#max  magnetometer#std  \n",
       "0           0.002898          0.002898          0.002899      5.710746e-07  \n",
       "1           0.002897          0.002896          0.002898      5.297384e-07  \n",
       "2           0.002898          0.002898          0.002899      3.626037e-07  \n",
       "3           0.002899          0.002898          0.002899      3.705598e-07  \n",
       "4           0.002898          0.002898          0.002899      4.801102e-07  "
      ]
     },
     "execution_count": 13,
     "metadata": {},
     "output_type": "execute_result"
    }
   ],
   "source": [
    "X.head()"
   ]
  },
  {
   "cell_type": "code",
   "execution_count": 14,
   "metadata": {},
   "outputs": [
    {
     "data": {
      "text/plain": [
       "0    0\n",
       "1    0\n",
       "2    0\n",
       "3    0\n",
       "4    0\n",
       "Name: activity, dtype: int64"
      ]
     },
     "execution_count": 14,
     "metadata": {},
     "output_type": "execute_result"
    }
   ],
   "source": [
    "y.head()"
   ]
  },
  {
   "cell_type": "markdown",
   "metadata": {},
   "source": [
    "# Podział na dane testowe i treningowe"
   ]
  },
  {
   "cell_type": "code",
   "execution_count": 15,
   "metadata": {},
   "outputs": [],
   "source": [
    "# 20% danych do testów\n",
    "kf = StratifiedKFold(n_splits = 5, shuffle = True, random_state = odp)\n",
    "result = next(kf.split(X, y))\n",
    "\n",
    "'''\n",
    "Podział danych z całego df na podstawie splitu\n",
    "\n",
    "train - 80% danych(4714)\n",
    "test  - 20% danych(1179)\n",
    "'''\n",
    "train = df.iloc[result[0]]\n",
    "test =  df.iloc[result[1]]\n",
    "\n",
    "'''\n",
    "Podział na X_train, y_train, X_test, y_test\n",
    "\n",
    "X_train, X_test - bez 'activity'\n",
    "y_train, y_test - sam 'activity' dla X_train, X_test\n",
    "'''\n",
    "X_train = train.drop('activity', axis = 1)\n",
    "y_train = train.activity\n",
    "\n",
    "X_test = test.drop('activity', axis = 1)\n",
    "y_test = test.activity"
   ]
  },
  {
   "cell_type": "code",
   "execution_count": 16,
   "metadata": {},
   "outputs": [
    {
     "name": "stdout",
     "output_type": "stream",
     "text": [
      "Kształt danych:\n",
      "\t df: (1055, 13)\n",
      "\t X_train: (844, 12)\n",
      "\t y_train: (844,)\n",
      "\t X_test: (211, 12)\n",
      "\t y_test: (211,)\n"
     ]
    }
   ],
   "source": [
    "print(f'Kształt danych:')\n",
    "print(f'\\t df: {df.shape}')\n",
    "\n",
    "print(f'\\t X_train: {X_train.shape}')\n",
    "print(f'\\t y_train: {y_train.shape}')\n",
    "\n",
    "print(f'\\t X_test: {X_test.shape}')\n",
    "print(f'\\t y_test: {y_test.shape}')"
   ]
  },
  {
   "cell_type": "code",
   "execution_count": 17,
   "metadata": {},
   "outputs": [],
   "source": [
    "# Konwersja danych z pandas dataframe do numpy\n",
    "\n",
    "df = df.to_numpy()\n",
    "\n",
    "X_train = X_train.to_numpy()\n",
    "y_train = y_train.to_numpy()\n",
    "\n",
    "X_test = X_test.to_numpy()\n",
    "y_test = y_test.to_numpy()"
   ]
  },
  {
   "cell_type": "code",
   "execution_count": 18,
   "metadata": {},
   "outputs": [],
   "source": [
    "# Upewnienie się że dane w X_train i X_test są floatem - lepsze dla klasyfikatora\n",
    "\n",
    "X_train = X_train.astype('float32')\n",
    "X_test = X_test.astype('float32')"
   ]
  },
  {
   "cell_type": "code",
   "execution_count": 19,
   "metadata": {},
   "outputs": [],
   "source": [
    "num_classes = 5\n",
    "\n",
    "# Zamiana wpisu z [1] na [0, 1, 0, 0, 0]\n",
    "y_train = to_categorical(y_train, num_classes)\n",
    "y_test = to_categorical(y_test, num_classes)"
   ]
  },
  {
   "cell_type": "code",
   "execution_count": 20,
   "metadata": {},
   "outputs": [],
   "source": [
    "# Upewnienie się że dane w y_train i y_test są floatem - lepsze dla klasyfikatora\n",
    "\n",
    "y_train = y_train.astype('float32')\n",
    "y_test = y_test.astype('float32')"
   ]
  },
  {
   "cell_type": "code",
   "execution_count": 21,
   "metadata": {},
   "outputs": [
    {
     "name": "stdout",
     "output_type": "stream",
     "text": [
      "Kształt danych:\n",
      "\t df: (1055, 13)\n",
      "\t X_train: (844, 12)\n",
      "\t y_train: (844, 5)\n",
      "\t X_test: (211, 12)\n",
      "\t y_test: (211, 5)\n"
     ]
    }
   ],
   "source": [
    "print(f'Kształt danych:')\n",
    "print(f'\\t df: {df.shape}')\n",
    "\n",
    "print(f'\\t X_train: {X_train.shape}')\n",
    "print(f'\\t y_train: {y_train.shape}')\n",
    "\n",
    "print(f'\\t X_test: {X_test.shape}')\n",
    "print(f'\\t y_test: {y_test.shape}')"
   ]
  },
  {
   "cell_type": "markdown",
   "metadata": {},
   "source": [
    "# Zmiana wymiarowości"
   ]
  },
  {
   "cell_type": "code",
   "execution_count": 22,
   "metadata": {},
   "outputs": [
    {
     "name": "stdout",
     "output_type": "stream",
     "text": [
      "Kształt danych:\n",
      "\t df: (1055, 13)\n",
      "\t X_train: (844, 12)\n",
      "\t y_train: (844, 5)\n",
      "\t X_test: (211, 12)\n",
      "\t y_test: (211, 5)\n"
     ]
    }
   ],
   "source": [
    "'''\n",
    "LSTM potrzebuje wymiarów w 3D\n",
    "\n",
    "Input shape:\n",
    " - Samples - jedna sekwwncja to sampel\n",
    " - Time steps - punkt obserwacji w próbce\n",
    " - Features - jedna obserwacja w punkcie\n",
    " \n",
    "X_train to ~843 próbek, po 1 timestampie w każdej i 13 zmiennych w środku\n",
    "'''\n",
    "print(f'Kształt danych:')\n",
    "print(f'\\t df: {df.shape}')\n",
    "\n",
    "print(f'\\t X_train: {X_train.shape}')\n",
    "print(f'\\t y_train: {y_train.shape}')\n",
    "\n",
    "print(f'\\t X_test: {X_test.shape}')\n",
    "print(f'\\t y_test: {y_test.shape}')"
   ]
  },
  {
   "cell_type": "code",
   "execution_count": 23,
   "metadata": {},
   "outputs": [],
   "source": [
    "X_train = numpy.expand_dims(X_train, axis=1)\n",
    "y_train = numpy.expand_dims(y_train, axis=1)\n",
    "\n",
    "X_test = numpy.expand_dims(X_test, axis=1)\n",
    "y_test = numpy.expand_dims(y_test, axis=1)"
   ]
  },
  {
   "cell_type": "code",
   "execution_count": 24,
   "metadata": {},
   "outputs": [
    {
     "name": "stdout",
     "output_type": "stream",
     "text": [
      "Kształt danych:\n",
      "\t df: (1055, 13)\n",
      "\t X_train: (844, 1, 12)\n",
      "\t y_train: (844, 1, 5)\n",
      "\t X_test: (211, 1, 12)\n",
      "\t y_test: (211, 1, 5)\n"
     ]
    }
   ],
   "source": [
    "print(f'Kształt danych:')\n",
    "print(f'\\t df: {df.shape}')\n",
    "\n",
    "print(f'\\t X_train: {X_train.shape}')\n",
    "print(f'\\t y_train: {y_train.shape}')\n",
    "\n",
    "print(f'\\t X_test: {X_test.shape}')\n",
    "print(f'\\t y_test: {y_test.shape}')"
   ]
  },
  {
   "cell_type": "code",
   "execution_count": 25,
   "metadata": {},
   "outputs": [
    {
     "data": {
      "text/plain": [
       "(844, 1, 12)"
      ]
     },
     "execution_count": 25,
     "metadata": {},
     "output_type": "execute_result"
    }
   ],
   "source": [
    "X_train.shape"
   ]
  },
  {
   "cell_type": "markdown",
   "metadata": {},
   "source": [
    "# Funkcję liczące statystyki"
   ]
  },
  {
   "cell_type": "code",
   "execution_count": 26,
   "metadata": {},
   "outputs": [],
   "source": [
    "from keras.callbacks import Callback, ModelCheckpoint, EarlyStopping, ReduceLROnPlateau\n",
    "from keras.models import load_model\n",
    "from keras.layers import Dense, Dropout\n",
    "from keras.wrappers.scikit_learn import KerasClassifier\n",
    "import keras.backend as K\n",
    "from sklearn.metrics import confusion_matrix, accuracy_score, precision_score\n",
    "from sklearn.metrics import recall_score, f1_score, roc_auc_score"
   ]
  },
  {
   "cell_type": "code",
   "execution_count": 27,
   "metadata": {},
   "outputs": [],
   "source": [
    "def countStats(_y_true, _y_pred):\n",
    "    accuracy = accuracy_score(_y_true, _y_pred, normalize=True)\n",
    "    precision = precision_score(_y_true, _y_pred, average='weighted')\n",
    "    recall = recall_score(_y_true, _y_pred, average='weighted')\n",
    "    fscore = f1_score(_y_true, _y_pred, average='weighted')\n",
    "    \n",
    "    return accuracy, precision, recall, fscore"
   ]
  },
  {
   "cell_type": "code",
   "execution_count": 28,
   "metadata": {},
   "outputs": [],
   "source": [
    "'''\n",
    "Źrodło:\n",
    "https://medium.com/@aakashgoel12/how-to-add-user-defined-function-get-f1-score-in-keras-metrics-3013f979ce0d\n",
    "'''\n",
    "\n",
    "def get_f1(y_true, y_pred):\n",
    "    true_positives = K.sum(K.round(K.clip(y_true * y_pred, 0, 1)))\n",
    "    possible_positives = K.sum(K.round(K.clip(y_true, 0, 1)))\n",
    "    predicted_positives = K.sum(K.round(K.clip(y_pred, 0, 1)))\n",
    "    precision = true_positives / (predicted_positives + K.epsilon())\n",
    "    recall = true_positives / (possible_positives + K.epsilon())\n",
    "    f1_val = 2*(precision*recall)/(precision+recall+K.epsilon())\n",
    "    \n",
    "    return f1_val"
   ]
  },
  {
   "cell_type": "code",
   "execution_count": 29,
   "metadata": {},
   "outputs": [],
   "source": [
    "from mlxtend.plotting import plot_confusion_matrix\n",
    "\n",
    "def plot_cm(cm, classes):\n",
    "    plot_confusion_matrix(conf_mat=cm,\n",
    "                          colorbar=True, \n",
    "                          show_absolute=False,\n",
    "                          show_normed=True,\n",
    "                          class_names=classes)"
   ]
  },
  {
   "cell_type": "code",
   "execution_count": 30,
   "metadata": {},
   "outputs": [],
   "source": [
    "'''\n",
    "cb_early_stopper - skończenie uczenia kiedy val_loss nie będzie się poprawiać przez 10 epok\n",
    "cb_checkpointer - zapis modelu do pliku 'best.h5' modeli o najlepszym(najmniejszym) val_loss\n",
    "cb_learning_rate_reduction - zmniejszenie LR jeśli val_loss nie będzie się poprawiać przez 5 epok\n",
    "'''\n",
    "\n",
    "EARLY_STOP_PATIENCE = 10\n",
    "LEARNING_RATE_PATIENCE = 5\n",
    "\n",
    "cb_early_stopper = EarlyStopping(monitor = 'val_loss', patience = EARLY_STOP_PATIENCE, verbose=1)\n",
    "cb_checkpointer = ModelCheckpoint(filepath = 'best.h5', monitor = 'val_loss', save_best_only = True, verbose=1)\n",
    "cb_learning_rate_reduction = ReduceLROnPlateau(monitor='val_loss', patience=LEARNING_RATE_PATIENCE, verbose=1)"
   ]
  },
  {
   "cell_type": "markdown",
   "metadata": {},
   "source": [
    "# Dobór parametrów"
   ]
  },
  {
   "cell_type": "code",
   "execution_count": 31,
   "metadata": {
    "scrolled": true
   },
   "outputs": [
    {
     "name": "stdout",
     "output_type": "stream",
     "text": [
      "Fitting 3 folds for each of 768 candidates, totalling 2304 fits\n"
     ]
    },
    {
     "name": "stderr",
     "output_type": "stream",
     "text": [
      "[Parallel(n_jobs=-1)]: Using backend LokyBackend with 12 concurrent workers.\n",
      "[Parallel(n_jobs=-1)]: Done  26 tasks      | elapsed:   33.1s\n",
      "[Parallel(n_jobs=-1)]: Done 176 tasks      | elapsed:  4.1min\n",
      "[Parallel(n_jobs=-1)]: Done 426 tasks      | elapsed: 17.5min\n",
      "[Parallel(n_jobs=-1)]: Done 776 tasks      | elapsed: 27.1min\n",
      "[Parallel(n_jobs=-1)]: Done 1226 tasks      | elapsed: 46.4min\n",
      "[Parallel(n_jobs=-1)]: Done 1776 tasks      | elapsed: 64.4min\n",
      "[Parallel(n_jobs=-1)]: Done 2304 out of 2304 | elapsed: 86.6min finished\n"
     ]
    },
    {
     "name": "stdout",
     "output_type": "stream",
     "text": [
      "Epoch 1/10\n",
      "844/844 [==============================] - 0s 566us/step - loss: 2.1940 - accuracy: 0.5142\n",
      "Epoch 2/10\n",
      "844/844 [==============================] - 0s 58us/step - loss: 1.6402 - accuracy: 0.6185\n",
      "Epoch 3/10\n",
      "844/844 [==============================] - 0s 58us/step - loss: 1.3071 - accuracy: 0.6493\n",
      "Epoch 4/10\n",
      "844/844 [==============================] - 0s 59us/step - loss: 1.1806 - accuracy: 0.6445\n",
      "Epoch 5/10\n",
      "844/844 [==============================] - 0s 57us/step - loss: 1.0010 - accuracy: 0.6647\n",
      "Epoch 6/10\n",
      "844/844 [==============================] - 0s 56us/step - loss: 0.9818 - accuracy: 0.6576\n",
      "Epoch 7/10\n",
      "844/844 [==============================] - 0s 57us/step - loss: 0.9891 - accuracy: 0.6647\n",
      "Epoch 8/10\n",
      "844/844 [==============================] - 0s 55us/step - loss: 0.9493 - accuracy: 0.6647\n",
      "Epoch 9/10\n",
      "844/844 [==============================] - 0s 57us/step - loss: 0.9354 - accuracy: 0.6659\n",
      "Epoch 10/10\n",
      "844/844 [==============================] - 0s 56us/step - loss: 0.9041 - accuracy: 0.6813\n",
      "Najlepsze acc: 0.562782 używając {'activation': 'relu', 'batch_size': None, 'dropout_rate': 0.1, 'epochs': 10, 'optimizer': 'Adadelta'}\n"
     ]
    }
   ],
   "source": [
    "from sklearn.model_selection import GridSearchCV\n",
    "from keras.wrappers.scikit_learn import KerasClassifier\n",
    "from keras.layers import Dense, Dropout, Reshape\n",
    "\n",
    "'''\n",
    "W tym wypadku do modelu dodaje linię:\n",
    "    model.add(Reshape((5, )))\n",
    "    \n",
    "By zmienić wynik z one-hot encodera na pojedynczy wynik - GridSearch nie umożliwia, by y było w 3D,\n",
    "stąd konwersja do 2D\n",
    "'''\n",
    "def create_model(optimizer='adam', dropout_rate=0.0, activation='tanh'):\n",
    "    model = Sequential()\n",
    "    model.add(LSTM(128, activation=activation, dropout=dropout_rate, return_sequences=True))\n",
    "    model.add(Dense(5, activation='softmax'))\n",
    "    model.add(Reshape((5, )))\n",
    "    model.compile(loss='categorical_crossentropy', optimizer=optimizer, metrics=['accuracy'])\n",
    "    return model\n",
    "\n",
    "# Scikit wrapper na Kerasowy klasyfikator\n",
    "model_wrapper = KerasClassifier(build_fn=create_model, verbose=1)\n",
    "\n",
    "# Przeszukiwane zmienne\n",
    "batch_size = [None, 10, 20, 40]\n",
    "epochs = [10, 50, 100, 200]\n",
    "optimizer = ['SGD', 'RMSprop', 'Adadelta', 'Adam']\n",
    "activation = ['relu', 'tanh', 'sigmoid']\n",
    "dropout_rate = [0.0, 0.1, 0.2, 0.3]\n",
    "\n",
    "\n",
    "param_grid = dict(batch_size=batch_size, \n",
    "                  epochs=epochs, \n",
    "                  optimizer=optimizer, \n",
    "                  activation=activation, \n",
    "                  dropout_rate=dropout_rate)\n",
    "grid = GridSearchCV(estimator=model_wrapper, param_grid=param_grid, n_jobs=-1, cv=3, verbose=1)\n",
    "grid_result = grid.fit(X_train, numpy.squeeze(y_train, axis=1))\n",
    "\n",
    "print(\"Najlepsze acc: %f używając %s\" % (grid_result.best_score_, grid_result.best_params_))"
   ]
  },
  {
   "cell_type": "code",
   "execution_count": 32,
   "metadata": {
    "scrolled": true
   },
   "outputs": [
    {
     "data": {
      "text/plain": [
       "{'activation': 'relu',\n",
       " 'batch_size': None,\n",
       " 'dropout_rate': 0.1,\n",
       " 'epochs': 10,\n",
       " 'optimizer': 'Adadelta'}"
      ]
     },
     "execution_count": 32,
     "metadata": {},
     "output_type": "execute_result"
    }
   ],
   "source": [
    "# Wyniki!\n",
    "grid_result.best_params_"
   ]
  },
  {
   "cell_type": "markdown",
   "metadata": {},
   "source": [
    "# Model"
   ]
  },
  {
   "cell_type": "code",
   "execution_count": 33,
   "metadata": {},
   "outputs": [],
   "source": [
    "# Stałe do monitorowania pracy modelu zgodne z Grid Searchem\n",
    "\n",
    "epochs = grid_result.best_params_['epochs']\n",
    "batch_size = grid_result.best_params_['batch_size']\n",
    "optimizer = grid_result.best_params_['optimizer']\n",
    "activation = grid_result.best_params_['activation']\n",
    "dropout = grid_result.best_params_['dropout_rate']\n",
    "loss_type = 'categorical_crossentropy'\n",
    "LSTM_size = 128"
   ]
  },
  {
   "cell_type": "code",
   "execution_count": 34,
   "metadata": {},
   "outputs": [
    {
     "name": "stdout",
     "output_type": "stream",
     "text": [
      "Model: \"sequential_2\"\n",
      "_________________________________________________________________\n",
      "Layer (type)                 Output Shape              Param #   \n",
      "=================================================================\n",
      "lstm_2 (LSTM)                (None, 1, 128)            72192     \n",
      "_________________________________________________________________\n",
      "dense_2 (Dense)              (None, 1, 5)              645       \n",
      "=================================================================\n",
      "Total params: 72,837\n",
      "Trainable params: 72,837\n",
      "Non-trainable params: 0\n",
      "_________________________________________________________________\n"
     ]
    }
   ],
   "source": [
    "model = Sequential()\n",
    "model.add(LSTM(LSTM_size, input_shape=(X_train.shape[1], X_train.shape[2]) , return_sequences=True))\n",
    "model.add(Dense(5, activation='softmax'))\n",
    "\n",
    "model.summary()"
   ]
  },
  {
   "cell_type": "code",
   "execution_count": 35,
   "metadata": {},
   "outputs": [
    {
     "name": "stdout",
     "output_type": "stream",
     "text": [
      "Train on 844 samples, validate on 211 samples\n",
      "Epoch 1/10\n",
      "844/844 [==============================] - 0s 483us/step - loss: 1.3514 - accuracy: 0.5415 - get_f1: 0.0797 - val_loss: 1.1218 - val_accuracy: 0.6540 - val_get_f1: 0.3470\n",
      "\n",
      "Epoch 00001: val_loss improved from inf to 1.12176, saving model to best.h5\n",
      "Epoch 2/10\n",
      "844/844 [==============================] - 0s 64us/step - loss: 1.0616 - accuracy: 0.6576 - get_f1: 0.5593 - val_loss: 1.0028 - val_accuracy: 0.6493 - val_get_f1: 0.5064\n",
      "\n",
      "Epoch 00002: val_loss improved from 1.12176 to 1.00280, saving model to best.h5\n",
      "Epoch 3/10\n",
      "844/844 [==============================] - 0s 62us/step - loss: 0.9691 - accuracy: 0.6718 - get_f1: 0.6434 - val_loss: 0.9566 - val_accuracy: 0.6588 - val_get_f1: 0.6105\n",
      "\n",
      "Epoch 00003: val_loss improved from 1.00280 to 0.95660, saving model to best.h5\n",
      "Epoch 4/10\n",
      "844/844 [==============================] - 0s 64us/step - loss: 0.9345 - accuracy: 0.6671 - get_f1: 0.6458 - val_loss: 0.9234 - val_accuracy: 0.6445 - val_get_f1: 0.6232\n",
      "\n",
      "Epoch 00004: val_loss improved from 0.95660 to 0.92345, saving model to best.h5\n",
      "Epoch 5/10\n",
      "844/844 [==============================] - 0s 66us/step - loss: 0.9001 - accuracy: 0.6765 - get_f1: 0.6511 - val_loss: 0.9118 - val_accuracy: 0.6540 - val_get_f1: 0.6186\n",
      "\n",
      "Epoch 00005: val_loss improved from 0.92345 to 0.91177, saving model to best.h5\n",
      "Epoch 6/10\n",
      "844/844 [==============================] - 0s 64us/step - loss: 0.8864 - accuracy: 0.6742 - get_f1: 0.6687 - val_loss: 0.8929 - val_accuracy: 0.6588 - val_get_f1: 0.6339\n",
      "\n",
      "Epoch 00006: val_loss improved from 0.91177 to 0.89289, saving model to best.h5\n",
      "Epoch 7/10\n",
      "844/844 [==============================] - 0s 62us/step - loss: 0.8765 - accuracy: 0.6647 - get_f1: 0.6743 - val_loss: 0.9085 - val_accuracy: 0.6825 - val_get_f1: 0.5907\n",
      "\n",
      "Epoch 00007: val_loss did not improve from 0.89289\n",
      "Epoch 8/10\n",
      "844/844 [==============================] - 0s 62us/step - loss: 0.8652 - accuracy: 0.6801 - get_f1: 0.6656 - val_loss: 0.8734 - val_accuracy: 0.6445 - val_get_f1: 0.6382\n",
      "\n",
      "Epoch 00008: val_loss improved from 0.89289 to 0.87340, saving model to best.h5\n",
      "Epoch 9/10\n",
      "844/844 [==============================] - 0s 63us/step - loss: 0.8527 - accuracy: 0.6896 - get_f1: 0.6680 - val_loss: 0.8809 - val_accuracy: 0.6540 - val_get_f1: 0.6444\n",
      "\n",
      "Epoch 00009: val_loss did not improve from 0.87340\n",
      "Epoch 10/10\n",
      "844/844 [==============================] - 0s 64us/step - loss: 0.8434 - accuracy: 0.6896 - get_f1: 0.6721 - val_loss: 0.8761 - val_accuracy: 0.6919 - val_get_f1: 0.5786\n",
      "\n",
      "Epoch 00010: val_loss did not improve from 0.87340\n"
     ]
    }
   ],
   "source": [
    "model.compile(loss=loss_type, optimizer=optimizer, metrics=['accuracy', get_f1])\n",
    "\n",
    "history = model.fit(x=X_train,\n",
    "                    y=y_train,\n",
    "                    validation_data=(X_test, y_test),\n",
    "                    epochs=epochs,\n",
    "                    batch_size=batch_size, \n",
    "                    callbacks=[cb_checkpointer, cb_early_stopper, cb_learning_rate_reduction])\n",
    "\n",
    "# Wczytanie najlepszego\n",
    "model.load_weights('best.h5')\n",
    "\n",
    "# Zapis do nowego pliku\n",
    "model.save('the_best.h5')"
   ]
  },
  {
   "cell_type": "markdown",
   "metadata": {},
   "source": [
    "# Statystyki"
   ]
  },
  {
   "cell_type": "code",
   "execution_count": 36,
   "metadata": {},
   "outputs": [
    {
     "data": {
      "image/png": "[encoded data removed]",
      "text/plain": [
       "<Figure size 864x864 with 3 Axes>"
      ]
     },
     "metadata": {
      "needs_background": "light"
     },
     "output_type": "display_data"
    },
    {
     "name": "stdout",
     "output_type": "stream",
     "text": [
      "Test loss: 0.873\n",
      "Test accuracy: 0.645\n",
      "Test F1: 0.638\n"
     ]
    }
   ],
   "source": [
    "loss, accuracy, get_f1  = model.evaluate(X_test, y_test, verbose=False)\n",
    "\n",
    "fig, (ax1, ax2, ax3) = plt.subplots(3, 1, figsize=(12, 12))\n",
    "\n",
    "# Wykres loss\n",
    "ax1.plot(history.history['loss'], color='b', label=\"Training loss\")\n",
    "ax1.plot(history.history['val_loss'], color='r', label=\"Validation loss\")\n",
    "ax1.set_xticks(numpy.arange(0, len(history.history['val_loss']), 1))\n",
    "ax1.legend(loc='best', shadow=True)\n",
    "ax1.set_ylabel('loss')\n",
    "ax1.set_xlabel('epoch')\n",
    "\n",
    "# Wykres accuracy\n",
    "ax2.plot(history.history['accuracy'], color='b', label=\"Training accuracy\")\n",
    "ax2.plot(history.history['val_accuracy'], color='r',label=\"Validation accuracy\")\n",
    "ax2.set_xticks(numpy.arange(0, len(history.history['val_accuracy']), 1))\n",
    "ax2.legend(loc='best', shadow=True)\n",
    "ax2.set_ylabel('accuracy')\n",
    "ax2.set_xlabel('epoch')\n",
    "\n",
    "# Wykres F1\n",
    "ax3.plot(history.history['get_f1'], color='b', label=\"Training f1\")\n",
    "ax3.plot(history.history['val_get_f1'], color='r',label=\"Validation f1\")\n",
    "ax3.set_xticks(numpy.arange(0, len(history.history['get_f1']), 1))\n",
    "ax3.legend(loc='best', shadow=True)\n",
    "ax3.set_ylabel('f1')\n",
    "ax3.set_xlabel('epoch')\n",
    "\n",
    "\n",
    "plt.tight_layout()\n",
    "plt.show()\n",
    "\n",
    "print(f'Test loss: {loss:.3}')\n",
    "print(f'Test accuracy: {accuracy:.3}')\n",
    "print(f'Test F1: {get_f1:.3}')\n"
   ]
  },
  {
   "cell_type": "code",
   "execution_count": 37,
   "metadata": {},
   "outputs": [],
   "source": [
    "predictions = model.predict(X_test)"
   ]
  },
  {
   "cell_type": "code",
   "execution_count": 38,
   "metadata": {},
   "outputs": [],
   "source": [
    "# Predykcje są zakodowane w one-hot encoderze, to zamienia wyjście na maxa i zmienia kształt na tabele\n",
    "\n",
    "predictions = numpy.array(list(map(lambda x: numpy.where(x == numpy.amax(x))[1], predictions)))\n",
    "predictions = numpy.reshape(predictions, (y_test.shape[0],))\n",
    "\n",
    "y_pred = predictions"
   ]
  },
  {
   "cell_type": "code",
   "execution_count": 39,
   "metadata": {},
   "outputs": [],
   "source": [
    "# Etykieta activity jest zakodowana w one-hot encoderze, to zamienia wyjście na maxa i zmienia kształt na tabele\n",
    "tmp = numpy.array(list(map(lambda x: numpy.where(x == numpy.amax(x))[1], y_test)))\n",
    "tmp = numpy.reshape(tmp, (y_test.shape[0],))\n",
    "\n",
    "y_true = tmp"
   ]
  },
  {
   "cell_type": "code",
   "execution_count": 40,
   "metadata": {},
   "outputs": [],
   "source": [
    "cm = confusion_matrix(y_true, y_pred)"
   ]
  },
  {
   "cell_type": "code",
   "execution_count": 41,
   "metadata": {},
   "outputs": [
    {
     "data": {
      "image/png": "[encoded data removed]",
      "text/plain": [
       "<Figure size 432x288 with 2 Axes>"
      ]
     },
     "metadata": {
      "needs_background": "light"
     },
     "output_type": "display_data"
    }
   ],
   "source": [
    "plot_cm(cm, ['cooking', 'driving', 'sitting', 'sport', 'walking'])"
   ]
  },
  {
   "cell_type": "code",
   "execution_count": 42,
   "metadata": {},
   "outputs": [
    {
     "name": "stdout",
     "output_type": "stream",
     "text": [
      "[[  0   0   2   0   9]\n",
      " [  0   0  15   0   2]\n",
      " [  0   1 100   0   5]\n",
      " [  0   0   0   0  21]\n",
      " [  0   0  20   0  36]]\n"
     ]
    }
   ],
   "source": [
    "print(cm)"
   ]
  },
  {
   "cell_type": "code",
   "execution_count": 43,
   "metadata": {},
   "outputs": [
    {
     "name": "stdout",
     "output_type": "stream",
     "text": [
      "Accuracy: 0.6445497630331753\n",
      "Precision: 0.49757678260609955\n",
      "Recall: 0.6445497630331753\n",
      "F-score: 0.5616047976653925\n"
     ]
    },
    {
     "name": "stderr",
     "output_type": "stream",
     "text": [
      "d:\\programs\\python37\\lib\\site-packages\\sklearn\\metrics\\_classification.py:1272: UndefinedMetricWarning: Precision is ill-defined and being set to 0.0 in labels with no predicted samples. Use `zero_division` parameter to control this behavior.\n",
      "  _warn_prf(average, modifier, msg_start, len(result))\n"
     ]
    }
   ],
   "source": [
    "accuracy, precision, recall, fscore = countStats(y_true, y_pred)\n",
    "print(f'Accuracy: {accuracy}\\nPrecision: {precision}\\nRecall: {recall}\\nF-score: {fscore}')"
   ]
  },
  {
   "cell_type": "code",
   "execution_count": 44,
   "metadata": {},
   "outputs": [
    {
     "data": {
      "image/png": "[encoded data removed]",
      "text/plain": [
       "<Figure size 720x1080 with 6 Axes>"
      ]
     },
     "metadata": {
      "needs_background": "light"
     },
     "output_type": "display_data"
    },
    {
     "name": "stdout",
     "output_type": "stream",
     "text": [
      "Epoch 1/1\n",
      "16/16 [==============================] - 0s 18ms/step - loss: 1.6849 - accuracy: 0.0000e+00\n",
      "43/43 [==============================] - 0s 1ms/step\n",
      "16/16 [==============================] - 0s 63us/step\n",
      "Epoch 1/1\n",
      "54/54 [==============================] - 0s 4ms/step - loss: 1.7091 - accuracy: 0.0185\n",
      "43/43 [==============================] - 0s 1ms/step\n",
      "54/54 [==============================] - 0s 37us/step\n",
      "Epoch 1/1\n",
      "92/92 [==============================] - 0s 3ms/step - loss: 1.1786 - accuracy: 0.9891\n",
      "43/43 [==============================] - 0s 1ms/step\n",
      "92/92 [==============================] - 0s 33us/step\n",
      "Epoch 1/1\n",
      "130/130 [==============================] - 0s 2ms/step - loss: 1.6024 - accuracy: 0.4846\n",
      "43/43 [==============================] - 0s 1ms/step\n",
      "130/130 [==============================] - 0s 31us/step\n",
      "Epoch 1/1\n",
      "168/168 [==============================] - 0s 1ms/step - loss: 1.3959 - accuracy: 0.5833\n",
      "43/43 [==============================] - 0s 978us/step\n",
      "168/168 [==============================] - 0s 30us/step\n",
      "Epoch 1/1\n",
      "16/16 [==============================] - 0s 15ms/step - loss: 1.9030 - accuracy: 0.0000e+00\n",
      "42/42 [==============================] - 0s 1ms/step\n",
      "16/16 [==============================] - 0s 0us/step\n",
      "Epoch 1/1\n",
      "54/54 [==============================] - 0s 4ms/step - loss: 1.4284 - accuracy: 0.3333\n",
      "42/42 [==============================] - 0s 1ms/step\n",
      "54/54 [==============================] - 0s 37us/step\n",
      "Epoch 1/1\n",
      "92/92 [==============================] - 0s 3ms/step - loss: 1.6193 - accuracy: 0.0435\n",
      "42/42 [==============================] - 0s 1ms/step\n",
      "92/92 [==============================] - 0s 33us/step\n",
      "Epoch 1/1\n",
      "130/130 [==============================] - 0s 2ms/step - loss: 1.5250 - accuracy: 0.3000\n",
      "42/42 [==============================] - 0s 1ms/step\n",
      "130/130 [==============================] - 0s 31us/step\n",
      "Epoch 1/1\n",
      "168/168 [==============================] - 0s 1ms/step - loss: 1.6515 - accuracy: 0.3690\n",
      "42/42 [==============================] - 0s 1ms/step\n",
      "168/168 [==============================] - 0s 24us/step\n",
      "Epoch 1/1\n",
      "16/16 [==============================] - 0s 15ms/step - loss: 1.4095 - accuracy: 0.3125\n",
      "42/42 [==============================] - 0s 1ms/step\n",
      "16/16 [==============================] - 0s 0us/step\n",
      "Epoch 1/1\n",
      "54/54 [==============================] - 0s 4ms/step - loss: 1.8070 - accuracy: 0.0741\n",
      "42/42 [==============================] - 0s 1ms/step\n",
      "54/54 [==============================] - 0s 37us/step\n",
      "Epoch 1/1\n",
      "92/92 [==============================] - 0s 3ms/step - loss: 1.6494 - accuracy: 0.1848\n",
      "42/42 [==============================] - 0s 1ms/step\n",
      "92/92 [==============================] - 0s 33us/step\n",
      "Epoch 1/1\n",
      "130/130 [==============================] - 0s 2ms/step - loss: 1.7207 - accuracy: 0.2077\n",
      "42/42 [==============================] - 0s 1ms/step\n",
      "130/130 [==============================] - 0s 31us/step\n",
      "Epoch 1/1\n",
      "168/168 [==============================] - 0s 1ms/step - loss: 1.7456 - accuracy: 0.1726\n",
      "42/42 [==============================] - 0s 1ms/step\n",
      "168/168 [==============================] - 0s 30us/step\n",
      "Epoch 1/1\n",
      "16/16 [==============================] - 0s 15ms/step - loss: 1.9182 - accuracy: 0.1875\n",
      "42/42 [==============================] - 0s 1ms/step\n",
      "16/16 [==============================] - 0s 63us/step\n",
      "Epoch 1/1\n",
      "54/54 [==============================] - 0s 4ms/step - loss: 1.5631 - accuracy: 0.3148\n",
      "42/42 [==============================] - 0s 1ms/step\n",
      "54/54 [==============================] - 0s 56us/step\n",
      "Epoch 1/1\n",
      "92/92 [==============================] - 0s 3ms/step - loss: 1.7483 - accuracy: 0.0000e+00\n",
      "42/42 [==============================] - 0s 1ms/step\n",
      "92/92 [==============================] - 0s 33us/step\n",
      "Epoch 1/1\n",
      "130/130 [==============================] - 0s 2ms/step - loss: 1.7150 - accuracy: 0.2385\n",
      "42/42 [==============================] - 0s 1ms/step\n",
      "130/130 [==============================] - 0s 38us/step\n",
      "Epoch 1/1\n",
      "168/168 [==============================] - 0s 1ms/step - loss: 1.7241 - accuracy: 0.1786\n",
      "42/42 [==============================] - 0s 1ms/step\n",
      "168/168 [==============================] - 0s 24us/step\n",
      "Epoch 1/1\n",
      "16/16 [==============================] - 0s 16ms/step - loss: 1.8342 - accuracy: 0.0625\n",
      "42/42 [==============================] - 0s 1ms/step\n",
      "16/16 [==============================] - 0s 63us/step\n",
      "Epoch 1/1\n",
      "54/54 [==============================] - 0s 4ms/step - loss: 1.7534 - accuracy: 0.0185\n",
      "42/42 [==============================] - 0s 1ms/step\n",
      "54/54 [==============================] - 0s 56us/step\n",
      "Epoch 1/1\n",
      "92/92 [==============================] - 0s 3ms/step - loss: 1.6805 - accuracy: 0.3478\n",
      "42/42 [==============================] - 0s 1ms/step\n",
      "92/92 [==============================] - 0s 33us/step\n",
      "Epoch 1/1\n",
      "130/130 [==============================] - 0s 2ms/step - loss: 1.5889 - accuracy: 0.2923\n",
      "42/42 [==============================] - 0s 1ms/step\n",
      "130/130 [==============================] - 0s 38us/step\n",
      "Epoch 1/1\n",
      "168/168 [==============================] - 0s 2ms/step - loss: 1.5349 - accuracy: 0.3810\n",
      "42/42 [==============================] - 0s 1ms/step\n",
      "168/168 [==============================] - 0s 30us/step\n"
     ]
    },
    {
     "data": {
      "text/plain": [
       "<module 'matplotlib.pyplot' from 'C:\\\\Users\\\\zelec\\\\AppData\\\\Roaming\\\\Python\\\\Python37\\\\site-packages\\\\matplotlib\\\\pyplot.py'>"
      ]
     },
     "execution_count": 44,
     "metadata": {},
     "output_type": "execute_result"
    },
    {
     "data": {
      "image/png": "[encoded data removed]",
      "text/plain": [
       "<Figure size 1440x360 with 3 Axes>"
      ]
     },
     "metadata": {
      "needs_background": "light"
     },
     "output_type": "display_data"
    }
   ],
   "source": [
    "from utils.learning_curve import plot_learning_curve\n",
    "\n",
    "# Zbudowane na wrapperze + y_test ma zmiejszone wymiary by być zgodne z funkcją i samym modelem\n",
    "plot_learning_curve(model_wrapper, \"LSTM Krzywe uczenia\", X_test, numpy.squeeze(y_test, axis=1))"
   ]
  },
  {
   "cell_type": "code",
   "execution_count": null,
   "metadata": {},
   "outputs": [],
   "source": []
  }
 ],
 "metadata": {
  "kernelspec": {
   "display_name": "Python 3",
   "language": "python",
   "name": "python3"
  },
  "language_info": {
   "codemirror_mode": {
    "name": "ipython",
    "version": 3
   },
   "file_extension": ".py",
   "mimetype": "text/x-python",
   "name": "python",
   "nbconvert_exporter": "python",
   "pygments_lexer": "ipython3",
   "version": "3.7.4"
  }
 },
 "nbformat": 4,
 "nbformat_minor": 4
}
